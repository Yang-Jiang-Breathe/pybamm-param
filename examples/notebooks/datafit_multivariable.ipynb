{
 "cells": [
  {
   "attachments": {},
   "cell_type": "markdown",
   "id": "1ee4c0db",
   "metadata": {},
   "source": [
    "# **Parameter Optimisation for TSPMe model** \n",
    "\n",
    "# This example shows how to create a PyBaMM Model and how to optimise parameters for both Voltage and Temperature, Step by Step:\n",
    "\n",
    "This notebook is created to provide an example for ```data_fit``` optimisation problem. Selected PyBaMM parameters are optimised in this notebook. Voltage and average cell temperature are considered in the minimasiation algorithm.\n",
    "This can also be found in `scripts/multiple_variable_fit.py` as Python function. The workflow is as follows:\n"
   ]
  },
  {
   "cell_type": "code",
   "execution_count": 1,
   "id": "5ba4b709",
   "metadata": {},
   "outputs": [],
   "source": [
    "#%pip install git+https://github.com/paramm-team/pybamm-param.git -q # Can be used for Google Colab\n",
    "import os\n",
    "os.chdir(\"../..\")\n",
    "import pybamm\n",
    "import pbparam\n",
    "import pandas as pd\n",
    "import os\n",
    "\n",
    "os.chdir(os.path.join(pbparam.__path__[0], \"input\", \"data\")) # Path change"
   ]
  },
  {
   "attachments": {},
   "cell_type": "markdown",
   "id": "b3d21d9f",
   "metadata": {},
   "source": [
    "We start by importing the example experimental dataset which corresponds to the [Brosa Planella et al. (2021) article](https://www.sciencedirect.com/science/article/pii/S0013468621008148)."
   ]
  },
  {
   "cell_type": "code",
   "execution_count": 2,
   "id": "8cdd5c78",
   "metadata": {},
   "outputs": [],
   "source": [
    "data = pd.read_csv(\"LGM50_789_1C_25degC.csv\")"
   ]
  },
  {
   "attachments": {},
   "cell_type": "markdown",
   "id": "bec07cb4",
   "metadata": {},
   "source": [
    "In order to optimise reaction coefficient, Negative Electrode Exchange-Current Density is tuned by ```j0_neg``` function:"
   ]
  },
  {
   "cell_type": "code",
   "execution_count": 3,
   "id": "e0865c6c",
   "metadata": {},
   "outputs": [],
   "source": [
    "def j0_neg(c_e, c_s_surf, c_s_max, T):\n",
    "    \"\"\"\n",
    "    This function has been copied from the Chen2020 parameter set:\n",
    "    pybamm/input/parameters/lithium_ion/negative_electrodes/graphite_Chen2020\n",
    "    /graphite_LGM50_electrolyte_exchange_current_density_Chen2020.py\n",
    "    Similar could be done for the positive exchange current density\n",
    "    \"\"\"\n",
    "    m_ref = pybamm.Parameter(\"Negative electrode reaction coefficient\")\n",
    "    E_r = 3500\n",
    "    arrhenius = pybamm.exp(E_r / pybamm.constants.R * (1 / 298.15 - 1 / T))\n",
    "    return (\n",
    "        m_ref * arrhenius * c_e**0.5 * c_s_surf**0.5 * (c_s_max - c_s_surf) ** 0.5\n",
    "    )"
   ]
  },
  {
   "attachments": {},
   "cell_type": "markdown",
   "id": "1618f776",
   "metadata": {},
   "source": [
    "PyBaMM model to be used for parameter optimisation needs to be defined:"
   ]
  },
  {
   "cell_type": "code",
   "execution_count": 4,
   "id": "04906531",
   "metadata": {},
   "outputs": [],
   "source": [
    "model = pybamm.lithium_ion.SPMe(\n",
    "    options={\n",
    "        \"thermal\": \"lumped\",\n",
    "        \"dimensionality\": 0,\n",
    "        \"cell geometry\": \"arbitrary\",\n",
    "        \"electrolyte conductivity\": \"integrated\",\n",
    "    },\n",
    "    name=\"TSPMe\",\n",
    ")"
   ]
  },
  {
   "attachments": {},
   "cell_type": "markdown",
   "id": "6684dc63",
   "metadata": {},
   "source": [
    "Rest of the PyBaMM simulation requirements and initial parameters defined here:"
   ]
  },
  {
   "cell_type": "code",
   "execution_count": 5,
   "id": "05d9343e",
   "metadata": {},
   "outputs": [],
   "source": [
    "param = pybamm.ParameterValues(\"Chen2020\")  # Initial parameters to be used.\n",
    "\n",
    "# Update some parameters to match the experimental setup\n",
    "param.update(\n",
    "    {\n",
    "        \"Negative electrode diffusivity [m2.s-1]\": 2e-14,\n",
    "        \"Initial concentration in positive electrode [mol.m-3]\": 17150,\n",
    "        \"Negative electrode exchange-current density [A.m-2]\": j0_neg,\n",
    "        \"Negative electrode reaction coefficient\": 6.48e-7,\n",
    "        \"Total heat transfer coefficient [W.m-2.K-1]\": 16,\n",
    "        \"Ambient temperature [K]\": 297.825,\n",
    "        \"Initial temperature [K]\": 297.825,\n",
    "    },\n",
    "    check_already_exists=False,\n",
    ")\n",
    "\n",
    "\n",
    "experiment = pybamm.Experiment(\n",
    "    [\n",
    "        \"Discharge at 1C until 2.5 V\",\n",
    "        \"Rest for 2 hours\",\n",
    "    ],\n",
    "    period=\"30 seconds\",\n",
    ")\n",
    "\n",
    "simulation = pybamm.Simulation(\n",
    "    model,\n",
    "    parameter_values=param,\n",
    "    experiment=experiment,\n",
    ")"
   ]
  },
  {
   "attachments": {},
   "cell_type": "markdown",
   "id": "05e8a583",
   "metadata": {},
   "source": [
    "PyBaMM-param needs a dictionary for parameters to be optimised in ```{\"parameter name\": (initial guess, (lower bound, upper bound))}```"
   ]
  },
  {
   "cell_type": "code",
   "execution_count": 6,
   "id": "f56883ae",
   "metadata": {},
   "outputs": [],
   "source": [
    "param_optimise = {\n",
    "    \"Negative electrode diffusivity [m2.s-1]\": (5e-14, (2.06e-16, 2.06e-12)),\n",
    "    \"Negative electrode reaction coefficient\": (\n",
    "        6.48e-7,\n",
    "        (2.18589831e-9, 2.18589831e-5),\n",
    "    ),\n",
    "    \"Total heat transfer coefficient [W.m-2.K-1]\": (20, (0.1, 1000)),\n",
    "    (\n",
    "        \"Positive current collector specific heat capacity [J.kg-1.K-1]\",\n",
    "        \"Negative current collector specific heat capacity [J.kg-1.K-1]\",\n",
    "        \"Negative electrode specific heat capacity [J.kg-1.K-1]\",\n",
    "        \"Separator specific heat capacity [J.kg-1.K-1]\",\n",
    "        \"Positive electrode specific heat capacity [J.kg-1.K-1]\",\n",
    "    ): (2.85e3, (2.85, 2.85e6)),\n",
    "}"
   ]
  },
  {
   "attachments": {},
   "cell_type": "markdown",
   "id": "723c19c9",
   "metadata": {},
   "source": [
    "Which variables will be considered should be provided in a list. If different weights wanted for each variables, it should be provided here (optional):"
   ]
  },
  {
   "cell_type": "code",
   "execution_count": 7,
   "id": "828fa0e0",
   "metadata": {},
   "outputs": [],
   "source": [
    "variables_to_fit = [\"Voltage [V]\", \"X-averaged cell temperature [K]\"]\n",
    "variable_weights = {\"X-averaged cell temperature [K]\": [2], \"Voltage [V]\": [1]}"
   ]
  },
  {
   "attachments": {},
   "cell_type": "markdown",
   "id": "875ecf6f",
   "metadata": {},
   "source": [
    "Firstly, cost funtion for optimisation algorithm should be defined. Then, optimisation problem with PyBaMM simulation, experimental data, dictionary of parameters with initial guesses and bounds, variables to be optimised, variable weights and cost function should be passed."
   ]
  },
  {
   "cell_type": "code",
   "execution_count": 8,
   "id": "bee6ce22",
   "metadata": {},
   "outputs": [],
   "source": [
    "cost_function = pbparam.MLE()\n",
    "# Since this is a parameter optimisation with fitting data into experimental data, optimisation problem is DataFit.\n",
    "opt = pbparam.DataFit(\n",
    "    simulation,\n",
    "    data,\n",
    "    param_optimise,\n",
    "    variables_to_fit,\n",
    "    cost_function,\n",
    "    variable_weights,\n",
    ")"
   ]
  },
  {
   "attachments": {},
   "cell_type": "markdown",
   "id": "f90fe4c2",
   "metadata": {},
   "source": [
    "Then, Optimisation method should be defined in this step. DiferentialEvolution(https://docs.scipy.org/doc/scipy/reference/generated/scipy.optimize.differential_evolution.html) or ScipyMinimize(https://docs.scipy.org/doc/scipy/reference/generated/scipy.optimize.minimize.html)\n",
    "\n",
    "can be used to minimise cost function. For faster results, ScipyMinimize with ```\"Nelder-Mead\"``` method can be used. However, ScipyDifferentialEvolution is more robust and has provided lower value for most of the cases. "
   ]
  },
  {
   "cell_type": "code",
   "execution_count": 9,
   "id": "c64e899d",
   "metadata": {},
   "outputs": [],
   "source": [
    "# Paralelaziation is controlled by workers key here might fail on some OS, if it is the case;\n",
    "# Please make it equal to 1.\n",
    "optimiser = pbparam.ScipyDifferentialEvolution(\n",
    "    extra_options={\"workers\": 1, \"polish\": True, \"updating\": \"deferred\", \"disp\": True}\n",
    ") \n",
    "\n",
    "# optimiser = pbparam.ScipyMinimize(method=\"Nelder-Mead\")"
   ]
  },
  {
   "attachments": {},
   "cell_type": "markdown",
   "id": "9ae438c5",
   "metadata": {},
   "source": [
    "After providing everything for optimisation algorithm, it can be performed using `optimise(optimisation_problem)`"
   ]
  },
  {
   "cell_type": "code",
   "execution_count": 10,
   "id": "19d3f11a",
   "metadata": {},
   "outputs": [
    {
     "name": "stdout",
     "output_type": "stream",
     "text": [
      "differential_evolution step 1: f(x)= 32732.9\n",
      "differential_evolution step 2: f(x)= 32732.9\n",
      "differential_evolution step 3: f(x)= 32732.9\n",
      "differential_evolution step 4: f(x)= 32732.9\n",
      "differential_evolution step 5: f(x)= 32732.9\n",
      "differential_evolution step 6: f(x)= 32732.9\n",
      "differential_evolution step 7: f(x)= 32732.9\n",
      "differential_evolution step 8: f(x)= 32732.9\n",
      "differential_evolution step 9: f(x)= 32732.9\n",
      "differential_evolution step 10: f(x)= 32732.9\n",
      "differential_evolution step 11: f(x)= 32732.9\n",
      "differential_evolution step 12: f(x)= 32732.9\n",
      "differential_evolution step 13: f(x)= 32732.9\n",
      "differential_evolution step 14: f(x)= 32732.9\n",
      "differential_evolution step 15: f(x)= 32732.9\n",
      "differential_evolution step 16: f(x)= 32732.9\n",
      "differential_evolution step 17: f(x)= 32732.9\n",
      "differential_evolution step 18: f(x)= 32681.7\n",
      "differential_evolution step 19: f(x)= 32681.7\n",
      "differential_evolution step 20: f(x)= 31914.9\n",
      "differential_evolution step 21: f(x)= 30336.2\n",
      "differential_evolution step 22: f(x)= 30336.2\n",
      "differential_evolution step 23: f(x)= 30336.2\n",
      "differential_evolution step 24: f(x)= 30336.2\n",
      "differential_evolution step 25: f(x)= 29087\n",
      "differential_evolution step 26: f(x)= 29087\n",
      "differential_evolution step 27: f(x)= 29087\n",
      "differential_evolution step 28: f(x)= 29087\n",
      "differential_evolution step 29: f(x)= 29087\n",
      "differential_evolution step 30: f(x)= 29087\n",
      "differential_evolution step 31: f(x)= 27347\n",
      "differential_evolution step 32: f(x)= 27055.4\n",
      "differential_evolution step 33: f(x)= 24241.4\n",
      "differential_evolution step 34: f(x)= 18938.7\n",
      "differential_evolution step 35: f(x)= 18532.7\n",
      "differential_evolution step 36: f(x)= 18532.7\n",
      "differential_evolution step 37: f(x)= 18532.7\n",
      "differential_evolution step 38: f(x)= 15711.7\n",
      "differential_evolution step 39: f(x)= 15711.7\n",
      "differential_evolution step 40: f(x)= 15711.7\n",
      "differential_evolution step 41: f(x)= 15700.4\n",
      "differential_evolution step 42: f(x)= 15700.4\n",
      "differential_evolution step 43: f(x)= 15700.4\n",
      "differential_evolution step 44: f(x)= 15700.4\n",
      "differential_evolution step 45: f(x)= 14452.6\n",
      "differential_evolution step 46: f(x)= 14452.6\n",
      "differential_evolution step 47: f(x)= 14452.6\n",
      "differential_evolution step 48: f(x)= 12715.6\n",
      "differential_evolution step 49: f(x)= 11388.9\n",
      "differential_evolution step 50: f(x)= 8892.13\n",
      "differential_evolution step 51: f(x)= 8892.13\n",
      "differential_evolution step 52: f(x)= 8892.13\n",
      "differential_evolution step 53: f(x)= 8892.13\n",
      "differential_evolution step 54: f(x)= 8892.13\n",
      "differential_evolution step 55: f(x)= 8892.13\n",
      "differential_evolution step 56: f(x)= 8892.13\n",
      "differential_evolution step 57: f(x)= 8892.13\n",
      "differential_evolution step 58: f(x)= 8603.66\n",
      "differential_evolution step 59: f(x)= 8449.43\n",
      "differential_evolution step 60: f(x)= 8449.43\n",
      "differential_evolution step 61: f(x)= 8218.55\n",
      "differential_evolution step 62: f(x)= 8218.55\n",
      "differential_evolution step 63: f(x)= 7977.92\n",
      "differential_evolution step 64: f(x)= 7928.52\n",
      "differential_evolution step 65: f(x)= 7928.52\n",
      "differential_evolution step 66: f(x)= 7124.15\n",
      "differential_evolution step 67: f(x)= 7124.15\n",
      "differential_evolution step 68: f(x)= 6688.63\n",
      "differential_evolution step 69: f(x)= 6688.63\n",
      "differential_evolution step 70: f(x)= 6064.29\n",
      "differential_evolution step 71: f(x)= 6064.29\n",
      "differential_evolution step 72: f(x)= 6064.29\n",
      "differential_evolution step 73: f(x)= 6064.29\n",
      "differential_evolution step 74: f(x)= 6064.29\n",
      "differential_evolution step 75: f(x)= 6064.29\n",
      "differential_evolution step 76: f(x)= 6064.29\n",
      "differential_evolution step 77: f(x)= 6064.29\n",
      "differential_evolution step 78: f(x)= 6064.29\n",
      "differential_evolution step 79: f(x)= 6064.29\n",
      "differential_evolution step 80: f(x)= 4209.56\n",
      "differential_evolution step 81: f(x)= 3101.18\n",
      "differential_evolution step 82: f(x)= 3101.18\n",
      "differential_evolution step 83: f(x)= 3101.18\n",
      "differential_evolution step 84: f(x)= 3101.18\n",
      "differential_evolution step 85: f(x)= 3101.18\n",
      "differential_evolution step 86: f(x)= 3101.18\n",
      "differential_evolution step 87: f(x)= 3101.18\n",
      "differential_evolution step 88: f(x)= 3101.18\n",
      "differential_evolution step 89: f(x)= 3101.18\n",
      "differential_evolution step 90: f(x)= 3101.18\n",
      "differential_evolution step 91: f(x)= 3101.18\n",
      "differential_evolution step 92: f(x)= 3101.18\n",
      "differential_evolution step 93: f(x)= 2823.15\n",
      "differential_evolution step 94: f(x)= 2617.02\n",
      "differential_evolution step 95: f(x)= 1570.46\n",
      "differential_evolution step 96: f(x)= 1330.22\n",
      "differential_evolution step 97: f(x)= 698.122\n",
      "differential_evolution step 98: f(x)= 491.077\n",
      "differential_evolution step 99: f(x)= -804.315\n",
      "differential_evolution step 100: f(x)= -1126.44\n",
      "differential_evolution step 101: f(x)= -2346.15\n",
      "differential_evolution step 102: f(x)= -7793.94\n",
      "differential_evolution step 103: f(x)= -8694.83\n",
      "differential_evolution step 104: f(x)= -9807.41\n",
      "differential_evolution step 105: f(x)= -9807.41\n",
      "differential_evolution step 106: f(x)= -11114.3\n",
      "differential_evolution step 107: f(x)= -11114.3\n",
      "differential_evolution step 108: f(x)= -11114.3\n",
      "differential_evolution step 109: f(x)= -12016.5\n",
      "differential_evolution step 110: f(x)= -12016.5\n",
      "differential_evolution step 111: f(x)= -12016.5\n",
      "differential_evolution step 112: f(x)= -12520.1\n",
      "differential_evolution step 113: f(x)= -12520.1\n",
      "differential_evolution step 114: f(x)= -12520.1\n",
      "differential_evolution step 115: f(x)= -12520.1\n",
      "differential_evolution step 116: f(x)= -12520.1\n",
      "differential_evolution step 117: f(x)= -12520.1\n",
      "differential_evolution step 118: f(x)= -12609.5\n",
      "differential_evolution step 119: f(x)= -12694.1\n",
      "differential_evolution step 120: f(x)= -12728.4\n",
      "differential_evolution step 121: f(x)= -12731.5\n",
      "differential_evolution step 122: f(x)= -12731.5\n",
      "differential_evolution step 123: f(x)= -12731.5\n",
      "differential_evolution step 124: f(x)= -12782.1\n",
      "differential_evolution step 125: f(x)= -12801.1\n",
      "differential_evolution step 126: f(x)= -12801.1\n",
      "differential_evolution step 127: f(x)= -12830.7\n"
     ]
    }
   ],
   "source": [
    "result = optimiser.optimise(opt)"
   ]
  },
  {
   "cell_type": "code",
   "execution_count": 11,
   "id": "ffc588b4",
   "metadata": {},
   "outputs": [
    {
     "name": "stdout",
     "output_type": "stream",
     "text": [
      "\n",
      "             Optimal values: {'Negative electrode diffusivity [m2.s-1]': 1.7935465641724058e-14, 'Negative electrode reaction coefficient': 2.7868900196115353e-07, 'Total heat transfer coefficient [W.m-2.K-1]': 35.024455673480546, 'Positive current collector specific heat capacity [J.kg-1.K-1]': 1961.2678720909798, 'Negative current collector specific heat capacity [J.kg-1.K-1]': 1961.2678720909798, 'Negative electrode specific heat capacity [J.kg-1.K-1]': 1961.2678720909798, 'Separator specific heat capacity [J.kg-1.K-1]': 1961.2678720909798, 'Positive electrode specific heat capacity [J.kg-1.K-1]': 1961.2678720909798, 'Standard deviation of voltage [V]': 0.03879329348660576, 'Standard deviation of x-averaged cell temperature [K]': 0.46467069859909316}\n",
      "             Initial values: {'Negative electrode diffusivity [m2.s-1]': (5e-14, (2.06e-16, 2.06e-12)), 'Negative electrode reaction coefficient': (6.48e-07, (2.18589831e-09, 2.18589831e-05)), 'Total heat transfer coefficient [W.m-2.K-1]': (20, (0.1, 1000)), ('Positive current collector specific heat capacity [J.kg-1.K-1]', 'Negative current collector specific heat capacity [J.kg-1.K-1]', 'Negative electrode specific heat capacity [J.kg-1.K-1]', 'Separator specific heat capacity [J.kg-1.K-1]', 'Positive electrode specific heat capacity [J.kg-1.K-1]'): (2850.0, (2.85, 2850000.0))}\n",
      "                  Optimiser: Maximum Likelihood Estimation\n",
      "        Cost function value: -12830.7284154827\n",
      "                 Solve time: 1 hour, 6 minutes, 18 seconds\n",
      "                    Message: Optimization terminated successfully.\n",
      "        \n"
     ]
    }
   ],
   "source": [
    "# optimised values of parameters and function values can be printed as below.\n",
    "print(result)"
   ]
  },
  {
   "cell_type": "markdown",
   "id": "7cd23b7b",
   "metadata": {},
   "source": [
    "The results dictionary for optimum parameter values can be accessed as:"
   ]
  },
  {
   "cell_type": "code",
   "execution_count": 12,
   "id": "1e4684a8",
   "metadata": {},
   "outputs": [
    {
     "data": {
      "text/plain": [
       "{'Negative electrode diffusivity [m2.s-1]': 1.7935465641724058e-14,\n",
       " 'Negative electrode reaction coefficient': 2.7868900196115353e-07,\n",
       " 'Total heat transfer coefficient [W.m-2.K-1]': 35.024455673480546,\n",
       " 'Positive current collector specific heat capacity [J.kg-1.K-1]': 1961.2678720909798,\n",
       " 'Negative current collector specific heat capacity [J.kg-1.K-1]': 1961.2678720909798,\n",
       " 'Negative electrode specific heat capacity [J.kg-1.K-1]': 1961.2678720909798,\n",
       " 'Separator specific heat capacity [J.kg-1.K-1]': 1961.2678720909798,\n",
       " 'Positive electrode specific heat capacity [J.kg-1.K-1]': 1961.2678720909798,\n",
       " 'Standard deviation of voltage [V]': 0.03879329348660576,\n",
       " 'Standard deviation of x-averaged cell temperature [K]': 0.46467069859909316}"
      ]
     },
     "execution_count": 12,
     "metadata": {},
     "output_type": "execute_result"
    }
   ],
   "source": [
    "result.result_dict"
   ]
  },
  {
   "cell_type": "code",
   "execution_count": 13,
   "id": "2a0e62e8",
   "metadata": {},
   "outputs": [
    {
     "data": {
      "text/plain": [
       "2.7868900196115353e-07"
      ]
     },
     "execution_count": 13,
     "metadata": {},
     "output_type": "execute_result"
    }
   ],
   "source": [
    "result.result_dict['Negative electrode reaction coefficient']"
   ]
  },
  {
   "attachments": {},
   "cell_type": "markdown",
   "id": "9ec5fd3a",
   "metadata": {},
   "source": [
    "```plot()``` function can be used to present result graphically."
   ]
  },
  {
   "cell_type": "code",
   "execution_count": 14,
   "id": "cf38f942",
   "metadata": {},
   "outputs": [
    {
     "data": {
      "image/png": "[encoded data removed]",
      "text/plain": [
       "<Figure size 576x288 with 2 Axes>"
      ]
     },
     "metadata": {
      "needs_background": "light"
     },
     "output_type": "display_data"
    },
    {
     "data": {
      "text/plain": [
       "<pybamm.plotting.quick_plot.QuickPlot at 0x17083c7c0>"
      ]
     },
     "execution_count": 14,
     "metadata": {},
     "output_type": "execute_result"
    }
   ],
   "source": [
    "result.plot()"
   ]
  }
 ],
 "metadata": {
  "kernelspec": {
   "display_name": "Python 3 (ipykernel)",
   "language": "python",
   "name": "python3"
  },
  "language_info": {
   "codemirror_mode": {
    "name": "ipython",
    "version": 3
   },
   "file_extension": ".py",
   "mimetype": "text/x-python",
   "name": "python",
   "nbconvert_exporter": "python",
   "pygments_lexer": "ipython3",
   "version": "3.9.10"
  },
  "vscode": {
   "interpreter": {
    "hash": "fb77006a34bae7b3455bf1af19d13801d1160b5407ef5c8323378eef03722c93"
   }
  }
 },
 "nbformat": 4,
 "nbformat_minor": 5
}
