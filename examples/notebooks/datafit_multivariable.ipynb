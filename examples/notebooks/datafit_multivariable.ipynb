{
 "cells": [
  {
   "attachments": {},
   "cell_type": "markdown",
   "id": "1ee4c0db",
   "metadata": {},
   "source": [
    "# **Parameter Optimisation for TSPMe model** \n",
    "\n",
    "This notebook is created to provide an example for ```data_fit``` optimisation problem. Selected PyBaMM parameters are optimised in this notebook. Voltage and average cell temperature are considered in the minimasiation algorithm.\n",
    "This can also be found in `scripts/multiple_variable_fit.py` as Python function. The workflow is as follows:\n"
   ]
  },
  {
   "cell_type": "code",
   "execution_count": 1,
   "id": "5ba4b709",
   "metadata": {},
   "outputs": [],
   "source": [
    "#%pip install git+https://github.com/paramm-team/pybamm-param.git -q\n",
    "import os\n",
    "os.chdir(\"../..\")\n",
    "import pybamm\n",
    "import pbparam\n",
    "import pandas as pd\n",
    "import os\n",
    "\n",
    "os.chdir(os.path.join(pbparam.__path__[0], \"input\", \"data\"))"
   ]
  },
  {
   "attachments": {},
   "cell_type": "markdown",
   "id": "b3d21d9f",
   "metadata": {},
   "source": [
    "We start by importing the example experimental dataset which corresponds to the [Brosa Planella et al. (2021) article](https://www.sciencedirect.com/science/article/pii/S0013468621008148)."
   ]
  },
  {
   "cell_type": "code",
   "execution_count": 2,
   "id": "8cdd5c78",
   "metadata": {},
   "outputs": [],
   "source": [
    "data = pd.read_csv(\"LGM50_789_1C_25degC.csv\")"
   ]
  },
  {
   "attachments": {},
   "cell_type": "markdown",
   "id": "bec07cb4",
   "metadata": {},
   "source": [
    "In order to optimise reaction coefficient, Negative Electrode Exchange-Current Density is tuned by ```j0_neg``` function:"
   ]
  },
  {
   "cell_type": "code",
   "execution_count": 3,
   "id": "e0865c6c",
   "metadata": {},
   "outputs": [],
   "source": [
    "def j0_neg(c_e, c_s_surf, c_s_max, T):\n",
    "    \"\"\"\n",
    "    This function has been copied from the Chen2020 parameter set:\n",
    "    pybamm/input/parameters/lithium_ion/negative_electrodes/graphite_Chen2020\n",
    "    /graphite_LGM50_electrolyte_exchange_current_density_Chen2020.py\n",
    "    Similar could be done for the positive exchange current density\n",
    "    \"\"\"\n",
    "    m_ref = pybamm.Parameter(\"Negative electrode reaction coefficient\")\n",
    "    E_r = 3500\n",
    "    arrhenius = pybamm.exp(E_r / pybamm.constants.R * (1 / 298.15 - 1 / T))\n",
    "    return (\n",
    "        m_ref * arrhenius * c_e**0.5 * c_s_surf**0.5 * (c_s_max - c_s_surf) ** 0.5\n",
    "    )"
   ]
  },
  {
   "attachments": {},
   "cell_type": "markdown",
   "id": "1618f776",
   "metadata": {},
   "source": [
    "PyBaMM model to be used for parameter optimisation needs to be defined:"
   ]
  },
  {
   "cell_type": "code",
   "execution_count": 4,
   "id": "04906531",
   "metadata": {},
   "outputs": [],
   "source": [
    "model = pybamm.lithium_ion.SPMe(\n",
    "    options={\n",
    "        \"thermal\": \"lumped\",\n",
    "        \"dimensionality\": 0,\n",
    "        \"cell geometry\": \"arbitrary\",\n",
    "        \"electrolyte conductivity\": \"integrated\",\n",
    "    },\n",
    "    name=\"TSPMe\",\n",
    ")"
   ]
  },
  {
   "attachments": {},
   "cell_type": "markdown",
   "id": "6684dc63",
   "metadata": {},
   "source": [
    "Rest of the PyBaMM simulation requirements and initial parameters defined here:"
   ]
  },
  {
   "cell_type": "code",
   "execution_count": 5,
   "id": "05d9343e",
   "metadata": {},
   "outputs": [],
   "source": [
    "param = pybamm.ParameterValues(\"Chen2020\")  # Initial parameters to be used.\n",
    "\n",
    "# Update some parameters to match the experimental setup\n",
    "param.update(\n",
    "    {\n",
    "        \"Negative electrode diffusivity [m2.s-1]\": 2e-14,\n",
    "        \"Initial concentration in positive electrode [mol.m-3]\": 17150,\n",
    "        \"Negative electrode exchange-current density [A.m-2]\": j0_neg,\n",
    "        \"Negative electrode reaction coefficient\": 6.48e-7,\n",
    "        \"Total heat transfer coefficient [W.m-2.K-1]\": 16,\n",
    "        \"Ambient temperature [K]\": 297.825,\n",
    "        \"Initial temperature [K]\": 297.825,\n",
    "    },\n",
    "    check_already_exists=False,\n",
    ")\n",
    "\n",
    "\n",
    "experiment = pybamm.Experiment(\n",
    "    [\n",
    "        \"Discharge at 1C until 2.5 V\",\n",
    "        \"Rest for 2 hours\",\n",
    "    ],\n",
    "    period=\"30 seconds\",\n",
    ")\n",
    "\n",
    "simulation = pybamm.Simulation(\n",
    "    model,\n",
    "    parameter_values=param,\n",
    "    experiment=experiment,\n",
    ")"
   ]
  },
  {
   "attachments": {},
   "cell_type": "markdown",
   "id": "05e8a583",
   "metadata": {},
   "source": [
    "PyBaMM-param needs a dictionary for parameters to be optimised in ```{\"parameter name\": (initial guess, (lower bound, upper bound))}```"
   ]
  },
  {
   "cell_type": "code",
   "execution_count": 6,
   "id": "f56883ae",
   "metadata": {},
   "outputs": [],
   "source": [
    "param_optimise = {\n",
    "    \"Negative electrode diffusivity [m2.s-1]\": (5e-14, (2.06e-16, 2.06e-12)),\n",
    "    \"Negative electrode reaction coefficient\": (\n",
    "        6.48e-7,\n",
    "        (2.18589831e-9, 2.18589831e-5),\n",
    "    ),\n",
    "    \"Total heat transfer coefficient [W.m-2.K-1]\": (20, (0.1, 1000)),\n",
    "    (\n",
    "        \"Positive current collector specific heat capacity [J.kg-1.K-1]\",\n",
    "        \"Negative current collector specific heat capacity [J.kg-1.K-1]\",\n",
    "        \"Negative electrode specific heat capacity [J.kg-1.K-1]\",\n",
    "        \"Separator specific heat capacity [J.kg-1.K-1]\",\n",
    "        \"Positive electrode specific heat capacity [J.kg-1.K-1]\",\n",
    "    ): (2.85e3, (2.85, 2.85e6)),\n",
    "}"
   ]
  },
  {
   "attachments": {},
   "cell_type": "markdown",
   "id": "723c19c9",
   "metadata": {},
   "source": [
    "Which variables will be considered should be provided in a list. If different weights wanted for each variables, it should be provided here (optional):"
   ]
  },
  {
   "cell_type": "code",
   "execution_count": 7,
   "id": "828fa0e0",
   "metadata": {},
   "outputs": [],
   "source": [
    "variables_to_fit = [\"Voltage [V]\", \"X-averaged cell temperature [K]\"]\n",
    "variable_weights = {\"X-averaged cell temperature [K]\": [2], \"Voltage [V]\": [1]}"
   ]
  },
  {
   "attachments": {},
   "cell_type": "markdown",
   "id": "875ecf6f",
   "metadata": {},
   "source": [
    "Firstly, cost funtion for optimisation algorithm should be defined. Then, optimisation problem with PyBaMM simulation, experimental data, dictionary of parameters with initial guesses and bounds, variables to be optimised, variable weights and cost function should be passed."
   ]
  },
  {
   "cell_type": "code",
   "execution_count": 8,
   "id": "bee6ce22",
   "metadata": {},
   "outputs": [
    {
     "name": "stdout",
     "output_type": "stream",
     "text": [
      "Weights are provided but not used in the MLE calculation.\n",
      "<pbparam.cost_functions.mle.MLE object at 0x135cdda50>\n",
      "{'X-averaged cell temperature [K]': [2], 'Voltage [V]': [1]}\n"
     ]
    }
   ],
   "source": [
    "cost_function = pbparam.MLE()\n",
    "# Since this is a parameter optimisation with fitting data into experimental data, optimisation problem is DataFit.\n",
    "opt = pbparam.DataFit(\n",
    "    simulation,\n",
    "    data,\n",
    "    param_optimise,\n",
    "    variables_to_fit,\n",
    "    pbparam.MLE(),\n",
    "    variable_weights,\n",
    ")"
   ]
  },
  {
   "attachments": {},
   "cell_type": "markdown",
   "id": "f90fe4c2",
   "metadata": {},
   "source": [
    "Then, Optimisation method should be defined in this step. DiferentialEvolution(https://docs.scipy.org/doc/scipy/reference/generated/scipy.optimize.differential_evolution.html) or ScipyMinimize(https://docs.scipy.org/doc/scipy/reference/generated/scipy.optimize.minimize.html)\n",
    "\n",
    "can be used to minimise cost function. For faster results, ScipyMinimize with ```\"Nelder-Mead\"``` method can be used. However, ScipyDifferentialEvolution is more robust and has provided lower value for most of the cases. "
   ]
  },
  {
   "cell_type": "code",
   "execution_count": 9,
   "id": "c64e899d",
   "metadata": {},
   "outputs": [],
   "source": [
    "# optimiser = pbparam.ScipyDifferentialEvolution(\n",
    "#     extra_options={\"workers\": 4, \"polish\": True, \"updating\": \"deferred\", \"disp\": True}\n",
    "# )\n",
    "optimiser = pbparam.ScipyMinimize(method=\"Nelder-Mead\")"
   ]
  },
  {
   "attachments": {},
   "cell_type": "markdown",
   "id": "9ae438c5",
   "metadata": {},
   "source": [
    "After providing everything for optimisation algorithm, it can be performed using `optimise(optimisation_problem)`"
   ]
  },
  {
   "cell_type": "code",
   "execution_count": 10,
   "id": "19d3f11a",
   "metadata": {},
   "outputs": [],
   "source": [
    "result = optimiser.optimise(opt)\n",
    "# optimised values of parameters and function values can be printed as below.\n",
    "print(result)"
   ]
  },
  {
   "attachments": {},
   "cell_type": "markdown",
   "id": "9ec5fd3a",
   "metadata": {},
   "source": [
    "```plot()``` function can be used to present result graphically."
   ]
  },
  {
   "cell_type": "code",
   "execution_count": null,
   "id": "cf38f942",
   "metadata": {},
   "outputs": [],
   "source": [
    "result.plot()"
   ]
  },
  {
   "cell_type": "code",
   "execution_count": null,
   "id": "1a9aa728",
   "metadata": {},
   "outputs": [],
   "source": []
  }
 ],
 "metadata": {
  "kernelspec": {
   "display_name": "Python 3 (ipykernel)",
   "language": "python",
   "name": "python3"
  },
  "language_info": {
   "codemirror_mode": {
    "name": "ipython",
    "version": 3
   },
   "file_extension": ".py",
   "mimetype": "text/x-python",
   "name": "python",
   "nbconvert_exporter": "python",
   "pygments_lexer": "ipython3",
   "version": "3.11.4"
  },
  "vscode": {
   "interpreter": {
    "hash": "fb77006a34bae7b3455bf1af19d13801d1160b5407ef5c8323378eef03722c93"
   }
  }
 },
 "nbformat": 4,
 "nbformat_minor": 5
}
