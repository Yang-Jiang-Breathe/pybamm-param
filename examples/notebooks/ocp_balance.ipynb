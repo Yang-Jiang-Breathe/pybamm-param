{
 "cells": [
  {
   "attachments": {},
   "cell_type": "markdown",
   "id": "549fb9f1",
   "metadata": {},
   "source": [
    "# **Open Circuit Potential (OCP) Balancing**\n",
    "\n",
    "This notebook is created to provide an example of using PyBaMM-param package when balancing OCP curve with shifting and stretching the fitted curve to experimental data. This can also be found in `scripts/ocp_balance.py` as Python function."
   ]
  },
  {
   "cell_type": "code",
   "execution_count": 1,
   "id": "5ba4b709",
   "metadata": {},
   "outputs": [
    {
     "name": "stdout",
     "output_type": "stream",
     "text": [
      "Note: you may need to restart the kernel to use updated packages.\n"
     ]
    }
   ],
   "source": [
    "%pip install git+https://github.com/paramm-team/pybamm-param.git -q\n",
    "import os\n",
    "os.chdir(\"../..\")\n",
    "import pbparam\n",
    "import pandas as pd\n",
    "#import os\n",
    "#os.chdir(os.path.join(pbparam.__path__[0], \"input\", \"data\"))"
   ]
  },
  {
   "attachments": {},
   "cell_type": "markdown",
   "id": "7a19e8dc",
   "metadata": {},
   "source": [
    "We have 4 different files in this example. 2 for half-cell and 2 for three-electrode full cell. They are divided for their lithiation and delithiation stage."
   ]
  },
  {
   "cell_type": "code",
   "execution_count": 2,
   "id": "6f25a50c",
   "metadata": {},
   "outputs": [],
   "source": [
    "#  .csv files are uploaded\n",
    "anode_half_lit = pd.read_csv(os.path.join(\"pbparam/input/data/anode_OCP_2_lit.csv\"))\n",
    "anode_half_delit = pd.read_csv(os.path.join(\"pbparam/input/data/anode_OCP_2_delit.csv\"))\n",
    "anode_three_lit = pd.read_csv(os.path.join(\"pbparam/input/data/anode_OCP_3_lit.csv\"))\n",
    "anode_three_delit = pd.read_csv(os.path.join(\"pbparam/input/data/anode_OCP_3_delit.csv\"))"
   ]
  },
  {
   "attachments": {},
   "cell_type": "markdown",
   "id": "d5e5cb11",
   "metadata": {},
   "source": [
    "Then, optimisation problem should be passed to pbparam with the data to be used as below."
   ]
  },
  {
   "cell_type": "code",
   "execution_count": 3,
   "id": "66cc6a2e",
   "metadata": {},
   "outputs": [
    {
     "name": "stdout",
     "output_type": "stream",
     "text": [
      "[2]\n"
     ]
    }
   ],
   "source": [
    "ocp_balance = pbparam.OCPBalance(\n",
    "    [anode_three_lit, anode_three_delit],\n",
    "    [anode_half_lit, anode_half_delit],\n",
    "    weights=[2],\n",
    "    cost_function=pbparam.MLE()\n",
    ")"
   ]
  },
  {
   "attachments": {},
   "cell_type": "markdown",
   "id": "061d5dab",
   "metadata": {},
   "source": [
    "Optimiser to minimise cost function should be selected in the nest step as below."
   ]
  },
  {
   "cell_type": "code",
   "execution_count": 4,
   "id": "0999d5b7",
   "metadata": {},
   "outputs": [],
   "source": [
    "optimiser = pbparam.ScipyMinimize(method=\"Nelder-Mead\")"
   ]
  },
  {
   "attachments": {},
   "cell_type": "markdown",
   "id": "b42ac800",
   "metadata": {},
   "source": [
    "```optimiser.optimise(optimisation_problem)``` should be used to run minimasiation algorithm."
   ]
  },
  {
   "cell_type": "code",
   "execution_count": 5,
   "id": "5d147123",
   "metadata": {},
   "outputs": [],
   "source": [
    "result = optimiser.optimise(ocp_balance)"
   ]
  },
  {
   "attachments": {},
   "cell_type": "markdown",
   "id": "47bc920b",
   "metadata": {},
   "source": [
    "shift and stretch values and final cost function value can be printed as below."
   ]
  },
  {
   "cell_type": "code",
   "execution_count": 6,
   "id": "0c561c90",
   "metadata": {},
   "outputs": [
    {
     "name": "stdout",
     "output_type": "stream",
     "text": [
      "\n",
      "             Optimal values: [7.64400208e-09 2.07522394e-01 3.46556098e-02 1.32236635e+00]\n",
      "        Cost function value: -1018.246243512571\n",
      "                 Solve time: 173.232 ms\n",
      "                    Message: Optimization terminated successfully.\n",
      "        \n"
     ]
    }
   ],
   "source": [
    "print(result)"
   ]
  },
  {
   "attachments": {},
   "cell_type": "markdown",
   "id": "0c9ece32",
   "metadata": {},
   "source": [
    "PyBaMM-param has built in plot function to represent results."
   ]
  },
  {
   "cell_type": "code",
   "execution_count": 7,
   "id": "04f03816",
   "metadata": {},
   "outputs": [
    {
     "data": {
      "image/png": "[encoded data removed]",
      "text/plain": [
       "<Figure size 432x288 with 1 Axes>"
      ]
     },
     "metadata": {
      "needs_background": "light"
     },
     "output_type": "display_data"
    }
   ],
   "source": [
    "result.plot();"
   ]
  },
  {
   "cell_type": "code",
   "execution_count": null,
   "id": "a25af032",
   "metadata": {},
   "outputs": [],
   "source": []
  }
 ],
 "metadata": {
  "kernelspec": {
   "display_name": "Python 3 (ipykernel)",
   "language": "python",
   "name": "python3"
  },
  "language_info": {
   "codemirror_mode": {
    "name": "ipython",
    "version": 3
   },
   "file_extension": ".py",
   "mimetype": "text/x-python",
   "name": "python",
   "nbconvert_exporter": "python",
   "pygments_lexer": "ipython3",
   "version": "3.9.10"
  },
  "vscode": {
   "interpreter": {
    "hash": "fb77006a34bae7b3455bf1af19d13801d1160b5407ef5c8323378eef03722c93"
   }
  }
 },
 "nbformat": 4,
 "nbformat_minor": 5
}
