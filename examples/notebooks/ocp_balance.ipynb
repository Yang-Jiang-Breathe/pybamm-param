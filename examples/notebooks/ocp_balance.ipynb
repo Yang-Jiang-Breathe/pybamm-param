{
 "cells": [
  {
   "attachments": {},
   "cell_type": "markdown",
   "id": "549fb9f1",
   "metadata": {},
   "source": [
    "# **Open Circuit Potential (OCP) Balancing**\n",
    "\n",
    "This notebook is created to provide an example of using PyBaMM-param package when balancing OCP curve with shifting and stretching the fitted curve to experimental data. This can also be found in `scripts/ocp_balance.py` as Python function."
   ]
  },
  {
   "cell_type": "code",
   "execution_count": 1,
   "id": "5ba4b709",
   "metadata": {},
   "outputs": [],
   "source": [
    "#%pip install git+https://github.com/paramm-team/pybamm-param.git -q\n",
    "import pbparam\n",
    "import pandas as pd\n",
    "import os\n",
    "\n",
    "os.chdir(os.path.join(pbparam.__path__[0], \"input\", \"data\"))"
   ]
  },
  {
   "attachments": {},
   "cell_type": "markdown",
   "id": "7a19e8dc",
   "metadata": {},
   "source": [
    "We have 4 different files in this example. 2 for half-cell and 2 for three-electrode full cell. They are divided for their lithiation and delithiation stage."
   ]
  },
  {
   "cell_type": "code",
   "execution_count": 2,
   "id": "6f25a50c",
   "metadata": {},
   "outputs": [],
   "source": [
    "#  .csv files are uploaded\n",
    "anode_half_lit = pd.read_csv(os.path.join(\"anode_OCP_2_lit.csv\"))\n",
    "anode_half_delit = pd.read_csv(os.path.join(\"anode_OCP_2_delit.csv\"))\n",
    "anode_three_lit = pd.read_csv(os.path.join(\"anode_OCP_3_lit.csv\"))\n",
    "anode_three_delit = pd.read_csv(os.path.join(\"anode_OCP_3_delit.csv\"))"
   ]
  },
  {
   "cell_type": "code",
   "execution_count": 3,
   "id": "befb9c1e",
   "metadata": {},
   "outputs": [],
   "source": [
    "#  .csv files are uploaded\n",
    "cathode_half_lit = pd.read_csv(os.path.join(\"cathode_OCP_2_lit.csv\"))\n",
    "cathode_half_delit = pd.read_csv(os.path.join(\"cathode_OCP_2_delit.csv\"))\n",
    "cathode_three_lit = pd.read_csv(os.path.join(\"cathode_OCP_3_lit.csv\"))\n",
    "cathode_three_delit = pd.read_csv(os.path.join(\"cathode_OCP_3_delit.csv\"))"
   ]
  },
  {
   "attachments": {},
   "cell_type": "markdown",
   "id": "d5e5cb11",
   "metadata": {},
   "source": [
    "Then, optimisation problem should be passed to pbparam with the data to be used as below. Cost function (default=pbparam.RMSE()) and weights (default=[1,1]) are optional arguments. Weights can be defined as single value list or same lengt with data."
   ]
  },
  {
   "cell_type": "code",
   "execution_count": 3,
   "id": "4eb19629",
   "metadata": {},
   "outputs": [
    {
     "name": "stdout",
     "output_type": "stream",
     "text": [
      "[0      0.913911\n",
      "1      0.672703\n",
      "2      0.590480\n",
      "3      0.526171\n",
      "4      0.482013\n",
      "         ...   \n",
      "257    0.081076\n",
      "258    0.080484\n",
      "259    0.078115\n",
      "260    0.078230\n",
      "261    0.077199\n",
      "Name: Voltage [V], Length: 262, dtype: float64, 0      0.077199\n",
      "1      0.081019\n",
      "2      0.082929\n",
      "3      0.084208\n",
      "4      0.085813\n",
      "         ...   \n",
      "249    0.506289\n",
      "250    0.518379\n",
      "251    0.546379\n",
      "252    0.557437\n",
      "253    0.577836\n",
      "Name: Voltage [V], Length: 254, dtype: float64]\n"
     ]
    }
   ],
   "source": [
    "ocp_balance = pbparam.OCPBalance(\n",
    "    [anode_half_lit, anode_half_delit],\n",
    "    [anode_three_lit, anode_three_delit],\n",
    "    \n",
    "    cost_function=pbparam.MLE(),\n",
    "    #weights=[2],\n",
    ")"
   ]
  },
  {
   "cell_type": "code",
   "execution_count": 4,
   "id": "66cc6a2e",
   "metadata": {},
   "outputs": [
    {
     "name": "stdout",
     "output_type": "stream",
     "text": [
      "[0      4.280362\n",
      "1      4.269052\n",
      "2      4.259998\n",
      "3      4.251555\n",
      "4      4.243416\n",
      "         ...   \n",
      "249    3.563481\n",
      "250    3.562144\n",
      "251    3.559851\n",
      "252    3.558323\n",
      "253    3.556776\n",
      "Name: Voltage [V], Length: 254, dtype: float64, 0      3.507662\n",
      "1      3.543976\n",
      "2      3.549574\n",
      "3      3.553337\n",
      "4      3.555190\n",
      "         ...   \n",
      "257    4.248899\n",
      "258    4.255738\n",
      "259    4.264793\n",
      "260    4.271746\n",
      "261    4.280362\n",
      "Name: Voltage [V], Length: 262, dtype: float64]\n"
     ]
    }
   ],
   "source": [
    "ocp_balance = pbparam.OCPBalance(\n",
    "    [cathode_half_lit, cathode_half_delit],\n",
    "    [cathode_three_lit, cathode_three_delit],\n",
    "    \n",
    "    cost_function=pbparam.MLE(),\n",
    "    #weights=[2],\n",
    ")"
   ]
  },
  {
   "attachments": {},
   "cell_type": "markdown",
   "id": "061d5dab",
   "metadata": {},
   "source": [
    "Optimiser to minimise cost function should be selected in the nest step as below."
   ]
  },
  {
   "cell_type": "code",
   "execution_count": 5,
   "id": "0999d5b7",
   "metadata": {},
   "outputs": [],
   "source": [
    "#optimiser = pbparam.ScipyMinimize(method=\"Nelder-Mead\")\n",
    "optimiser = pbparam.ScipyDifferentialEvolution()"
   ]
  },
  {
   "attachments": {},
   "cell_type": "markdown",
   "id": "b42ac800",
   "metadata": {},
   "source": [
    "```optimiser.optimise(optimisation_problem)``` should be used to run minimasiation algorithm."
   ]
  },
  {
   "cell_type": "code",
   "execution_count": 6,
   "id": "5d147123",
   "metadata": {},
   "outputs": [],
   "source": [
    "result = optimiser.optimise(ocp_balance)"
   ]
  },
  {
   "attachments": {},
   "cell_type": "markdown",
   "id": "47bc920b",
   "metadata": {},
   "source": [
    "shift and stretch values and final cost function value can be printed as below."
   ]
  },
  {
   "cell_type": "code",
   "execution_count": 7,
   "id": "0c561c90",
   "metadata": {},
   "outputs": [
    {
     "name": "stdout",
     "output_type": "stream",
     "text": [
      "\n",
      "             Optimal values: [1.1        1.13965196 0.23592968 0.25354786]\n",
      "        Cost function value: 5.315897503177027\n",
      "                 Solve time: 3.471 s\n",
      "                    Message: Optimization terminated successfully.\n",
      "        \n"
     ]
    }
   ],
   "source": [
    "print(result)"
   ]
  },
  {
   "attachments": {},
   "cell_type": "markdown",
   "id": "0c9ece32",
   "metadata": {},
   "source": [
    "PyBaMM-param has built in plot function to represent results."
   ]
  },
  {
   "cell_type": "code",
   "execution_count": 8,
   "id": "04f03816",
   "metadata": {},
   "outputs": [
    {
     "data": {
      "image/png": "[encoded data removed]",
      "text/plain": [
       "<Figure size 432x288 with 1 Axes>"
      ]
     },
     "metadata": {
      "needs_background": "light"
     },
     "output_type": "display_data"
    }
   ],
   "source": [
    "result.plot();"
   ]
  },
  {
   "cell_type": "code",
   "execution_count": null,
   "id": "10e91473",
   "metadata": {},
   "outputs": [],
   "source": []
  }
 ],
 "metadata": {
  "kernelspec": {
   "display_name": "Python 3 (ipykernel)",
   "language": "python",
   "name": "python3"
  },
  "language_info": {
   "codemirror_mode": {
    "name": "ipython",
    "version": 3
   },
   "file_extension": ".py",
   "mimetype": "text/x-python",
   "name": "python",
   "nbconvert_exporter": "python",
   "pygments_lexer": "ipython3",
   "version": "3.9.10"
  },
  "vscode": {
   "interpreter": {
    "hash": "fb77006a34bae7b3455bf1af19d13801d1160b5407ef5c8323378eef03722c93"
   }
  }
 },
 "nbformat": 4,
 "nbformat_minor": 5
}
