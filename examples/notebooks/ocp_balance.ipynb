{
 "cells": [
  {
   "attachments": {},
   "cell_type": "markdown",
   "id": "549fb9f1",
   "metadata": {},
   "source": [
    "# **Open Circuit Potential (OCP) Balancing**\n",
    "\n",
    "This notebook is created to provide an example of using PyBaMM-param package when balancing OCP curve with shifting and stretching the fitted curve to experimental data. This can also be found in `scripts/ocp_balance.py` as Python function."
   ]
  },
  {
   "cell_type": "code",
   "execution_count": 1,
   "id": "5ba4b709",
   "metadata": {},
   "outputs": [],
   "source": [
    "#%pip install git+https://github.com/paramm-team/pybamm-param.git -q\n",
    "import pbparam\n",
    "import pandas as pd\n",
    "import os\n",
    "\n",
    "os.chdir(os.path.join(pbparam.__path__[0], \"input\", \"data\"))"
   ]
  },
  {
   "attachments": {},
   "cell_type": "markdown",
   "id": "7a19e8dc",
   "metadata": {},
   "source": [
    "We have 4 different files in this example. 2 for half-cell and 2 for three-electrode full cell. They are divided for their lithiation and delithiation stage."
   ]
  },
  {
   "cell_type": "code",
   "execution_count": 2,
   "id": "6f25a50c",
   "metadata": {},
   "outputs": [],
   "source": [
    "#  .csv files are uploaded\n",
    "anode_half_lit = pd.read_csv(os.path.join(\"anode_OCP_2_lit.csv\"))\n",
    "anode_half_delit = pd.read_csv(os.path.join(\"anode_OCP_2_delit.csv\"))\n",
    "anode_three_lit = pd.read_csv(os.path.join(\"anode_OCP_3_lit.csv\"))\n",
    "anode_three_delit = pd.read_csv(os.path.join(\"anode_OCP_3_delit.csv\"))"
   ]
  },
  {
   "cell_type": "code",
   "execution_count": null,
   "metadata": {},
   "outputs": [],
   "source": [
    "anode_three_delit['Capacity [A.h]'] = anode_three_delit['Capacity [A.h]'] /5 #anode_three_delit['Capacity [A.h]'].abs().max() "
   ]
  },
  {
   "cell_type": "code",
   "execution_count": null,
   "metadata": {},
   "outputs": [],
   "source": [
    "anode_three_lit['Capacity [A.h]'] = anode_three_lit['Capacity [A.h]'] / 5 #anode_three_lit['Capacity [A.h]'].abs().max() "
   ]
  },
  {
   "cell_type": "code",
   "execution_count": null,
   "id": "befb9c1e",
   "metadata": {},
   "outputs": [],
   "source": [
    "#  .csv files are uploaded\n",
    "cathode_half_lit = pd.read_csv(os.path.join(\"cathode_OCP_2_lit.csv\"))\n",
    "cathode_half_delit = pd.read_csv(os.path.join(\"cathode_OCP_2_delit.csv\"))\n",
    "cathode_three_lit = pd.read_csv(os.path.join(\"cathode_OCP_3_lit.csv\"))\n",
    "cathode_three_delit = pd.read_csv(os.path.join(\"cathode_OCP_3_delit.csv\"))"
   ]
  },
  {
   "attachments": {},
   "cell_type": "markdown",
   "id": "d5e5cb11",
   "metadata": {},
   "source": [
    "Then, optimisation problem should be passed to pbparam with the data to be used as below. Cost function (default=pbparam.RMSE()) and weights (default=[1,1]) are optional arguments. Weights can be defined as single value list or same lengt with data."
   ]
  },
  {
   "cell_type": "code",
   "execution_count": 3,
   "metadata": {},
   "outputs": [
    {
     "name": "stdout",
     "output_type": "stream",
     "text": [
      "[     Capacity [A.h]  Voltage [V]\n",
      "0          0.000466     1.333774\n",
      "1          0.004464     0.804794\n",
      "2          0.008462     0.668792\n",
      "3          0.012460     0.583692\n",
      "4          0.016458     0.531663\n",
      "..              ...          ...\n",
      "246        0.984007     0.072561\n",
      "247        0.988006     0.070136\n",
      "248        0.992004     0.069315\n",
      "249        0.996002     0.069220\n",
      "250        1.000000     0.064561\n",
      "\n",
      "[251 rows x 2 columns],      Capacity [A.h]  Voltage [V]\n",
      "0             1.000     0.064561\n",
      "1             0.996     0.073764\n",
      "2             0.992     0.079301\n",
      "3             0.988     0.081669\n",
      "4             0.984     0.084208\n",
      "..              ...          ...\n",
      "246           0.016     1.079984\n",
      "247           0.012     1.125675\n",
      "248           0.008     1.171002\n",
      "249           0.004     1.248312\n",
      "250           0.000     1.406902\n",
      "\n",
      "[251 rows x 2 columns]]\n",
      "     Capacity [A.h]  Voltage [V]\n",
      "0          0.000466     1.333774\n",
      "1          0.004464     0.804794\n",
      "2          0.008462     0.668792\n",
      "3          0.012460     0.583692\n",
      "4          0.016458     0.531663\n",
      "..              ...          ...\n",
      "497        0.016000     1.079984\n",
      "498        0.012000     1.125675\n",
      "499        0.008000     1.171002\n",
      "500        0.004000     1.248312\n",
      "501        0.000000     1.406902\n",
      "\n",
      "[502 rows x 2 columns]\n",
      "1.0\n",
      "0.0\n"
     ]
    }
   ],
   "source": [
    "ocp_balance = pbparam.OCPBalance(\n",
    "    [anode_half_lit, anode_half_delit],\n",
    "    [anode_three_lit, anode_three_delit],\n",
    "    \n",
    "    #cost_function=pbparam.MLE(),\n",
    "    #weights=[2],\n",
    ")"
   ]
  },
  {
   "cell_type": "code",
   "execution_count": 4,
   "metadata": {},
   "outputs": [
    {
     "data": {
      "text/plain": [
       "[-0.0, 1.0]"
      ]
     },
     "execution_count": 4,
     "metadata": {},
     "output_type": "execute_result"
    }
   ],
   "source": [
    "ocp_balance.x0"
   ]
  },
  {
   "cell_type": "code",
   "execution_count": null,
   "id": "66cc6a2e",
   "metadata": {},
   "outputs": [],
   "source": [
    "ocp_balance = pbparam.OCPBalance(\n",
    "    #[anode_half_lit], \n",
    "    [anode_half_delit],\n",
    "    #[anode_three_lit], \n",
    "    [anode_three_delit],\n",
    "    \n",
    "    #cost_function=pbparam.MLE(),\n",
    "    #weights=[2],\n",
    ")"
   ]
  },
  {
   "attachments": {},
   "cell_type": "markdown",
   "id": "061d5dab",
   "metadata": {},
   "source": [
    "Optimiser to minimise cost function should be selected in the nest step as below."
   ]
  },
  {
   "cell_type": "code",
   "execution_count": 5,
   "id": "0999d5b7",
   "metadata": {},
   "outputs": [],
   "source": [
    "optimiser = pbparam.ScipyMinimize(method=\"Nelder-Mead\")"
   ]
  },
  {
   "cell_type": "code",
   "execution_count": null,
   "metadata": {},
   "outputs": [],
   "source": [
    "ocp_balance.x0 = [0,0.2]"
   ]
  },
  {
   "attachments": {},
   "cell_type": "markdown",
   "id": "b42ac800",
   "metadata": {},
   "source": [
    "```optimiser.optimise(optimisation_problem)``` should be used to run minimasiation algorithm."
   ]
  },
  {
   "cell_type": "code",
   "execution_count": 6,
   "id": "5d147123",
   "metadata": {},
   "outputs": [],
   "source": [
    "result = optimiser.optimise(ocp_balance)"
   ]
  },
  {
   "attachments": {},
   "cell_type": "markdown",
   "id": "47bc920b",
   "metadata": {},
   "source": [
    "shift and stretch values and final cost function value can be printed as below."
   ]
  },
  {
   "cell_type": "code",
   "execution_count": 7,
   "id": "0c561c90",
   "metadata": {},
   "outputs": [
    {
     "name": "stdout",
     "output_type": "stream",
     "text": [
      "\n",
      "             Optimal values: [0.30562706 1.1       ]\n",
      "        Cost function value: 1.7564534069210822\n",
      "                 Solve time: 82.072 ms\n",
      "                    Message: Optimization terminated successfully.\n",
      "        \n"
     ]
    }
   ],
   "source": [
    "print(result)"
   ]
  },
  {
   "attachments": {},
   "cell_type": "markdown",
   "id": "0c9ece32",
   "metadata": {},
   "source": [
    "PyBaMM-param has built in plot function to represent results."
   ]
  },
  {
   "cell_type": "code",
   "execution_count": 8,
   "id": "04f03816",
   "metadata": {},
   "outputs": [
    {
     "data": {
      "image/png": "[encoded data removed]",
      "text/plain": [
       "<Figure size 432x288 with 1 Axes>"
      ]
     },
     "metadata": {
      "needs_background": "light"
     },
     "output_type": "display_data"
    }
   ],
   "source": [
    "result.plot();"
   ]
  },
  {
   "cell_type": "code",
   "execution_count": null,
   "id": "10e91473",
   "metadata": {},
   "outputs": [],
   "source": [
    "import matplotlib.pyplot as plt"
   ]
  },
  {
   "cell_type": "code",
   "execution_count": null,
   "metadata": {},
   "outputs": [],
   "source": [
    "plt.plot(anode_three_delit['Capacity [A.h]'],anode_three_delit['Voltage [V]'])"
   ]
  },
  {
   "cell_type": "code",
   "execution_count": null,
   "metadata": {},
   "outputs": [],
   "source": [
    "anode_three_delit"
   ]
  },
  {
   "cell_type": "code",
   "execution_count": null,
   "metadata": {},
   "outputs": [],
   "source": []
  }
 ],
 "metadata": {
  "kernelspec": {
   "display_name": "Python 3 (ipykernel)",
   "language": "python",
   "name": "python3"
  },
  "language_info": {
   "codemirror_mode": {
    "name": "ipython",
    "version": 3
   },
   "file_extension": ".py",
   "mimetype": "text/x-python",
   "name": "python",
   "nbconvert_exporter": "python",
   "pygments_lexer": "ipython3",
   "version": "3.9.10"
  },
  "vscode": {
   "interpreter": {
    "hash": "fb77006a34bae7b3455bf1af19d13801d1160b5407ef5c8323378eef03722c93"
   }
  }
 },
 "nbformat": 4,
 "nbformat_minor": 5
}
