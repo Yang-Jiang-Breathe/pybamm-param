{
 "cells": [
  {
   "cell_type": "markdown",
   "id": "1ee4c0db",
   "metadata": {},
   "source": [
    "# **Parameter Optimisation for GITT** \n",
    "\n",
    "This notebook is created to provide an example for ```GITT``` optimisation problem. Diffisuion Coefficient is optimised in this notebook. Only voltage will be considered for optimisation in this example.\n",
    " The workflow is as follows:\n"
   ]
  },
  {
   "cell_type": "code",
   "execution_count": 1,
   "id": "5ba4b709",
   "metadata": {},
   "outputs": [],
   "source": [
    "#%pip install git+https://github.com/paramm-team/pybamm-param.git -q\n",
    "import pybamm\n",
    "import pbparam\n",
    "import pandas as pd"
   ]
  },
  {
   "cell_type": "markdown",
   "id": "f087e770",
   "metadata": {},
   "source": [
    "We are creating a syntethic data first."
   ]
  },
  {
   "cell_type": "code",
   "execution_count": 2,
   "id": "ea2c6d41",
   "metadata": {},
   "outputs": [],
   "source": [
    "syn_model = pybamm.lithium_ion.SPM()"
   ]
  },
  {
   "cell_type": "markdown",
   "id": "6365750d",
   "metadata": {},
   "source": [
    "Synthethic data parameters are defined here:"
   ]
  },
  {
   "cell_type": "code",
   "execution_count": 3,
   "id": "a7d1e9fa",
   "metadata": {},
   "outputs": [],
   "source": [
    "syn_param = pybamm.ParameterValues(\"Chen2020\")\n",
    "\n",
    "# Use a linearised OCP to check model is working\n",
    "def linear_OCP(sto):\n",
    "    return 4.2935 - 1.1352 * (sto - 0.2661)\n",
    "\n",
    "syn_param.update(\n",
    "            {\n",
    "                \"Positive electrode OCP [V]\": linear_OCP,\n",
    "                \"Positive electrode diffusivity [m2.s-1]\": 1e-15,\n",
    "            },\n",
    "            check_already_exists=True,\n",
    ")\n",
    "\n",
    "syn_sim = pybamm.Simulation(syn_model, parameter_values=syn_param)\n",
    "syn_solution = syn_sim.solve([0, 100])"
   ]
  },
  {
   "cell_type": "markdown",
   "id": "497b6382",
   "metadata": {},
   "source": [
    "Then, it is plotted:"
   ]
  },
  {
   "cell_type": "code",
   "execution_count": 4,
   "id": "ff238811",
   "metadata": {},
   "outputs": [
    {
     "data": {
      "application/vnd.jupyter.widget-view+json": {
       "model_id": "78cf4a201b914245a1b183b15a130ae2",
       "version_major": 2,
       "version_minor": 0
      },
      "text/plain": [
       "interactive(children=(FloatSlider(value=0.0, description='t', step=1.0), Output()), _dom_classes=('widget-inte…"
      ]
     },
     "metadata": {},
     "output_type": "display_data"
    },
    {
     "data": {
      "text/plain": [
       "<pybamm.plotting.quick_plot.QuickPlot at 0x16a839cd0>"
      ]
     },
     "execution_count": 4,
     "metadata": {},
     "output_type": "execute_result"
    }
   ],
   "source": [
    "syn_solution.plot(['Voltage [V]'])"
   ]
  },
  {
   "cell_type": "markdown",
   "id": "0456a81d",
   "metadata": {},
   "source": [
    "The synthethic data is passed to a dataframe:"
   ]
  },
  {
   "cell_type": "code",
   "execution_count": 5,
   "id": "6bc43581",
   "metadata": {},
   "outputs": [],
   "source": [
    "d = {'Time [s]':syn_solution[\"Time [s]\"].entries, 'Voltage [V]': syn_solution[\"Voltage [V]\"].entries}\n",
    "\n",
    "data = pd.DataFrame(data = d)"
   ]
  },
  {
   "cell_type": "code",
   "execution_count": 6,
   "id": "533b6f28",
   "metadata": {},
   "outputs": [
    {
     "data": {
      "text/html": [
       "<div>\n",
       "<style scoped>\n",
       "    .dataframe tbody tr th:only-of-type {\n",
       "        vertical-align: middle;\n",
       "    }\n",
       "\n",
       "    .dataframe tbody tr th {\n",
       "        vertical-align: top;\n",
       "    }\n",
       "\n",
       "    .dataframe thead th {\n",
       "        text-align: right;\n",
       "    }\n",
       "</style>\n",
       "<table border=\"1\" class=\"dataframe\">\n",
       "  <thead>\n",
       "    <tr style=\"text-align: right;\">\n",
       "      <th></th>\n",
       "      <th>Time [s]</th>\n",
       "      <th>Voltage [V]</th>\n",
       "    </tr>\n",
       "  </thead>\n",
       "  <tbody>\n",
       "    <tr>\n",
       "      <th>0</th>\n",
       "      <td>0.000000</td>\n",
       "      <td>4.079514</td>\n",
       "    </tr>\n",
       "    <tr>\n",
       "      <th>1</th>\n",
       "      <td>1.010101</td>\n",
       "      <td>4.078092</td>\n",
       "    </tr>\n",
       "    <tr>\n",
       "      <th>2</th>\n",
       "      <td>2.020202</td>\n",
       "      <td>4.076567</td>\n",
       "    </tr>\n",
       "    <tr>\n",
       "      <th>3</th>\n",
       "      <td>3.030303</td>\n",
       "      <td>4.075002</td>\n",
       "    </tr>\n",
       "    <tr>\n",
       "      <th>4</th>\n",
       "      <td>4.040404</td>\n",
       "      <td>4.073431</td>\n",
       "    </tr>\n",
       "    <tr>\n",
       "      <th>...</th>\n",
       "      <td>...</td>\n",
       "      <td>...</td>\n",
       "    </tr>\n",
       "    <tr>\n",
       "      <th>95</th>\n",
       "      <td>95.959596</td>\n",
       "      <td>3.984052</td>\n",
       "    </tr>\n",
       "    <tr>\n",
       "      <th>96</th>\n",
       "      <td>96.969697</td>\n",
       "      <td>3.983393</td>\n",
       "    </tr>\n",
       "    <tr>\n",
       "      <th>97</th>\n",
       "      <td>97.979798</td>\n",
       "      <td>3.982737</td>\n",
       "    </tr>\n",
       "    <tr>\n",
       "      <th>98</th>\n",
       "      <td>98.989899</td>\n",
       "      <td>3.982085</td>\n",
       "    </tr>\n",
       "    <tr>\n",
       "      <th>99</th>\n",
       "      <td>100.000000</td>\n",
       "      <td>3.981437</td>\n",
       "    </tr>\n",
       "  </tbody>\n",
       "</table>\n",
       "<p>100 rows × 2 columns</p>\n",
       "</div>"
      ],
      "text/plain": [
       "      Time [s]  Voltage [V]\n",
       "0     0.000000     4.079514\n",
       "1     1.010101     4.078092\n",
       "2     2.020202     4.076567\n",
       "3     3.030303     4.075002\n",
       "4     4.040404     4.073431\n",
       "..         ...          ...\n",
       "95   95.959596     3.984052\n",
       "96   96.969697     3.983393\n",
       "97   97.979798     3.982737\n",
       "98   98.989899     3.982085\n",
       "99  100.000000     3.981437\n",
       "\n",
       "[100 rows x 2 columns]"
      ]
     },
     "execution_count": 6,
     "metadata": {},
     "output_type": "execute_result"
    }
   ],
   "source": [
    "data"
   ]
  },
  {
   "cell_type": "markdown",
   "id": "1618f776",
   "metadata": {},
   "source": [
    "PbParam model to be used for GITT needs to be defined:"
   ]
  },
  {
   "cell_type": "code",
   "execution_count": 7,
   "id": "04906531",
   "metadata": {},
   "outputs": [],
   "source": [
    "model = pbparam.WeppnerHuggins()"
   ]
  },
  {
   "cell_type": "markdown",
   "id": "6684dc63",
   "metadata": {},
   "source": [
    "Next, parameter dictionary needs to be defined with all of the required parameters:"
   ]
  },
  {
   "cell_type": "code",
   "execution_count": 8,
   "id": "a39ab05a",
   "metadata": {},
   "outputs": [],
   "source": [
    "param_dict = pybamm.ParameterValues({\n",
    "        \"Reference OCP [V]\": 4.0,\n",
    "        \"Derivative of the OCP wrt stoichiometry [V]\": -1.1352,\n",
    "        \"Current function [A]\": syn_param[\"Current function [A]\"],\n",
    "        \"Number of electrodes connected in parallel to make a cell\": syn_param[\"Number of electrodes connected in parallel to make a cell\"],\n",
    "        \"Electrode width [m]\": syn_param[\"Electrode width [m]\"],\n",
    "        \"Electrode height [m]\": syn_param[\"Electrode height [m]\"],\n",
    "        \"Positive electrode active material volume fraction\": syn_param[\"Positive electrode active material volume fraction\"],\n",
    "        \"Positive particle radius [m]\": syn_param[\"Positive particle radius [m]\"],\n",
    "        \"Positive electrode thickness [m]\": syn_param[\"Positive electrode thickness [m]\"],\n",
    "        \"Positive electrode diffusivity [m2.s-1]\": syn_param[\"Positive electrode diffusivity [m2.s-1]\"],\n",
    "        \"Maximum concentration in positive electrode [mol.m-3]\": syn_param[\"Maximum concentration in positive electrode [mol.m-3]\"],\n",
    "})"
   ]
  },
  {
   "cell_type": "code",
   "execution_count": 9,
   "id": "bee6ce22",
   "metadata": {},
   "outputs": [],
   "source": [
    "# optimisation problem is GITT.\n",
    "opt = pbparam.GITT(param_dict=param_dict, gitt_model=model, data=data)"
   ]
  },
  {
   "cell_type": "markdown",
   "id": "f90fe4c2",
   "metadata": {},
   "source": [
    "Then, Optimisation method should be defined in this step. DiferentialEvolution(https://docs.scipy.org/doc/scipy/reference/generated/scipy.optimize.differential_evolution.html) or ScipyMinimize(https://docs.scipy.org/doc/scipy/reference/generated/scipy.optimize.minimize.html)\n",
    "\n",
    "can be used to minimise cost function. For faster results, ScipyMinimize with ```\"Nelder-Mead\"``` method can be used. However, ScipyDifferentialEvolution is more robust and has provided lower value for most of the cases. "
   ]
  },
  {
   "cell_type": "code",
   "execution_count": 10,
   "id": "c64e899d",
   "metadata": {},
   "outputs": [],
   "source": [
    "# optimiser = pbparam.ScipyDifferentialEvolution(\n",
    "#     extra_options={\"workers\": 4, \"polish\": True, \"updating\": \"deferred\", \"disp\": True}\n",
    "# )\n",
    "optimiser = pbparam.ScipyMinimize(method=\"Nelder-Mead\")"
   ]
  },
  {
   "cell_type": "markdown",
   "id": "9ae438c5",
   "metadata": {},
   "source": [
    "After providing everything for optimisation algorithm, it can be performed using `optimise(optimisation_problem)`"
   ]
  },
  {
   "cell_type": "code",
   "execution_count": 11,
   "id": "19d3f11a",
   "metadata": {},
   "outputs": [
    {
     "name": "stdout",
     "output_type": "stream",
     "text": [
      "\n",
      "             Optimal values: [9.42561498e-16 4.09956340e+00]\n",
      "        Cost function value: 0.0007432772288772603\n",
      "                 Solve time: 211.213 ms\n",
      "                    Message: Optimization terminated successfully.\n",
      "        \n"
     ]
    }
   ],
   "source": [
    "result = optimiser.optimise(opt)\n",
    "# optimised values of parameters and function values can be printed as below.\n",
    "print(result)"
   ]
  },
  {
   "cell_type": "markdown",
   "id": "9ec5fd3a",
   "metadata": {},
   "source": [
    "```plot()``` function can be used to present result graphically."
   ]
  },
  {
   "cell_type": "code",
   "execution_count": 12,
   "id": "cf38f942",
   "metadata": {},
   "outputs": [
    {
     "data": {
      "image/png": "[encoded data removed]",
      "text/plain": [
       "<Figure size 400x400 with 1 Axes>"
      ]
     },
     "metadata": {},
     "output_type": "display_data"
    },
    {
     "data": {
      "text/plain": [
       "<pybamm.plotting.quick_plot.QuickPlot at 0x1739aca10>"
      ]
     },
     "execution_count": 12,
     "metadata": {},
     "output_type": "execute_result"
    }
   ],
   "source": [
    "result.plot()"
   ]
  },
  {
   "cell_type": "code",
   "execution_count": null,
   "id": "0f0127b7",
   "metadata": {},
   "outputs": [],
   "source": []
  }
 ],
 "metadata": {
  "kernelspec": {
   "display_name": "Python 3 (ipykernel)",
   "language": "python",
   "name": "python3"
  },
  "language_info": {
   "codemirror_mode": {
    "name": "ipython",
    "version": 3
   },
   "file_extension": ".py",
   "mimetype": "text/x-python",
   "name": "python",
   "nbconvert_exporter": "python",
   "pygments_lexer": "ipython3",
   "version": "3.9.10"
  },
  "vscode": {
   "interpreter": {
    "hash": "fb77006a34bae7b3455bf1af19d13801d1160b5407ef5c8323378eef03722c93"
   }
  }
 },
 "nbformat": 4,
 "nbformat_minor": 5
}
