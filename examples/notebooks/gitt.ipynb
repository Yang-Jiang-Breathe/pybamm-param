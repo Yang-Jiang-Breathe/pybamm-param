{
 "cells": [
  {
   "cell_type": "markdown",
   "id": "1ee4c0db",
   "metadata": {},
   "source": [
    "# **Parameter Optimisation for GITT** \n",
    "\n",
    "This notebook is created to provide an example for ```GITT``` optimisation problem. Diffisuion Coefficient is optimised in this notebook. Only voltage will be considered for optimisation in this example.\n",
    " The workflow is as follows:\n"
   ]
  },
  {
   "cell_type": "code",
   "execution_count": 1,
   "id": "5ba4b709",
   "metadata": {},
   "outputs": [],
   "source": [
    "#%pip install git+https://github.com/paramm-team/pybamm-param.git -q\n",
    "import pybamm\n",
    "import pbparam\n",
    "import pandas as pd"
   ]
  },
  {
   "cell_type": "markdown",
   "id": "f087e770",
   "metadata": {},
   "source": [
    "We are creating a syntethic data first."
   ]
  },
  {
   "cell_type": "code",
   "execution_count": 2,
   "id": "ea2c6d41",
   "metadata": {},
   "outputs": [],
   "source": [
    "syn_model = pybamm.lithium_ion.SPM()"
   ]
  },
  {
   "cell_type": "markdown",
   "id": "6365750d",
   "metadata": {},
   "source": [
    "Synthethic data parameters are defined here:"
   ]
  },
  {
   "cell_type": "code",
   "execution_count": 3,
   "id": "a7d1e9fa",
   "metadata": {},
   "outputs": [],
   "source": [
    "syn_param = syn_model.default_parameter_values\n",
    "\n",
    "syn_param.update(\n",
    "            {\n",
    "                \"Reference OCP [V]\": 4.2,\n",
    "                \"Derivative of the OCP wrt stoichiometry [V]\": -1,\n",
    "                \"Contact resistance [Ohm]\": 0.1,\n",
    "                \"Positive electrode diffusivity [m2.s-1]\": 4e-15\n",
    "                },\n",
    "            check_already_exists=False,\n",
    "        )\n",
    "\n",
    "syn_sim = pybamm.Simulation(syn_model, parameter_values=syn_param)\n",
    "syn_solution = syn_sim.solve([0, 100])"
   ]
  },
  {
   "cell_type": "markdown",
   "id": "497b6382",
   "metadata": {},
   "source": [
    "Then, it is plotted:"
   ]
  },
  {
   "cell_type": "code",
   "execution_count": 4,
   "id": "ff238811",
   "metadata": {},
   "outputs": [
    {
     "data": {
      "application/vnd.jupyter.widget-view+json": {
       "model_id": "470fd53c82d74a50bdc8376f7bf30c6b",
       "version_major": 2,
       "version_minor": 0
      },
      "text/plain": [
       "interactive(children=(FloatSlider(value=0.0, description='t', step=1.0), Output()), _dom_classes=('widget-inte…"
      ]
     },
     "metadata": {},
     "output_type": "display_data"
    },
    {
     "data": {
      "text/plain": [
       "<pybamm.plotting.quick_plot.QuickPlot at 0x1b087701f10>"
      ]
     },
     "execution_count": 4,
     "metadata": {},
     "output_type": "execute_result"
    }
   ],
   "source": [
    "syn_solution.plot(['Voltage [V]'])"
   ]
  },
  {
   "cell_type": "markdown",
   "id": "0456a81d",
   "metadata": {},
   "source": [
    "The synthethic data is passed to a dataframe:"
   ]
  },
  {
   "cell_type": "code",
   "execution_count": 5,
   "id": "6bc43581",
   "metadata": {},
   "outputs": [],
   "source": [
    "d = {'Time [s]':syn_solution[\"Time [s]\"].entries, 'Voltage [V]': syn_solution[\"Voltage [V]\"].entries}\n",
    "\n",
    "data = pd.DataFrame(data = d)"
   ]
  },
  {
   "cell_type": "code",
   "execution_count": 6,
   "id": "a4b3fb5f",
   "metadata": {},
   "outputs": [
    {
     "data": {
      "text/html": [
       "<div>\n",
       "<style scoped>\n",
       "    .dataframe tbody tr th:only-of-type {\n",
       "        vertical-align: middle;\n",
       "    }\n",
       "\n",
       "    .dataframe tbody tr th {\n",
       "        vertical-align: top;\n",
       "    }\n",
       "\n",
       "    .dataframe thead th {\n",
       "        text-align: right;\n",
       "    }\n",
       "</style>\n",
       "<table border=\"1\" class=\"dataframe\">\n",
       "  <thead>\n",
       "    <tr style=\"text-align: right;\">\n",
       "      <th></th>\n",
       "      <th>Time [s]</th>\n",
       "      <th>Voltage [V]</th>\n",
       "    </tr>\n",
       "  </thead>\n",
       "  <tbody>\n",
       "    <tr>\n",
       "      <th>0</th>\n",
       "      <td>0.000000</td>\n",
       "      <td>3.780084</td>\n",
       "    </tr>\n",
       "    <tr>\n",
       "      <th>1</th>\n",
       "      <td>1.010101</td>\n",
       "      <td>3.778840</td>\n",
       "    </tr>\n",
       "    <tr>\n",
       "      <th>2</th>\n",
       "      <td>2.020202</td>\n",
       "      <td>3.777628</td>\n",
       "    </tr>\n",
       "    <tr>\n",
       "      <th>3</th>\n",
       "      <td>3.030303</td>\n",
       "      <td>3.776444</td>\n",
       "    </tr>\n",
       "    <tr>\n",
       "      <th>4</th>\n",
       "      <td>4.040404</td>\n",
       "      <td>3.775286</td>\n",
       "    </tr>\n",
       "    <tr>\n",
       "      <th>...</th>\n",
       "      <td>...</td>\n",
       "      <td>...</td>\n",
       "    </tr>\n",
       "    <tr>\n",
       "      <th>95</th>\n",
       "      <td>95.959596</td>\n",
       "      <td>3.720581</td>\n",
       "    </tr>\n",
       "    <tr>\n",
       "      <th>96</th>\n",
       "      <td>96.969697</td>\n",
       "      <td>3.720252</td>\n",
       "    </tr>\n",
       "    <tr>\n",
       "      <th>97</th>\n",
       "      <td>97.979798</td>\n",
       "      <td>3.719926</td>\n",
       "    </tr>\n",
       "    <tr>\n",
       "      <th>98</th>\n",
       "      <td>98.989899</td>\n",
       "      <td>3.719602</td>\n",
       "    </tr>\n",
       "    <tr>\n",
       "      <th>99</th>\n",
       "      <td>100.000000</td>\n",
       "      <td>3.719281</td>\n",
       "    </tr>\n",
       "  </tbody>\n",
       "</table>\n",
       "<p>100 rows × 2 columns</p>\n",
       "</div>"
      ],
      "text/plain": [
       "      Time [s]  Voltage [V]\n",
       "0     0.000000     3.780084\n",
       "1     1.010101     3.778840\n",
       "2     2.020202     3.777628\n",
       "3     3.030303     3.776444\n",
       "4     4.040404     3.775286\n",
       "..         ...          ...\n",
       "95   95.959596     3.720581\n",
       "96   96.969697     3.720252\n",
       "97   97.979798     3.719926\n",
       "98   98.989899     3.719602\n",
       "99  100.000000     3.719281\n",
       "\n",
       "[100 rows x 2 columns]"
      ]
     },
     "execution_count": 6,
     "metadata": {},
     "output_type": "execute_result"
    }
   ],
   "source": [
    "data"
   ]
  },
  {
   "cell_type": "markdown",
   "id": "1618f776",
   "metadata": {},
   "source": [
    "PbParam model to be used for GITT needs to be defined:"
   ]
  },
  {
   "cell_type": "code",
   "execution_count": 7,
   "id": "04906531",
   "metadata": {},
   "outputs": [],
   "source": [
    "model = pbparam.WeppnerHuggins()"
   ]
  },
  {
   "cell_type": "markdown",
   "id": "6684dc63",
   "metadata": {},
   "source": [
    "Next, parameter dictionary needs to be defined with all of the required parameters:"
   ]
  },
  {
   "cell_type": "code",
   "execution_count": 8,
   "id": "a39ab05a",
   "metadata": {},
   "outputs": [],
   "source": [
    "param_dict={\n",
    "        \"Reference OCP [V]\": 4.2,\n",
    "        \"Derivative of the OCP wrt stoichiometry [V]\": -1,\n",
    "        \"Current function [A]\": 0.680616,\n",
    "        \"Number of electrodes connected in parallel to make a cell\": 1.0,\n",
    "        \"Electrode width [m]\": 0.207,\n",
    "        \"Electrode height [m]\": 0.137,\n",
    "        \"Positive electrode active material volume fraction\": 0.5,\n",
    "        \"Positive particle radius [m]\": 1e-05,\n",
    "        \"Positive electrode thickness [m]\": 0.0001,\n",
    "        \"Positive electrode diffusivity [m2.s-1]\": 5e-14,\n",
    "        \"Maximum concentration in positive electrode [mol.m-3]\": 51217.9257309275\n",
    "    }"
   ]
  },
  {
   "cell_type": "code",
   "execution_count": 9,
   "id": "bee6ce22",
   "metadata": {},
   "outputs": [],
   "source": [
    "# optimisation problem is GITT.\n",
    "opt = pbparam.GITT(param_dict=param_dict,gitt_model=model, data=data)"
   ]
  },
  {
   "cell_type": "markdown",
   "id": "f90fe4c2",
   "metadata": {},
   "source": [
    "Then, Optimisation method should be defined in this step. DiferentialEvolution(https://docs.scipy.org/doc/scipy/reference/generated/scipy.optimize.differential_evolution.html) or ScipyMinimize(https://docs.scipy.org/doc/scipy/reference/generated/scipy.optimize.minimize.html)\n",
    "\n",
    "can be used to minimise cost function. For faster results, ScipyMinimize with ```\"Nelder-Mead\"``` method can be used. However, ScipyDifferentialEvolution is more robust and has provided lower value for most of the cases. "
   ]
  },
  {
   "cell_type": "code",
   "execution_count": 10,
   "id": "c64e899d",
   "metadata": {},
   "outputs": [],
   "source": [
    "optimiser = pbparam.ScipyDifferentialEvolution(\n",
    "    extra_options={\"workers\": 4, \"polish\": True, \"updating\": \"deferred\", \"disp\": True}\n",
    ")\n",
    "# optimiser = pbparam.ScipyMinimize(method=\"Nelder-Mead\")"
   ]
  },
  {
   "cell_type": "markdown",
   "id": "9ae438c5",
   "metadata": {},
   "source": [
    "After providing everything for optimisation algorithm, it can be performed using `optimise(optimisation_problem)`"
   ]
  },
  {
   "cell_type": "code",
   "execution_count": 11,
   "id": "19d3f11a",
   "metadata": {},
   "outputs": [
    {
     "ename": "AttributeError",
     "evalue": "'dict' object has no attribute 'process_model'",
     "output_type": "error",
     "traceback": [
      "\u001b[1;31m---------------------------------------------------------------------------\u001b[0m",
      "\u001b[1;31mRemoteTraceback\u001b[0m                           Traceback (most recent call last)",
      "\u001b[1;31mRemoteTraceback\u001b[0m: \n\"\"\"\nTraceback (most recent call last):\n  File \"C:\\Program Files\\WindowsApps\\PythonSoftwareFoundation.Python.3.11_3.11.1776.0_x64__qbz5n2kfra8p0\\Lib\\multiprocessing\\pool.py\", line 125, in worker\n    result = (True, func(*args, **kwds))\n                    ^^^^^^^^^^^^^^^^^^^\n  File \"C:\\Program Files\\WindowsApps\\PythonSoftwareFoundation.Python.3.11_3.11.1776.0_x64__qbz5n2kfra8p0\\Lib\\multiprocessing\\pool.py\", line 48, in mapstar\n    return list(map(*args))\n           ^^^^^^^^^^^^^^^^\n  File \"C:\\Users\\nedim\\AppData\\Local\\Packages\\PythonSoftwareFoundation.Python.3.11_qbz5n2kfra8p0\\LocalCache\\local-packages\\Python311\\site-packages\\scipy\\_lib\\_util.py\", line 360, in __call__\n    return self.f(x, *self.args)\n           ^^^^^^^^^^^^^^^^^^^^^\n  File \"C:\\Users\\nedim\\OneDrive\\Belgeler\\pybamm-param\\pbparam\\optimisation_problems\\data_fit.py\", line 83, in objective_function\n    self.solution = self.model.solve([0, t_end], inputs=input_dict)\n                    ^^^^^^^^^^^^^^^^^^^^^^^^^^^^^^^^^^^^^^^^^^^^^^^\n  File \"C:\\Users\\nedim\\AppData\\Local\\Packages\\PythonSoftwareFoundation.Python.3.11_qbz5n2kfra8p0\\LocalCache\\local-packages\\Python311\\site-packages\\pybamm\\simulation.py\", line 525, in solve\n    self.build(check_model=check_model, initial_soc=initial_soc)\n  File \"C:\\Users\\nedim\\AppData\\Local\\Packages\\PythonSoftwareFoundation.Python.3.11_qbz5n2kfra8p0\\LocalCache\\local-packages\\Python311\\site-packages\\pybamm\\simulation.py\", line 407, in build\n    self.set_parameters()\n  File \"C:\\Users\\nedim\\AppData\\Local\\Packages\\PythonSoftwareFoundation.Python.3.11_qbz5n2kfra8p0\\LocalCache\\local-packages\\Python311\\site-packages\\pybamm\\simulation.py\", line 357, in set_parameters\n    self._model_with_set_params = self._parameter_values.process_model(\n                                  ^^^^^^^^^^^^^^^^^^^^^^^^^^^^^^^^^^^^\nAttributeError: 'dict' object has no attribute 'process_model'\n\"\"\"",
      "\nThe above exception was the direct cause of the following exception:\n",
      "\u001b[1;31mAttributeError\u001b[0m                            Traceback (most recent call last)",
      "\u001b[1;32mc:\\Users\\nedim\\OneDrive\\Belgeler\\pybamm-param\\examples\\notebooks\\gitt.ipynb Cell 20\u001b[0m line \u001b[0;36m1\n\u001b[1;32m----> <a href='vscode-notebook-cell:/c%3A/Users/nedim/OneDrive/Belgeler/pybamm-param/examples/notebooks/gitt.ipynb#X55sZmlsZQ%3D%3D?line=0'>1</a>\u001b[0m result \u001b[39m=\u001b[39m optimiser\u001b[39m.\u001b[39;49moptimise(opt)\n\u001b[0;32m      <a href='vscode-notebook-cell:/c%3A/Users/nedim/OneDrive/Belgeler/pybamm-param/examples/notebooks/gitt.ipynb#X55sZmlsZQ%3D%3D?line=1'>2</a>\u001b[0m \u001b[39m# optimised values of parameters and function values can be printed as below.\u001b[39;00m\n\u001b[0;32m      <a href='vscode-notebook-cell:/c%3A/Users/nedim/OneDrive/Belgeler/pybamm-param/examples/notebooks/gitt.ipynb#X55sZmlsZQ%3D%3D?line=2'>3</a>\u001b[0m \u001b[39mprint\u001b[39m(result)\n",
      "File \u001b[1;32m~\\OneDrive\\Belgeler\\pybamm-param\\pbparam\\optimisers\\base_optimiser.py:60\u001b[0m, in \u001b[0;36mBaseOptimiser.optimise\u001b[1;34m(self, optimisation_problem, x0, bounds, pybamm_logging_level)\u001b[0m\n\u001b[0;32m     57\u001b[0m \u001b[39mself\u001b[39m\u001b[39m.\u001b[39mx0 \u001b[39m=\u001b[39m x0 \u001b[39mor\u001b[39;00m optimisation_problem\u001b[39m.\u001b[39mx0\n\u001b[0;32m     58\u001b[0m \u001b[39mself\u001b[39m\u001b[39m.\u001b[39mbounds \u001b[39m=\u001b[39m bounds \u001b[39mor\u001b[39;00m optimisation_problem\u001b[39m.\u001b[39mbounds\n\u001b[1;32m---> 60\u001b[0m result \u001b[39m=\u001b[39m \u001b[39mself\u001b[39;49m\u001b[39m.\u001b[39;49m_run_optimiser(optimisation_problem, \u001b[39mself\u001b[39;49m\u001b[39m.\u001b[39;49mx0, \u001b[39mself\u001b[39;49m\u001b[39m.\u001b[39;49mbounds)\n\u001b[0;32m     62\u001b[0m \u001b[39m# Restore original logging level\u001b[39;00m\n\u001b[0;32m     63\u001b[0m pybamm\u001b[39m.\u001b[39mset_logging_level(old_logging_level)\n",
      "File \u001b[1;32m~\\OneDrive\\Belgeler\\pybamm-param\\pbparam\\optimisers\\scipy_differential_evolution.py:56\u001b[0m, in \u001b[0;36mScipyDifferentialEvolution._run_optimiser\u001b[1;34m(self, optimisation_problem, x0, bounds)\u001b[0m\n\u001b[0;32m     37\u001b[0m \u001b[39m\u001b[39m\u001b[39m\"\"\"\u001b[39;00m\n\u001b[0;32m     38\u001b[0m \u001b[39mRuns the optimization process.\u001b[39;00m\n\u001b[0;32m     39\u001b[0m \n\u001b[1;32m   (...)\u001b[0m\n\u001b[0;32m     53\u001b[0m \n\u001b[0;32m     54\u001b[0m \u001b[39m\"\"\"\u001b[39;00m\n\u001b[0;32m     55\u001b[0m timer \u001b[39m=\u001b[39m pybamm\u001b[39m.\u001b[39mTimer()\n\u001b[1;32m---> 56\u001b[0m raw_result \u001b[39m=\u001b[39m differential_evolution(\n\u001b[0;32m     57\u001b[0m     optimisation_problem\u001b[39m.\u001b[39;49mobjective_function,\n\u001b[0;32m     58\u001b[0m     bounds,\n\u001b[0;32m     59\u001b[0m     x0\u001b[39m=\u001b[39;49mx0,\n\u001b[0;32m     60\u001b[0m     \u001b[39m*\u001b[39;49m\u001b[39m*\u001b[39;49m\u001b[39mself\u001b[39;49m\u001b[39m.\u001b[39;49mextra_options,\n\u001b[0;32m     61\u001b[0m )\n\u001b[0;32m     62\u001b[0m solve_time \u001b[39m=\u001b[39m timer\u001b[39m.\u001b[39mtime()\n\u001b[0;32m     63\u001b[0m \u001b[39mif\u001b[39;00m optimisation_problem\u001b[39m.\u001b[39mscalings \u001b[39mis\u001b[39;00m \u001b[39mNone\u001b[39;00m:\n",
      "File \u001b[1;32m~\\AppData\\Local\\Packages\\PythonSoftwareFoundation.Python.3.11_qbz5n2kfra8p0\\LocalCache\\local-packages\\Python311\\site-packages\\scipy\\optimize\\_differentialevolution.py:402\u001b[0m, in \u001b[0;36mdifferential_evolution\u001b[1;34m(func, bounds, args, strategy, maxiter, popsize, tol, mutation, recombination, seed, callback, disp, polish, init, atol, updating, workers, constraints, x0, integrality, vectorized)\u001b[0m\n\u001b[0;32m    385\u001b[0m \u001b[39m# using a context manager means that any created Pool objects are\u001b[39;00m\n\u001b[0;32m    386\u001b[0m \u001b[39m# cleared up.\u001b[39;00m\n\u001b[0;32m    387\u001b[0m \u001b[39mwith\u001b[39;00m DifferentialEvolutionSolver(func, bounds, args\u001b[39m=\u001b[39margs,\n\u001b[0;32m    388\u001b[0m                                  strategy\u001b[39m=\u001b[39mstrategy,\n\u001b[0;32m    389\u001b[0m                                  maxiter\u001b[39m=\u001b[39mmaxiter,\n\u001b[1;32m   (...)\u001b[0m\n\u001b[0;32m    400\u001b[0m                                  integrality\u001b[39m=\u001b[39mintegrality,\n\u001b[0;32m    401\u001b[0m                                  vectorized\u001b[39m=\u001b[39mvectorized) \u001b[39mas\u001b[39;00m solver:\n\u001b[1;32m--> 402\u001b[0m     ret \u001b[39m=\u001b[39m solver\u001b[39m.\u001b[39;49msolve()\n\u001b[0;32m    404\u001b[0m \u001b[39mreturn\u001b[39;00m ret\n",
      "File \u001b[1;32m~\\AppData\\Local\\Packages\\PythonSoftwareFoundation.Python.3.11_qbz5n2kfra8p0\\LocalCache\\local-packages\\Python311\\site-packages\\scipy\\optimize\\_differentialevolution.py:1013\u001b[0m, in \u001b[0;36mDifferentialEvolutionSolver.solve\u001b[1;34m(self)\u001b[0m\n\u001b[0;32m   1008\u001b[0m     \u001b[39mself\u001b[39m\u001b[39m.\u001b[39mfeasible, \u001b[39mself\u001b[39m\u001b[39m.\u001b[39mconstraint_violation \u001b[39m=\u001b[39m (\n\u001b[0;32m   1009\u001b[0m         \u001b[39mself\u001b[39m\u001b[39m.\u001b[39m_calculate_population_feasibilities(\u001b[39mself\u001b[39m\u001b[39m.\u001b[39mpopulation))\n\u001b[0;32m   1011\u001b[0m     \u001b[39m# only work out population energies for feasible solutions\u001b[39;00m\n\u001b[0;32m   1012\u001b[0m     \u001b[39mself\u001b[39m\u001b[39m.\u001b[39mpopulation_energies[\u001b[39mself\u001b[39m\u001b[39m.\u001b[39mfeasible] \u001b[39m=\u001b[39m (\n\u001b[1;32m-> 1013\u001b[0m         \u001b[39mself\u001b[39;49m\u001b[39m.\u001b[39;49m_calculate_population_energies(\n\u001b[0;32m   1014\u001b[0m             \u001b[39mself\u001b[39;49m\u001b[39m.\u001b[39;49mpopulation[\u001b[39mself\u001b[39;49m\u001b[39m.\u001b[39;49mfeasible]))\n\u001b[0;32m   1016\u001b[0m     \u001b[39mself\u001b[39m\u001b[39m.\u001b[39m_promote_lowest_energy()\n\u001b[0;32m   1018\u001b[0m \u001b[39m# do the optimization.\u001b[39;00m\n",
      "File \u001b[1;32m~\\AppData\\Local\\Packages\\PythonSoftwareFoundation.Python.3.11_qbz5n2kfra8p0\\LocalCache\\local-packages\\Python311\\site-packages\\scipy\\optimize\\_differentialevolution.py:1147\u001b[0m, in \u001b[0;36mDifferentialEvolutionSolver._calculate_population_energies\u001b[1;34m(self, population)\u001b[0m\n\u001b[0;32m   1144\u001b[0m parameters_pop \u001b[39m=\u001b[39m \u001b[39mself\u001b[39m\u001b[39m.\u001b[39m_scale_parameters(population)\n\u001b[0;32m   1145\u001b[0m \u001b[39mtry\u001b[39;00m:\n\u001b[0;32m   1146\u001b[0m     calc_energies \u001b[39m=\u001b[39m \u001b[39mlist\u001b[39m(\n\u001b[1;32m-> 1147\u001b[0m         \u001b[39mself\u001b[39;49m\u001b[39m.\u001b[39;49m_mapwrapper(\u001b[39mself\u001b[39;49m\u001b[39m.\u001b[39;49mfunc, parameters_pop[\u001b[39m0\u001b[39;49m:S])\n\u001b[0;32m   1148\u001b[0m     )\n\u001b[0;32m   1149\u001b[0m     calc_energies \u001b[39m=\u001b[39m np\u001b[39m.\u001b[39msqueeze(calc_energies)\n\u001b[0;32m   1150\u001b[0m \u001b[39mexcept\u001b[39;00m (\u001b[39mTypeError\u001b[39;00m, \u001b[39mValueError\u001b[39;00m) \u001b[39mas\u001b[39;00m e:\n\u001b[0;32m   1151\u001b[0m     \u001b[39m# wrong number of arguments for _mapwrapper\u001b[39;00m\n\u001b[0;32m   1152\u001b[0m     \u001b[39m# or wrong length returned from the mapper\u001b[39;00m\n",
      "File \u001b[1;32m~\\AppData\\Local\\Packages\\PythonSoftwareFoundation.Python.3.11_qbz5n2kfra8p0\\LocalCache\\local-packages\\Python311\\site-packages\\scipy\\_lib\\_util.py:430\u001b[0m, in \u001b[0;36mMapWrapper.__call__\u001b[1;34m(self, func, iterable)\u001b[0m\n\u001b[0;32m    427\u001b[0m \u001b[39mdef\u001b[39;00m \u001b[39m__call__\u001b[39m(\u001b[39mself\u001b[39m, func, iterable):\n\u001b[0;32m    428\u001b[0m     \u001b[39m# only accept one iterable because that's all Pool.map accepts\u001b[39;00m\n\u001b[0;32m    429\u001b[0m     \u001b[39mtry\u001b[39;00m:\n\u001b[1;32m--> 430\u001b[0m         \u001b[39mreturn\u001b[39;00m \u001b[39mself\u001b[39;49m\u001b[39m.\u001b[39;49m_mapfunc(func, iterable)\n\u001b[0;32m    431\u001b[0m     \u001b[39mexcept\u001b[39;00m \u001b[39mTypeError\u001b[39;00m \u001b[39mas\u001b[39;00m e:\n\u001b[0;32m    432\u001b[0m         \u001b[39m# wrong number of arguments\u001b[39;00m\n\u001b[0;32m    433\u001b[0m         \u001b[39mraise\u001b[39;00m \u001b[39mTypeError\u001b[39;00m(\u001b[39m\"\u001b[39m\u001b[39mThe map-like callable must be of the\u001b[39m\u001b[39m\"\u001b[39m\n\u001b[0;32m    434\u001b[0m                         \u001b[39m\"\u001b[39m\u001b[39m form f(func, iterable)\u001b[39m\u001b[39m\"\u001b[39m) \u001b[39mfrom\u001b[39;00m \u001b[39me\u001b[39;00m\n",
      "File \u001b[1;32mC:\\Program Files\\WindowsApps\\PythonSoftwareFoundation.Python.3.11_3.11.1776.0_x64__qbz5n2kfra8p0\\Lib\\multiprocessing\\pool.py:367\u001b[0m, in \u001b[0;36mPool.map\u001b[1;34m(self, func, iterable, chunksize)\u001b[0m\n\u001b[0;32m    362\u001b[0m \u001b[39mdef\u001b[39;00m \u001b[39mmap\u001b[39m(\u001b[39mself\u001b[39m, func, iterable, chunksize\u001b[39m=\u001b[39m\u001b[39mNone\u001b[39;00m):\n\u001b[0;32m    363\u001b[0m \u001b[39m    \u001b[39m\u001b[39m'''\u001b[39;00m\n\u001b[0;32m    364\u001b[0m \u001b[39m    Apply `func` to each element in `iterable`, collecting the results\u001b[39;00m\n\u001b[0;32m    365\u001b[0m \u001b[39m    in a list that is returned.\u001b[39;00m\n\u001b[0;32m    366\u001b[0m \u001b[39m    '''\u001b[39;00m\n\u001b[1;32m--> 367\u001b[0m     \u001b[39mreturn\u001b[39;00m \u001b[39mself\u001b[39;49m\u001b[39m.\u001b[39;49m_map_async(func, iterable, mapstar, chunksize)\u001b[39m.\u001b[39;49mget()\n",
      "File \u001b[1;32mC:\\Program Files\\WindowsApps\\PythonSoftwareFoundation.Python.3.11_3.11.1776.0_x64__qbz5n2kfra8p0\\Lib\\multiprocessing\\pool.py:774\u001b[0m, in \u001b[0;36mApplyResult.get\u001b[1;34m(self, timeout)\u001b[0m\n\u001b[0;32m    772\u001b[0m     \u001b[39mreturn\u001b[39;00m \u001b[39mself\u001b[39m\u001b[39m.\u001b[39m_value\n\u001b[0;32m    773\u001b[0m \u001b[39melse\u001b[39;00m:\n\u001b[1;32m--> 774\u001b[0m     \u001b[39mraise\u001b[39;00m \u001b[39mself\u001b[39m\u001b[39m.\u001b[39m_value\n",
      "\u001b[1;31mAttributeError\u001b[0m: 'dict' object has no attribute 'process_model'"
     ]
    }
   ],
   "source": [
    "result = optimiser.optimise(opt)\n",
    "# optimised values of parameters and function values can be printed as below.\n",
    "print(result)"
   ]
  },
  {
   "cell_type": "markdown",
   "id": "9ec5fd3a",
   "metadata": {},
   "source": [
    "```plot()``` function can be used to present result graphically."
   ]
  },
  {
   "cell_type": "code",
   "execution_count": null,
   "id": "cf38f942",
   "metadata": {},
   "outputs": [
    {
     "data": {
      "image/png": "[encoded data removed]",
      "text/plain": [
       "<Figure size 400x400 with 1 Axes>"
      ]
     },
     "metadata": {},
     "output_type": "display_data"
    },
    {
     "data": {
      "text/plain": [
       "<pybamm.plotting.quick_plot.QuickPlot at 0x15e04b610>"
      ]
     },
     "execution_count": 11,
     "metadata": {},
     "output_type": "execute_result"
    }
   ],
   "source": [
    "result.plot()"
   ]
  },
  {
   "cell_type": "code",
   "execution_count": null,
   "id": "6dcc3332",
   "metadata": {},
   "outputs": [],
   "source": []
  }
 ],
 "metadata": {
  "kernelspec": {
   "display_name": "Python 3 (ipykernel)",
   "language": "python",
   "name": "python3"
  },
  "language_info": {
   "codemirror_mode": {
    "name": "ipython",
    "version": 3
   },
   "file_extension": ".py",
   "mimetype": "text/x-python",
   "name": "python",
   "nbconvert_exporter": "python",
   "pygments_lexer": "ipython3",
   "version": "3.11.6"
  },
  "vscode": {
   "interpreter": {
    "hash": "fb77006a34bae7b3455bf1af19d13801d1160b5407ef5c8323378eef03722c93"
   }
  }
 },
 "nbformat": 4,
 "nbformat_minor": 5
}
