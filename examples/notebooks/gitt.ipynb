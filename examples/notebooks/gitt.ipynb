{
 "cells": [
  {
   "cell_type": "markdown",
   "id": "1ee4c0db",
   "metadata": {},
   "source": [
    "# **Parameter Optimisation for GITT** \n",
    "\n",
    "This notebook is created to provide an example for ```GITT``` optimisation problem. Diffisuion Coefficient is optimised in this notebook. Only voltage will be considered for optimisation in this example.\n",
    " The workflow is as follows:\n"
   ]
  },
  {
   "cell_type": "code",
   "execution_count": 1,
   "id": "5ba4b709",
   "metadata": {},
   "outputs": [],
   "source": [
    "#%pip install git+https://github.com/paramm-team/pybamm-param.git -q\n",
    "import pybamm\n",
    "import pbparam\n",
    "import pandas as pd\n",
    "#import os\n",
    "#os.chdir(os.path.join(pbparam.__path__[0], \"input\", \"data\"))"
   ]
  },
  {
   "cell_type": "code",
   "execution_count": 2,
   "id": "bc73e375",
   "metadata": {},
   "outputs": [
    {
     "data": {
      "text/plain": [
       "'/Users/muhammedsogut/Documents/GitHub/pybamm-param/pbparam'"
      ]
     },
     "execution_count": 2,
     "metadata": {},
     "output_type": "execute_result"
    }
   ],
   "source": [
    "pbparam.__path__[0]"
   ]
  },
  {
   "cell_type": "markdown",
   "id": "f087e770",
   "metadata": {},
   "source": [
    "We are creating a syntethic data first."
   ]
  },
  {
   "cell_type": "code",
   "execution_count": 3,
   "id": "ea2c6d41",
   "metadata": {},
   "outputs": [],
   "source": [
    "syn_model = pybamm.lithium_ion.SPM()"
   ]
  },
  {
   "cell_type": "code",
   "execution_count": 4,
   "id": "a7d1e9fa",
   "metadata": {},
   "outputs": [],
   "source": [
    "syn_param = syn_model.default_parameter_values\n",
    "\n",
    "syn_param.update(\n",
    "            {\n",
    "                \"Reference OCP [V]\": 4.2,\n",
    "                \"Derivative of the OCP wrt stoichiometry [V]\": -1,\n",
    "                \"Contact resistance [Ohm]\": 0.1,\n",
    "                \"Positive electrode diffusivity [m2.s-1]\": 4e-15\n",
    "                },\n",
    "            check_already_exists=False,\n",
    "        )\n",
    "\n",
    "syn_sim = pybamm.Simulation(syn_model, parameter_values=syn_param)\n",
    "syn_solution = syn_sim.solve([0, 100])"
   ]
  },
  {
   "cell_type": "code",
   "execution_count": 5,
   "id": "edd66f64",
   "metadata": {},
   "outputs": [
    {
     "data": {
      "application/vnd.jupyter.widget-view+json": {
       "model_id": "142afa36932c42b8a1943c63af15f589",
       "version_major": 2,
       "version_minor": 0
      },
      "text/plain": [
       "interactive(children=(FloatSlider(value=0.0, description='t', step=1.0), Output()), _dom_classes=('widget-inte…"
      ]
     },
     "metadata": {},
     "output_type": "display_data"
    },
    {
     "data": {
      "text/plain": [
       "<pybamm.plotting.quick_plot.QuickPlot at 0x1741c3850>"
      ]
     },
     "execution_count": 5,
     "metadata": {},
     "output_type": "execute_result"
    }
   ],
   "source": [
    "syn_solution.plot()"
   ]
  },
  {
   "cell_type": "code",
   "execution_count": 6,
   "id": "6bc43581",
   "metadata": {},
   "outputs": [],
   "source": [
    "d = {'Time [s]':syn_solution[\"Time [s]\"].entries, 'Voltage [V]': syn_solution[\"Voltage [V]\"].entries}\n",
    "\n",
    "data = pd.DataFrame(data = d)"
   ]
  },
  {
   "cell_type": "code",
   "execution_count": 7,
   "id": "4c2a9a8c",
   "metadata": {},
   "outputs": [],
   "source": [
    "#syn_param[\"\"]"
   ]
  },
  {
   "cell_type": "markdown",
   "id": "1618f776",
   "metadata": {},
   "source": [
    "PbParam model to be used for parameter optimisation needs to be defined:"
   ]
  },
  {
   "cell_type": "code",
   "execution_count": 8,
   "id": "04906531",
   "metadata": {},
   "outputs": [
    {
     "ename": "AttributeError",
     "evalue": "'function' object has no attribute 'domains'",
     "output_type": "error",
     "traceback": [
      "\u001b[0;31m---------------------------------------------------------------------------\u001b[0m",
      "\u001b[0;31mAttributeError\u001b[0m                            Traceback (most recent call last)",
      "Cell \u001b[0;32mIn[8], line 1\u001b[0m\n\u001b[0;32m----> 1\u001b[0m model \u001b[39m=\u001b[39m pbparam\u001b[39m.\u001b[39;49mWeppnerHuggins()\n\u001b[1;32m      2\u001b[0m \u001b[39m#model = pbparam.BasicGITT()\u001b[39;00m\n",
      "File \u001b[0;32m~/Documents/GitHub/pybamm-param/pbparam/models/weppner_huggins.py:51\u001b[0m, in \u001b[0;36mWeppnerHuggins.__init__\u001b[0;34m(self, name)\u001b[0m\n\u001b[1;32m     44\u001b[0m l_w \u001b[39m=\u001b[39m param\u001b[39m.\u001b[39mp\u001b[39m.\u001b[39mL\u001b[39m#pybamm.Parameter(\"Positive electrode thickness [m]\")\u001b[39;00m\n\u001b[1;32m     47\u001b[0m \u001b[39m######################\u001b[39;00m\n\u001b[1;32m     48\u001b[0m \u001b[39m# Governing equations\u001b[39;00m\n\u001b[1;32m     49\u001b[0m \u001b[39m######################\u001b[39;00m\n\u001b[1;32m     50\u001b[0m u_surf \u001b[39m=\u001b[39m (\n\u001b[0;32m---> 51\u001b[0m     (\u001b[39m2\u001b[39m \u001b[39m/\u001b[39m np\u001b[39m.\u001b[39mpi) \u001b[39m*\u001b[39m (i_app \u001b[39m/\u001b[39m (pybamm\u001b[39m.\u001b[39;49msqrt(d_s) \u001b[39m*\u001b[39m a \u001b[39m*\u001b[39m F \u001b[39m*\u001b[39m l_w)) \u001b[39m*\u001b[39m pybamm\u001b[39m.\u001b[39msqrt(t)\n\u001b[1;32m     52\u001b[0m )\n\u001b[1;32m     53\u001b[0m \u001b[39m# Linearised voltage\u001b[39;00m\n\u001b[1;32m     54\u001b[0m V \u001b[39m=\u001b[39m U \u001b[39m+\u001b[39m Uprime \u001b[39m*\u001b[39m u_surf\n",
      "File \u001b[0;32m/Library/Frameworks/Python.framework/Versions/3.11/lib/python3.11/site-packages/pybamm/expression_tree/functions.py:492\u001b[0m, in \u001b[0;36msqrt\u001b[0;34m(child)\u001b[0m\n\u001b[1;32m    490\u001b[0m \u001b[39mdef\u001b[39;00m \u001b[39msqrt\u001b[39m(child):\n\u001b[1;32m    491\u001b[0m \u001b[39m    \u001b[39m\u001b[39m\"\"\"Returns square root function of child.\"\"\"\u001b[39;00m\n\u001b[0;32m--> 492\u001b[0m     \u001b[39mreturn\u001b[39;00m simplified_function(Sqrt, child)\n",
      "File \u001b[0;32m/Library/Frameworks/Python.framework/Versions/3.11/lib/python3.11/site-packages/pybamm/expression_tree/functions.py:228\u001b[0m, in \u001b[0;36msimplified_function\u001b[0;34m(func_class, child)\u001b[0m\n\u001b[1;32m    226\u001b[0m     \u001b[39mreturn\u001b[39;00m child\u001b[39m.\u001b[39m_unary_new_copy(func_child_not_broad)\n\u001b[1;32m    227\u001b[0m \u001b[39melse\u001b[39;00m:\n\u001b[0;32m--> 228\u001b[0m     \u001b[39mreturn\u001b[39;00m pybamm\u001b[39m.\u001b[39msimplify_if_constant(func_class(child))\n",
      "File \u001b[0;32m/Library/Frameworks/Python.framework/Versions/3.11/lib/python3.11/site-packages/pybamm/expression_tree/functions.py:478\u001b[0m, in \u001b[0;36mSqrt.__init__\u001b[0;34m(self, child)\u001b[0m\n\u001b[1;32m    477\u001b[0m \u001b[39mdef\u001b[39;00m \u001b[39m__init__\u001b[39m(\u001b[39mself\u001b[39m, child):\n\u001b[0;32m--> 478\u001b[0m     \u001b[39msuper\u001b[39;49m()\u001b[39m.\u001b[39;49m\u001b[39m__init__\u001b[39;49m(np\u001b[39m.\u001b[39;49msqrt, child)\n",
      "File \u001b[0;32m/Library/Frameworks/Python.framework/Versions/3.11/lib/python3.11/site-packages/pybamm/expression_tree/functions.py:245\u001b[0m, in \u001b[0;36mSpecificFunction.__init__\u001b[0;34m(self, function, child)\u001b[0m\n\u001b[1;32m    244\u001b[0m \u001b[39mdef\u001b[39;00m \u001b[39m__init__\u001b[39m(\u001b[39mself\u001b[39m, function, child):\n\u001b[0;32m--> 245\u001b[0m     \u001b[39msuper\u001b[39;49m()\u001b[39m.\u001b[39;49m\u001b[39m__init__\u001b[39;49m(function, child)\n",
      "File \u001b[0;32m/Library/Frameworks/Python.framework/Versions/3.11/lib/python3.11/site-packages/pybamm/expression_tree/functions.py:54\u001b[0m, in \u001b[0;36mFunction.__init__\u001b[0;34m(self, function, name, derivative, differentiated_function, *children)\u001b[0m\n\u001b[1;32m     52\u001b[0m     \u001b[39mexcept\u001b[39;00m \u001b[39mAttributeError\u001b[39;00m:\n\u001b[1;32m     53\u001b[0m         name \u001b[39m=\u001b[39m \u001b[39m\"\u001b[39m\u001b[39mfunction (\u001b[39m\u001b[39m{}\u001b[39;00m\u001b[39m)\u001b[39m\u001b[39m\"\u001b[39m\u001b[39m.\u001b[39mformat(function\u001b[39m.\u001b[39m\u001b[39m__class__\u001b[39m)\n\u001b[0;32m---> 54\u001b[0m domains \u001b[39m=\u001b[39m \u001b[39mself\u001b[39;49m\u001b[39m.\u001b[39;49mget_children_domains(children)\n\u001b[1;32m     56\u001b[0m \u001b[39mself\u001b[39m\u001b[39m.\u001b[39mfunction \u001b[39m=\u001b[39m function\n\u001b[1;32m     57\u001b[0m \u001b[39mself\u001b[39m\u001b[39m.\u001b[39mderivative \u001b[39m=\u001b[39m derivative\n",
      "File \u001b[0;32m/Library/Frameworks/Python.framework/Versions/3.11/lib/python3.11/site-packages/pybamm/expression_tree/symbol.py:361\u001b[0m, in \u001b[0;36mSymbol.get_children_domains\u001b[0;34m(self, children)\u001b[0m\n\u001b[1;32m    359\u001b[0m domains \u001b[39m=\u001b[39m {}\n\u001b[1;32m    360\u001b[0m \u001b[39mfor\u001b[39;00m child \u001b[39min\u001b[39;00m children:\n\u001b[0;32m--> 361\u001b[0m     \u001b[39mfor\u001b[39;00m level \u001b[39min\u001b[39;00m child\u001b[39m.\u001b[39;49mdomains\u001b[39m.\u001b[39mkeys():\n\u001b[1;32m    362\u001b[0m         \u001b[39mif\u001b[39;00m child\u001b[39m.\u001b[39mdomains[level] \u001b[39m==\u001b[39m []:\n\u001b[1;32m    363\u001b[0m             \u001b[39mpass\u001b[39;00m\n",
      "\u001b[0;31mAttributeError\u001b[0m: 'function' object has no attribute 'domains'"
     ]
    }
   ],
   "source": [
    "model = pbparam.WeppnerHuggins()\n",
    "#model = pbparam.BasicGITT()"
   ]
  },
  {
   "cell_type": "markdown",
   "id": "6684dc63",
   "metadata": {},
   "source": [
    "Rest of the PyBaMM simulation requirements and initial parameters defined here:"
   ]
  },
  {
   "cell_type": "code",
   "execution_count": null,
   "id": "d36b692b",
   "metadata": {},
   "outputs": [
    {
     "data": {
      "text/plain": [
       "Parameter(-0x15a4d66e0f8b2d1, Positive electrode thickness [m], children=[], domains={})"
      ]
     },
     "execution_count": 9,
     "metadata": {},
     "output_type": "execute_result"
    }
   ],
   "source": [
    "model.param.p.L"
   ]
  },
  {
   "cell_type": "code",
   "execution_count": null,
   "id": "05d9343e",
   "metadata": {},
   "outputs": [],
   "source": [
    "param = model.default_parameter_values # Initial parameters to be used.\n",
    "\n",
    "# Update some parameters to match the experimental setup\n",
    "param.update(\n",
    "    {\n",
    "        \"Reference OCP [V]\": 4.2,\n",
    "        \"Derivative of the OCP wrt stoichiometry [V]\": -1,\n",
    "        \"Current function [A]\": 0.680616,\n",
    "        \"Number of electrodes connected in parallel to make a cell\": 1.0,\n",
    "        \"Electrode width [m]\": 0.207,\n",
    "        \"Electrode height [m]\": 0.137,\n",
    "        \"Positive electrode active material volume fraction\": 0.5,\n",
    "        \"Positive particle radius [m]\": 1e-05,\n",
    "        \"Positive electrode thickness [m]\": 0.0001,\n",
    "    },\n",
    "    check_already_exists=False,\n",
    ")\n",
    "\n",
    "simulation = pybamm.Simulation(model, parameter_values=param)"
   ]
  },
  {
   "cell_type": "code",
   "execution_count": null,
   "id": "e4611240",
   "metadata": {},
   "outputs": [
    {
     "ename": "TypeError",
     "evalue": "Cannot process parameter '<function lico2_diffusivity_Dualfoil1998 at 0x17fdcdb20>'",
     "output_type": "error",
     "traceback": [
      "\u001b[0;31m---------------------------------------------------------------------------\u001b[0m",
      "\u001b[0;31mKeyError\u001b[0m                                  Traceback (most recent call last)",
      "File \u001b[0;32m/Library/Frameworks/Python.framework/Versions/3.11/lib/python3.11/site-packages/pybamm/parameters/parameter_values.py:497\u001b[0m, in \u001b[0;36mParameterValues.process_symbol\u001b[0;34m(self, symbol)\u001b[0m\n\u001b[1;32m    496\u001b[0m \u001b[39mtry\u001b[39;00m:\n\u001b[0;32m--> 497\u001b[0m     \u001b[39mreturn\u001b[39;00m \u001b[39mself\u001b[39;49m\u001b[39m.\u001b[39;49m_processed_symbols[symbol]\n\u001b[1;32m    498\u001b[0m \u001b[39mexcept\u001b[39;00m \u001b[39mKeyError\u001b[39;00m:\n",
      "\u001b[0;31mKeyError\u001b[0m: Addition(0x7754d618cef337c3, +, children=['Reference OCP [V]', 'Derivative of the OCP wrt stoichiometry [V] * 0.6366197723675814 * Current function [A] / (Number of electrodes connected in parallel to make a cell * Electrode width [m] * Electrode height [m]) / (sqrt(Positive electrode diffusivity [m2.s-1]) * 3.0 * Positive electrode active material volume fraction / Positive particle radius [m] * Faraday constant [C.mol-1] * Positive electrode thickness [m]) * sqrt(time)'], domains={})",
      "\nDuring handling of the above exception, another exception occurred:\n",
      "\u001b[0;31mKeyError\u001b[0m                                  Traceback (most recent call last)",
      "File \u001b[0;32m/Library/Frameworks/Python.framework/Versions/3.11/lib/python3.11/site-packages/pybamm/parameters/parameter_values.py:497\u001b[0m, in \u001b[0;36mParameterValues.process_symbol\u001b[0;34m(self, symbol)\u001b[0m\n\u001b[1;32m    496\u001b[0m \u001b[39mtry\u001b[39;00m:\n\u001b[0;32m--> 497\u001b[0m     \u001b[39mreturn\u001b[39;00m \u001b[39mself\u001b[39;49m\u001b[39m.\u001b[39;49m_processed_symbols[symbol]\n\u001b[1;32m    498\u001b[0m \u001b[39mexcept\u001b[39;00m \u001b[39mKeyError\u001b[39;00m:\n",
      "\u001b[0;31mKeyError\u001b[0m: Multiplication(0x55fdd24d0b411c3e, *, children=['Derivative of the OCP wrt stoichiometry [V]', '0.6366197723675814 * Current function [A] / (Number of electrodes connected in parallel to make a cell * Electrode width [m] * Electrode height [m]) / (sqrt(Positive electrode diffusivity [m2.s-1]) * 3.0 * Positive electrode active material volume fraction / Positive particle radius [m] * Faraday constant [C.mol-1] * Positive electrode thickness [m]) * sqrt(time)'], domains={})",
      "\nDuring handling of the above exception, another exception occurred:\n",
      "\u001b[0;31mKeyError\u001b[0m                                  Traceback (most recent call last)",
      "File \u001b[0;32m/Library/Frameworks/Python.framework/Versions/3.11/lib/python3.11/site-packages/pybamm/parameters/parameter_values.py:497\u001b[0m, in \u001b[0;36mParameterValues.process_symbol\u001b[0;34m(self, symbol)\u001b[0m\n\u001b[1;32m    496\u001b[0m \u001b[39mtry\u001b[39;00m:\n\u001b[0;32m--> 497\u001b[0m     \u001b[39mreturn\u001b[39;00m \u001b[39mself\u001b[39;49m\u001b[39m.\u001b[39;49m_processed_symbols[symbol]\n\u001b[1;32m    498\u001b[0m \u001b[39mexcept\u001b[39;00m \u001b[39mKeyError\u001b[39;00m:\n",
      "\u001b[0;31mKeyError\u001b[0m: Multiplication(-0x4f1f0a8496962d85, *, children=['0.6366197723675814 * Current function [A] / (Number of electrodes connected in parallel to make a cell * Electrode width [m] * Electrode height [m]) / (sqrt(Positive electrode diffusivity [m2.s-1]) * 3.0 * Positive electrode active material volume fraction / Positive particle radius [m] * Faraday constant [C.mol-1] * Positive electrode thickness [m])', 'sqrt(time)'], domains={})",
      "\nDuring handling of the above exception, another exception occurred:\n",
      "\u001b[0;31mKeyError\u001b[0m                                  Traceback (most recent call last)",
      "File \u001b[0;32m/Library/Frameworks/Python.framework/Versions/3.11/lib/python3.11/site-packages/pybamm/parameters/parameter_values.py:497\u001b[0m, in \u001b[0;36mParameterValues.process_symbol\u001b[0;34m(self, symbol)\u001b[0m\n\u001b[1;32m    496\u001b[0m \u001b[39mtry\u001b[39;00m:\n\u001b[0;32m--> 497\u001b[0m     \u001b[39mreturn\u001b[39;00m \u001b[39mself\u001b[39;49m\u001b[39m.\u001b[39;49m_processed_symbols[symbol]\n\u001b[1;32m    498\u001b[0m \u001b[39mexcept\u001b[39;00m \u001b[39mKeyError\u001b[39;00m:\n",
      "\u001b[0;31mKeyError\u001b[0m: Multiplication(-0x1a71c3cf7a81b390, *, children=['0.6366197723675814', 'Current function [A] / (Number of electrodes connected in parallel to make a cell * Electrode width [m] * Electrode height [m]) / (sqrt(Positive electrode diffusivity [m2.s-1]) * 3.0 * Positive electrode active material volume fraction / Positive particle radius [m] * Faraday constant [C.mol-1] * Positive electrode thickness [m])'], domains={})",
      "\nDuring handling of the above exception, another exception occurred:\n",
      "\u001b[0;31mKeyError\u001b[0m                                  Traceback (most recent call last)",
      "File \u001b[0;32m/Library/Frameworks/Python.framework/Versions/3.11/lib/python3.11/site-packages/pybamm/parameters/parameter_values.py:497\u001b[0m, in \u001b[0;36mParameterValues.process_symbol\u001b[0;34m(self, symbol)\u001b[0m\n\u001b[1;32m    496\u001b[0m \u001b[39mtry\u001b[39;00m:\n\u001b[0;32m--> 497\u001b[0m     \u001b[39mreturn\u001b[39;00m \u001b[39mself\u001b[39;49m\u001b[39m.\u001b[39;49m_processed_symbols[symbol]\n\u001b[1;32m    498\u001b[0m \u001b[39mexcept\u001b[39;00m \u001b[39mKeyError\u001b[39;00m:\n",
      "\u001b[0;31mKeyError\u001b[0m: Division(0x159177f8b5e9f424, /, children=['Current function [A] / (Number of electrodes connected in parallel to make a cell * Electrode width [m] * Electrode height [m])', 'sqrt(Positive electrode diffusivity [m2.s-1]) * 3.0 * Positive electrode active material volume fraction / Positive particle radius [m] * Faraday constant [C.mol-1] * Positive electrode thickness [m]'], domains={})",
      "\nDuring handling of the above exception, another exception occurred:\n",
      "\u001b[0;31mKeyError\u001b[0m                                  Traceback (most recent call last)",
      "File \u001b[0;32m/Library/Frameworks/Python.framework/Versions/3.11/lib/python3.11/site-packages/pybamm/parameters/parameter_values.py:497\u001b[0m, in \u001b[0;36mParameterValues.process_symbol\u001b[0;34m(self, symbol)\u001b[0m\n\u001b[1;32m    496\u001b[0m \u001b[39mtry\u001b[39;00m:\n\u001b[0;32m--> 497\u001b[0m     \u001b[39mreturn\u001b[39;00m \u001b[39mself\u001b[39;49m\u001b[39m.\u001b[39;49m_processed_symbols[symbol]\n\u001b[1;32m    498\u001b[0m \u001b[39mexcept\u001b[39;00m \u001b[39mKeyError\u001b[39;00m:\n",
      "\u001b[0;31mKeyError\u001b[0m: Multiplication(-0x64f521cb335d259d, *, children=['sqrt(Positive electrode diffusivity [m2.s-1]) * 3.0 * Positive electrode active material volume fraction / Positive particle radius [m] * Faraday constant [C.mol-1]', 'Positive electrode thickness [m]'], domains={})",
      "\nDuring handling of the above exception, another exception occurred:\n",
      "\u001b[0;31mKeyError\u001b[0m                                  Traceback (most recent call last)",
      "File \u001b[0;32m/Library/Frameworks/Python.framework/Versions/3.11/lib/python3.11/site-packages/pybamm/parameters/parameter_values.py:497\u001b[0m, in \u001b[0;36mParameterValues.process_symbol\u001b[0;34m(self, symbol)\u001b[0m\n\u001b[1;32m    496\u001b[0m \u001b[39mtry\u001b[39;00m:\n\u001b[0;32m--> 497\u001b[0m     \u001b[39mreturn\u001b[39;00m \u001b[39mself\u001b[39;49m\u001b[39m.\u001b[39;49m_processed_symbols[symbol]\n\u001b[1;32m    498\u001b[0m \u001b[39mexcept\u001b[39;00m \u001b[39mKeyError\u001b[39;00m:\n",
      "\u001b[0;31mKeyError\u001b[0m: Multiplication(-0x6c8ce67bd9c03757, *, children=['sqrt(Positive electrode diffusivity [m2.s-1]) * 3.0 * Positive electrode active material volume fraction / Positive particle radius [m]', 'Faraday constant [C.mol-1]'], domains={})",
      "\nDuring handling of the above exception, another exception occurred:\n",
      "\u001b[0;31mKeyError\u001b[0m                                  Traceback (most recent call last)",
      "File \u001b[0;32m/Library/Frameworks/Python.framework/Versions/3.11/lib/python3.11/site-packages/pybamm/parameters/parameter_values.py:497\u001b[0m, in \u001b[0;36mParameterValues.process_symbol\u001b[0;34m(self, symbol)\u001b[0m\n\u001b[1;32m    496\u001b[0m \u001b[39mtry\u001b[39;00m:\n\u001b[0;32m--> 497\u001b[0m     \u001b[39mreturn\u001b[39;00m \u001b[39mself\u001b[39;49m\u001b[39m.\u001b[39;49m_processed_symbols[symbol]\n\u001b[1;32m    498\u001b[0m \u001b[39mexcept\u001b[39;00m \u001b[39mKeyError\u001b[39;00m:\n",
      "\u001b[0;31mKeyError\u001b[0m: Multiplication(0x6e972d5715cbb7bd, *, children=['sqrt(Positive electrode diffusivity [m2.s-1])', '3.0 * Positive electrode active material volume fraction / Positive particle radius [m]'], domains={})",
      "\nDuring handling of the above exception, another exception occurred:\n",
      "\u001b[0;31mKeyError\u001b[0m                                  Traceback (most recent call last)",
      "File \u001b[0;32m/Library/Frameworks/Python.framework/Versions/3.11/lib/python3.11/site-packages/pybamm/parameters/parameter_values.py:497\u001b[0m, in \u001b[0;36mParameterValues.process_symbol\u001b[0;34m(self, symbol)\u001b[0m\n\u001b[1;32m    496\u001b[0m \u001b[39mtry\u001b[39;00m:\n\u001b[0;32m--> 497\u001b[0m     \u001b[39mreturn\u001b[39;00m \u001b[39mself\u001b[39;49m\u001b[39m.\u001b[39;49m_processed_symbols[symbol]\n\u001b[1;32m    498\u001b[0m \u001b[39mexcept\u001b[39;00m \u001b[39mKeyError\u001b[39;00m:\n",
      "\u001b[0;31mKeyError\u001b[0m: Sqrt(-0x48b22aa311690260, function (sqrt), children=['Positive electrode diffusivity [m2.s-1]'], domains={})",
      "\nDuring handling of the above exception, another exception occurred:\n",
      "\u001b[0;31mKeyError\u001b[0m                                  Traceback (most recent call last)",
      "File \u001b[0;32m/Library/Frameworks/Python.framework/Versions/3.11/lib/python3.11/site-packages/pybamm/parameters/parameter_values.py:497\u001b[0m, in \u001b[0;36mParameterValues.process_symbol\u001b[0;34m(self, symbol)\u001b[0m\n\u001b[1;32m    496\u001b[0m \u001b[39mtry\u001b[39;00m:\n\u001b[0;32m--> 497\u001b[0m     \u001b[39mreturn\u001b[39;00m \u001b[39mself\u001b[39;49m\u001b[39m.\u001b[39;49m_processed_symbols[symbol]\n\u001b[1;32m    498\u001b[0m \u001b[39mexcept\u001b[39;00m \u001b[39mKeyError\u001b[39;00m:\n",
      "\u001b[0;31mKeyError\u001b[0m: Parameter(0x6b2c854e29ec0cc2, Positive electrode diffusivity [m2.s-1], children=[], domains={})",
      "\nDuring handling of the above exception, another exception occurred:\n",
      "\u001b[0;31mTypeError\u001b[0m                                 Traceback (most recent call last)",
      "Cell \u001b[0;32mIn[11], line 1\u001b[0m\n\u001b[0;32m----> 1\u001b[0m simulation\u001b[39m.\u001b[39;49msolve([\u001b[39m0\u001b[39;49m, \u001b[39m100\u001b[39;49m])\n",
      "File \u001b[0;32m/Library/Frameworks/Python.framework/Versions/3.11/lib/python3.11/site-packages/pybamm/simulation.py:525\u001b[0m, in \u001b[0;36mSimulation.solve\u001b[0;34m(self, t_eval, solver, check_model, save_at_cycles, calc_esoh, starting_solution, initial_soc, callbacks, showprogress, **kwargs)\u001b[0m\n\u001b[1;32m    522\u001b[0m logs \u001b[39m=\u001b[39m {}\n\u001b[1;32m    524\u001b[0m \u001b[39mif\u001b[39;00m \u001b[39mself\u001b[39m\u001b[39m.\u001b[39moperating_mode \u001b[39min\u001b[39;00m [\u001b[39m\"\u001b[39m\u001b[39mwithout experiment\u001b[39m\u001b[39m\"\u001b[39m, \u001b[39m\"\u001b[39m\u001b[39mdrive cycle\u001b[39m\u001b[39m\"\u001b[39m]:\n\u001b[0;32m--> 525\u001b[0m     \u001b[39mself\u001b[39;49m\u001b[39m.\u001b[39;49mbuild(check_model\u001b[39m=\u001b[39;49mcheck_model, initial_soc\u001b[39m=\u001b[39;49minitial_soc)\n\u001b[1;32m    526\u001b[0m     \u001b[39mif\u001b[39;00m save_at_cycles \u001b[39mis\u001b[39;00m \u001b[39mnot\u001b[39;00m \u001b[39mNone\u001b[39;00m:\n\u001b[1;32m    527\u001b[0m         \u001b[39mraise\u001b[39;00m \u001b[39mValueError\u001b[39;00m(\n\u001b[1;32m    528\u001b[0m             \u001b[39m\"\u001b[39m\u001b[39m'\u001b[39m\u001b[39msave_at_cycles\u001b[39m\u001b[39m'\u001b[39m\u001b[39m option can only be used if simulating an \u001b[39m\u001b[39m\"\u001b[39m\n\u001b[1;32m    529\u001b[0m             \u001b[39m\"\u001b[39m\u001b[39mExperiment \u001b[39m\u001b[39m\"\u001b[39m\n\u001b[1;32m    530\u001b[0m         )\n",
      "File \u001b[0;32m/Library/Frameworks/Python.framework/Versions/3.11/lib/python3.11/site-packages/pybamm/simulation.py:407\u001b[0m, in \u001b[0;36mSimulation.build\u001b[0;34m(self, check_model, initial_soc)\u001b[0m\n\u001b[1;32m    405\u001b[0m     \u001b[39mself\u001b[39m\u001b[39m.\u001b[39m_built_model \u001b[39m=\u001b[39m \u001b[39mself\u001b[39m\u001b[39m.\u001b[39mmodel\n\u001b[1;32m    406\u001b[0m \u001b[39melse\u001b[39;00m:\n\u001b[0;32m--> 407\u001b[0m     \u001b[39mself\u001b[39;49m\u001b[39m.\u001b[39;49mset_parameters()\n\u001b[1;32m    408\u001b[0m     \u001b[39mself\u001b[39m\u001b[39m.\u001b[39m_mesh \u001b[39m=\u001b[39m pybamm\u001b[39m.\u001b[39mMesh(\u001b[39mself\u001b[39m\u001b[39m.\u001b[39m_geometry, \u001b[39mself\u001b[39m\u001b[39m.\u001b[39m_submesh_types, \u001b[39mself\u001b[39m\u001b[39m.\u001b[39m_var_pts)\n\u001b[1;32m    409\u001b[0m     \u001b[39mself\u001b[39m\u001b[39m.\u001b[39m_disc \u001b[39m=\u001b[39m pybamm\u001b[39m.\u001b[39mDiscretisation(\u001b[39mself\u001b[39m\u001b[39m.\u001b[39m_mesh, \u001b[39mself\u001b[39m\u001b[39m.\u001b[39m_spatial_methods)\n",
      "File \u001b[0;32m/Library/Frameworks/Python.framework/Versions/3.11/lib/python3.11/site-packages/pybamm/simulation.py:357\u001b[0m, in \u001b[0;36mSimulation.set_parameters\u001b[0;34m(self)\u001b[0m\n\u001b[1;32m    354\u001b[0m \u001b[39mif\u001b[39;00m \u001b[39mself\u001b[39m\u001b[39m.\u001b[39mmodel_with_set_params:\n\u001b[1;32m    355\u001b[0m     \u001b[39mreturn\u001b[39;00m\n\u001b[0;32m--> 357\u001b[0m \u001b[39mself\u001b[39m\u001b[39m.\u001b[39m_model_with_set_params \u001b[39m=\u001b[39m \u001b[39mself\u001b[39;49m\u001b[39m.\u001b[39;49m_parameter_values\u001b[39m.\u001b[39;49mprocess_model(\n\u001b[1;32m    358\u001b[0m     \u001b[39mself\u001b[39;49m\u001b[39m.\u001b[39;49m_unprocessed_model, inplace\u001b[39m=\u001b[39;49m\u001b[39mFalse\u001b[39;49;00m\n\u001b[1;32m    359\u001b[0m )\n\u001b[1;32m    360\u001b[0m \u001b[39mself\u001b[39m\u001b[39m.\u001b[39m_parameter_values\u001b[39m.\u001b[39mprocess_geometry(\u001b[39mself\u001b[39m\u001b[39m.\u001b[39mgeometry)\n\u001b[1;32m    361\u001b[0m \u001b[39mself\u001b[39m\u001b[39m.\u001b[39mmodel \u001b[39m=\u001b[39m \u001b[39mself\u001b[39m\u001b[39m.\u001b[39m_model_with_set_params\n",
      "File \u001b[0;32m/Library/Frameworks/Python.framework/Versions/3.11/lib/python3.11/site-packages/pybamm/parameters/parameter_values.py:360\u001b[0m, in \u001b[0;36mParameterValues.process_model\u001b[0;34m(self, unprocessed_model, inplace)\u001b[0m\n\u001b[1;32m    356\u001b[0m \u001b[39mfor\u001b[39;00m variable, equation \u001b[39min\u001b[39;00m unprocessed_model\u001b[39m.\u001b[39mvariables\u001b[39m.\u001b[39mitems():\n\u001b[1;32m    357\u001b[0m     pybamm\u001b[39m.\u001b[39mlogger\u001b[39m.\u001b[39mverbose(\n\u001b[1;32m    358\u001b[0m         \u001b[39m\"\u001b[39m\u001b[39mProcessing parameters for \u001b[39m\u001b[39m{!r}\u001b[39;00m\u001b[39m (variables)\u001b[39m\u001b[39m\"\u001b[39m\u001b[39m.\u001b[39mformat(variable)\n\u001b[1;32m    359\u001b[0m     )\n\u001b[0;32m--> 360\u001b[0m     new_variables[variable] \u001b[39m=\u001b[39m \u001b[39mself\u001b[39;49m\u001b[39m.\u001b[39;49mprocess_symbol(equation)\n\u001b[1;32m    361\u001b[0m model\u001b[39m.\u001b[39mvariables \u001b[39m=\u001b[39m new_variables\n\u001b[1;32m    363\u001b[0m new_events \u001b[39m=\u001b[39m []\n",
      "File \u001b[0;32m/Library/Frameworks/Python.framework/Versions/3.11/lib/python3.11/site-packages/pybamm/parameters/parameter_values.py:499\u001b[0m, in \u001b[0;36mParameterValues.process_symbol\u001b[0;34m(self, symbol)\u001b[0m\n\u001b[1;32m    497\u001b[0m     \u001b[39mreturn\u001b[39;00m \u001b[39mself\u001b[39m\u001b[39m.\u001b[39m_processed_symbols[symbol]\n\u001b[1;32m    498\u001b[0m \u001b[39mexcept\u001b[39;00m \u001b[39mKeyError\u001b[39;00m:\n\u001b[0;32m--> 499\u001b[0m     processed_symbol \u001b[39m=\u001b[39m \u001b[39mself\u001b[39;49m\u001b[39m.\u001b[39;49m_process_symbol(symbol)\n\u001b[1;32m    500\u001b[0m     \u001b[39mself\u001b[39m\u001b[39m.\u001b[39m_processed_symbols[symbol] \u001b[39m=\u001b[39m processed_symbol\n\u001b[1;32m    502\u001b[0m     \u001b[39mreturn\u001b[39;00m processed_symbol\n",
      "File \u001b[0;32m/Library/Frameworks/Python.framework/Versions/3.11/lib/python3.11/site-packages/pybamm/parameters/parameter_values.py:611\u001b[0m, in \u001b[0;36mParameterValues._process_symbol\u001b[0;34m(self, symbol)\u001b[0m\n\u001b[1;32m    608\u001b[0m \u001b[39melif\u001b[39;00m \u001b[39misinstance\u001b[39m(symbol, pybamm\u001b[39m.\u001b[39mBinaryOperator):\n\u001b[1;32m    609\u001b[0m     \u001b[39m# process children\u001b[39;00m\n\u001b[1;32m    610\u001b[0m     new_left \u001b[39m=\u001b[39m \u001b[39mself\u001b[39m\u001b[39m.\u001b[39mprocess_symbol(symbol\u001b[39m.\u001b[39mleft)\n\u001b[0;32m--> 611\u001b[0m     new_right \u001b[39m=\u001b[39m \u001b[39mself\u001b[39;49m\u001b[39m.\u001b[39;49mprocess_symbol(symbol\u001b[39m.\u001b[39;49mright)\n\u001b[1;32m    612\u001b[0m     \u001b[39m# make new symbol, ensure domain remains the same\u001b[39;00m\n\u001b[1;32m    613\u001b[0m     new_symbol \u001b[39m=\u001b[39m symbol\u001b[39m.\u001b[39m_binary_new_copy(new_left, new_right)\n",
      "File \u001b[0;32m/Library/Frameworks/Python.framework/Versions/3.11/lib/python3.11/site-packages/pybamm/parameters/parameter_values.py:499\u001b[0m, in \u001b[0;36mParameterValues.process_symbol\u001b[0;34m(self, symbol)\u001b[0m\n\u001b[1;32m    497\u001b[0m     \u001b[39mreturn\u001b[39;00m \u001b[39mself\u001b[39m\u001b[39m.\u001b[39m_processed_symbols[symbol]\n\u001b[1;32m    498\u001b[0m \u001b[39mexcept\u001b[39;00m \u001b[39mKeyError\u001b[39;00m:\n\u001b[0;32m--> 499\u001b[0m     processed_symbol \u001b[39m=\u001b[39m \u001b[39mself\u001b[39;49m\u001b[39m.\u001b[39;49m_process_symbol(symbol)\n\u001b[1;32m    500\u001b[0m     \u001b[39mself\u001b[39m\u001b[39m.\u001b[39m_processed_symbols[symbol] \u001b[39m=\u001b[39m processed_symbol\n\u001b[1;32m    502\u001b[0m     \u001b[39mreturn\u001b[39;00m processed_symbol\n",
      "File \u001b[0;32m/Library/Frameworks/Python.framework/Versions/3.11/lib/python3.11/site-packages/pybamm/parameters/parameter_values.py:611\u001b[0m, in \u001b[0;36mParameterValues._process_symbol\u001b[0;34m(self, symbol)\u001b[0m\n\u001b[1;32m    608\u001b[0m \u001b[39melif\u001b[39;00m \u001b[39misinstance\u001b[39m(symbol, pybamm\u001b[39m.\u001b[39mBinaryOperator):\n\u001b[1;32m    609\u001b[0m     \u001b[39m# process children\u001b[39;00m\n\u001b[1;32m    610\u001b[0m     new_left \u001b[39m=\u001b[39m \u001b[39mself\u001b[39m\u001b[39m.\u001b[39mprocess_symbol(symbol\u001b[39m.\u001b[39mleft)\n\u001b[0;32m--> 611\u001b[0m     new_right \u001b[39m=\u001b[39m \u001b[39mself\u001b[39;49m\u001b[39m.\u001b[39;49mprocess_symbol(symbol\u001b[39m.\u001b[39;49mright)\n\u001b[1;32m    612\u001b[0m     \u001b[39m# make new symbol, ensure domain remains the same\u001b[39;00m\n\u001b[1;32m    613\u001b[0m     new_symbol \u001b[39m=\u001b[39m symbol\u001b[39m.\u001b[39m_binary_new_copy(new_left, new_right)\n",
      "    \u001b[0;31m[... skipping similar frames: ParameterValues.process_symbol at line 499 (1 times)]\u001b[0m\n",
      "File \u001b[0;32m/Library/Frameworks/Python.framework/Versions/3.11/lib/python3.11/site-packages/pybamm/parameters/parameter_values.py:610\u001b[0m, in \u001b[0;36mParameterValues._process_symbol\u001b[0;34m(self, symbol)\u001b[0m\n\u001b[1;32m    606\u001b[0m     \u001b[39mreturn\u001b[39;00m \u001b[39mself\u001b[39m\u001b[39m.\u001b[39mprocess_symbol(function_out)\n\u001b[1;32m    608\u001b[0m \u001b[39melif\u001b[39;00m \u001b[39misinstance\u001b[39m(symbol, pybamm\u001b[39m.\u001b[39mBinaryOperator):\n\u001b[1;32m    609\u001b[0m     \u001b[39m# process children\u001b[39;00m\n\u001b[0;32m--> 610\u001b[0m     new_left \u001b[39m=\u001b[39m \u001b[39mself\u001b[39;49m\u001b[39m.\u001b[39;49mprocess_symbol(symbol\u001b[39m.\u001b[39;49mleft)\n\u001b[1;32m    611\u001b[0m     new_right \u001b[39m=\u001b[39m \u001b[39mself\u001b[39m\u001b[39m.\u001b[39mprocess_symbol(symbol\u001b[39m.\u001b[39mright)\n\u001b[1;32m    612\u001b[0m     \u001b[39m# make new symbol, ensure domain remains the same\u001b[39;00m\n",
      "    \u001b[0;31m[... skipping similar frames: ParameterValues.process_symbol at line 499 (2 times), ParameterValues._process_symbol at line 611 (1 times)]\u001b[0m\n",
      "File \u001b[0;32m/Library/Frameworks/Python.framework/Versions/3.11/lib/python3.11/site-packages/pybamm/parameters/parameter_values.py:611\u001b[0m, in \u001b[0;36mParameterValues._process_symbol\u001b[0;34m(self, symbol)\u001b[0m\n\u001b[1;32m    608\u001b[0m \u001b[39melif\u001b[39;00m \u001b[39misinstance\u001b[39m(symbol, pybamm\u001b[39m.\u001b[39mBinaryOperator):\n\u001b[1;32m    609\u001b[0m     \u001b[39m# process children\u001b[39;00m\n\u001b[1;32m    610\u001b[0m     new_left \u001b[39m=\u001b[39m \u001b[39mself\u001b[39m\u001b[39m.\u001b[39mprocess_symbol(symbol\u001b[39m.\u001b[39mleft)\n\u001b[0;32m--> 611\u001b[0m     new_right \u001b[39m=\u001b[39m \u001b[39mself\u001b[39;49m\u001b[39m.\u001b[39;49mprocess_symbol(symbol\u001b[39m.\u001b[39;49mright)\n\u001b[1;32m    612\u001b[0m     \u001b[39m# make new symbol, ensure domain remains the same\u001b[39;00m\n\u001b[1;32m    613\u001b[0m     new_symbol \u001b[39m=\u001b[39m symbol\u001b[39m.\u001b[39m_binary_new_copy(new_left, new_right)\n",
      "    \u001b[0;31m[... skipping similar frames: ParameterValues.process_symbol at line 499 (1 times)]\u001b[0m\n",
      "File \u001b[0;32m/Library/Frameworks/Python.framework/Versions/3.11/lib/python3.11/site-packages/pybamm/parameters/parameter_values.py:610\u001b[0m, in \u001b[0;36mParameterValues._process_symbol\u001b[0;34m(self, symbol)\u001b[0m\n\u001b[1;32m    606\u001b[0m     \u001b[39mreturn\u001b[39;00m \u001b[39mself\u001b[39m\u001b[39m.\u001b[39mprocess_symbol(function_out)\n\u001b[1;32m    608\u001b[0m \u001b[39melif\u001b[39;00m \u001b[39misinstance\u001b[39m(symbol, pybamm\u001b[39m.\u001b[39mBinaryOperator):\n\u001b[1;32m    609\u001b[0m     \u001b[39m# process children\u001b[39;00m\n\u001b[0;32m--> 610\u001b[0m     new_left \u001b[39m=\u001b[39m \u001b[39mself\u001b[39;49m\u001b[39m.\u001b[39;49mprocess_symbol(symbol\u001b[39m.\u001b[39;49mleft)\n\u001b[1;32m    611\u001b[0m     new_right \u001b[39m=\u001b[39m \u001b[39mself\u001b[39m\u001b[39m.\u001b[39mprocess_symbol(symbol\u001b[39m.\u001b[39mright)\n\u001b[1;32m    612\u001b[0m     \u001b[39m# make new symbol, ensure domain remains the same\u001b[39;00m\n",
      "    \u001b[0;31m[... skipping similar frames: ParameterValues.process_symbol at line 499 (2 times), ParameterValues._process_symbol at line 610 (1 times)]\u001b[0m\n",
      "File \u001b[0;32m/Library/Frameworks/Python.framework/Versions/3.11/lib/python3.11/site-packages/pybamm/parameters/parameter_values.py:610\u001b[0m, in \u001b[0;36mParameterValues._process_symbol\u001b[0;34m(self, symbol)\u001b[0m\n\u001b[1;32m    606\u001b[0m     \u001b[39mreturn\u001b[39;00m \u001b[39mself\u001b[39m\u001b[39m.\u001b[39mprocess_symbol(function_out)\n\u001b[1;32m    608\u001b[0m \u001b[39melif\u001b[39;00m \u001b[39misinstance\u001b[39m(symbol, pybamm\u001b[39m.\u001b[39mBinaryOperator):\n\u001b[1;32m    609\u001b[0m     \u001b[39m# process children\u001b[39;00m\n\u001b[0;32m--> 610\u001b[0m     new_left \u001b[39m=\u001b[39m \u001b[39mself\u001b[39;49m\u001b[39m.\u001b[39;49mprocess_symbol(symbol\u001b[39m.\u001b[39;49mleft)\n\u001b[1;32m    611\u001b[0m     new_right \u001b[39m=\u001b[39m \u001b[39mself\u001b[39m\u001b[39m.\u001b[39mprocess_symbol(symbol\u001b[39m.\u001b[39mright)\n\u001b[1;32m    612\u001b[0m     \u001b[39m# make new symbol, ensure domain remains the same\u001b[39;00m\n",
      "File \u001b[0;32m/Library/Frameworks/Python.framework/Versions/3.11/lib/python3.11/site-packages/pybamm/parameters/parameter_values.py:499\u001b[0m, in \u001b[0;36mParameterValues.process_symbol\u001b[0;34m(self, symbol)\u001b[0m\n\u001b[1;32m    497\u001b[0m     \u001b[39mreturn\u001b[39;00m \u001b[39mself\u001b[39m\u001b[39m.\u001b[39m_processed_symbols[symbol]\n\u001b[1;32m    498\u001b[0m \u001b[39mexcept\u001b[39;00m \u001b[39mKeyError\u001b[39;00m:\n\u001b[0;32m--> 499\u001b[0m     processed_symbol \u001b[39m=\u001b[39m \u001b[39mself\u001b[39;49m\u001b[39m.\u001b[39;49m_process_symbol(symbol)\n\u001b[1;32m    500\u001b[0m     \u001b[39mself\u001b[39m\u001b[39m.\u001b[39m_processed_symbols[symbol] \u001b[39m=\u001b[39m processed_symbol\n\u001b[1;32m    502\u001b[0m     \u001b[39mreturn\u001b[39;00m processed_symbol\n",
      "File \u001b[0;32m/Library/Frameworks/Python.framework/Versions/3.11/lib/python3.11/site-packages/pybamm/parameters/parameter_values.py:636\u001b[0m, in \u001b[0;36mParameterValues._process_symbol\u001b[0;34m(self, symbol)\u001b[0m\n\u001b[1;32m    634\u001b[0m \u001b[39m# Functions\u001b[39;00m\n\u001b[1;32m    635\u001b[0m \u001b[39melif\u001b[39;00m \u001b[39misinstance\u001b[39m(symbol, pybamm\u001b[39m.\u001b[39mFunction):\n\u001b[0;32m--> 636\u001b[0m     new_children \u001b[39m=\u001b[39m [\u001b[39mself\u001b[39;49m\u001b[39m.\u001b[39;49mprocess_symbol(child) \u001b[39mfor\u001b[39;49;00m child \u001b[39min\u001b[39;49;00m symbol\u001b[39m.\u001b[39;49mchildren]\n\u001b[1;32m    637\u001b[0m     \u001b[39mreturn\u001b[39;00m symbol\u001b[39m.\u001b[39m_function_new_copy(new_children)\n\u001b[1;32m    639\u001b[0m \u001b[39m# Concatenations\u001b[39;00m\n",
      "File \u001b[0;32m/Library/Frameworks/Python.framework/Versions/3.11/lib/python3.11/site-packages/pybamm/parameters/parameter_values.py:636\u001b[0m, in \u001b[0;36m<listcomp>\u001b[0;34m(.0)\u001b[0m\n\u001b[1;32m    634\u001b[0m \u001b[39m# Functions\u001b[39;00m\n\u001b[1;32m    635\u001b[0m \u001b[39melif\u001b[39;00m \u001b[39misinstance\u001b[39m(symbol, pybamm\u001b[39m.\u001b[39mFunction):\n\u001b[0;32m--> 636\u001b[0m     new_children \u001b[39m=\u001b[39m [\u001b[39mself\u001b[39;49m\u001b[39m.\u001b[39;49mprocess_symbol(child) \u001b[39mfor\u001b[39;00m child \u001b[39min\u001b[39;00m symbol\u001b[39m.\u001b[39mchildren]\n\u001b[1;32m    637\u001b[0m     \u001b[39mreturn\u001b[39;00m symbol\u001b[39m.\u001b[39m_function_new_copy(new_children)\n\u001b[1;32m    639\u001b[0m \u001b[39m# Concatenations\u001b[39;00m\n",
      "File \u001b[0;32m/Library/Frameworks/Python.framework/Versions/3.11/lib/python3.11/site-packages/pybamm/parameters/parameter_values.py:499\u001b[0m, in \u001b[0;36mParameterValues.process_symbol\u001b[0;34m(self, symbol)\u001b[0m\n\u001b[1;32m    497\u001b[0m     \u001b[39mreturn\u001b[39;00m \u001b[39mself\u001b[39m\u001b[39m.\u001b[39m_processed_symbols[symbol]\n\u001b[1;32m    498\u001b[0m \u001b[39mexcept\u001b[39;00m \u001b[39mKeyError\u001b[39;00m:\n\u001b[0;32m--> 499\u001b[0m     processed_symbol \u001b[39m=\u001b[39m \u001b[39mself\u001b[39;49m\u001b[39m.\u001b[39;49m_process_symbol(symbol)\n\u001b[1;32m    500\u001b[0m     \u001b[39mself\u001b[39m\u001b[39m.\u001b[39m_processed_symbols[symbol] \u001b[39m=\u001b[39m processed_symbol\n\u001b[1;32m    502\u001b[0m     \u001b[39mreturn\u001b[39;00m processed_symbol\n",
      "File \u001b[0;32m/Library/Frameworks/Python.framework/Versions/3.11/lib/python3.11/site-packages/pybamm/parameters/parameter_values.py:520\u001b[0m, in \u001b[0;36mParameterValues._process_symbol\u001b[0;34m(self, symbol)\u001b[0m\n\u001b[1;32m    518\u001b[0m         \u001b[39mreturn\u001b[39;00m new_value\n\u001b[1;32m    519\u001b[0m     \u001b[39melse\u001b[39;00m:\n\u001b[0;32m--> 520\u001b[0m         \u001b[39mraise\u001b[39;00m \u001b[39mTypeError\u001b[39;00m(\u001b[39m\"\u001b[39m\u001b[39mCannot process parameter \u001b[39m\u001b[39m'\u001b[39m\u001b[39m{}\u001b[39;00m\u001b[39m'\u001b[39m\u001b[39m\"\u001b[39m\u001b[39m.\u001b[39mformat(value))\n\u001b[1;32m    522\u001b[0m \u001b[39melif\u001b[39;00m \u001b[39misinstance\u001b[39m(symbol, pybamm\u001b[39m.\u001b[39mFunctionParameter):\n\u001b[1;32m    523\u001b[0m     function_name \u001b[39m=\u001b[39m \u001b[39mself\u001b[39m[symbol\u001b[39m.\u001b[39mname]\n",
      "\u001b[0;31mTypeError\u001b[0m: Cannot process parameter '<function lico2_diffusivity_Dualfoil1998 at 0x17fdcdb20>'"
     ]
    }
   ],
   "source": [
    "simulation.solve([0, 100])"
   ]
  },
  {
   "cell_type": "code",
   "execution_count": null,
   "id": "bee6ce22",
   "metadata": {},
   "outputs": [],
   "source": [
    "# optimisation problem is GITT.\n",
    "opt = pbparam.GITT(simulation=simulation, data=data)"
   ]
  },
  {
   "cell_type": "markdown",
   "id": "f90fe4c2",
   "metadata": {},
   "source": [
    "Then, Optimisation method should be defined in this step. DiferentialEvolution(https://docs.scipy.org/doc/scipy/reference/generated/scipy.optimize.differential_evolution.html) or ScipyMinimize(https://docs.scipy.org/doc/scipy/reference/generated/scipy.optimize.minimize.html)\n",
    "\n",
    "can be used to minimise cost function. For faster results, ScipyMinimize with ```\"Nelder-Mead\"``` method can be used. However, ScipyDifferentialEvolution is more robust and has provided lower value for most of the cases. "
   ]
  },
  {
   "cell_type": "code",
   "execution_count": null,
   "id": "c64e899d",
   "metadata": {},
   "outputs": [],
   "source": [
    "# optimiser = pbparam.ScipyDifferentialEvolution(\n",
    "    # extra_options={\"workers\": 4, \"polish\": True, \"updating\": \"deferred\", \"disp\": True}\n",
    "# )\n",
    "optimiser = pbparam.ScipyMinimize(method=\"Nelder-Mead\")"
   ]
  },
  {
   "cell_type": "markdown",
   "id": "9ae438c5",
   "metadata": {},
   "source": [
    "After providing everything for optimisation algorithm, it can be performed using `optimise(optimisation_problem)`"
   ]
  },
  {
   "cell_type": "code",
   "execution_count": null,
   "id": "19d3f11a",
   "metadata": {},
   "outputs": [
    {
     "name": "stdout",
     "output_type": "stream",
     "text": [
      "\n",
      "             Optimal values: [5.e-14]\n",
      "        Cost function value: 0.1221949259006246\n",
      "                 Solve time: 54.221 ms\n",
      "                    Message: Optimization terminated successfully.\n",
      "        \n"
     ]
    }
   ],
   "source": [
    "result = optimiser.optimise(opt)\n",
    "# optimised values of parameters and function values can be printed as below.\n",
    "print(result)"
   ]
  },
  {
   "cell_type": "markdown",
   "id": "9ec5fd3a",
   "metadata": {},
   "source": [
    "```plot()``` function can be used to present result graphically."
   ]
  },
  {
   "cell_type": "code",
   "execution_count": null,
   "id": "cf38f942",
   "metadata": {},
   "outputs": [
    {
     "ename": "AttributeError",
     "evalue": "'GITT' object has no attribute 'simulation'",
     "output_type": "error",
     "traceback": [
      "\u001b[0;31m---------------------------------------------------------------------------\u001b[0m",
      "\u001b[0;31mAttributeError\u001b[0m                            Traceback (most recent call last)",
      "Cell \u001b[0;32mIn[15], line 1\u001b[0m\n\u001b[0;32m----> 1\u001b[0m result\u001b[39m.\u001b[39;49mplot()\n",
      "File \u001b[0;32m~/Documents/GitHub/pybamm-param/pbparam/optimisation_result.py:68\u001b[0m, in \u001b[0;36mOptimisationResult.plot\u001b[0;34m(self, testing)\u001b[0m\n\u001b[1;32m     53\u001b[0m \u001b[39m\u001b[39m\u001b[39m\"\"\"\u001b[39;00m\n\u001b[1;32m     54\u001b[0m \u001b[39mPlot the optimisation result.\u001b[39;00m\n\u001b[1;32m     55\u001b[0m \n\u001b[0;32m   (...)\u001b[0m\n\u001b[1;32m     64\u001b[0m \u001b[39m    The plot object.\u001b[39;00m\n\u001b[1;32m     65\u001b[0m \u001b[39m\"\"\"\u001b[39;00m\n\u001b[1;32m     66\u001b[0m \u001b[39mimport\u001b[39;00m \u001b[39mmatplotlib\u001b[39;00m\u001b[39m.\u001b[39;00m\u001b[39mpyplot\u001b[39;00m \u001b[39mas\u001b[39;00m \u001b[39mplt\u001b[39;00m\n\u001b[0;32m---> 68\u001b[0m plot \u001b[39m=\u001b[39m \u001b[39mself\u001b[39;49m\u001b[39m.\u001b[39;49moptimisation_problem\u001b[39m.\u001b[39;49m_plot(\u001b[39mself\u001b[39;49m\u001b[39m.\u001b[39;49mx)\n\u001b[1;32m     70\u001b[0m \u001b[39mif\u001b[39;00m \u001b[39mnot\u001b[39;00m testing:  \u001b[39m# pragma: no cover\u001b[39;00m\n\u001b[1;32m     71\u001b[0m     plt\u001b[39m.\u001b[39mshow()\n",
      "File \u001b[0;32m~/Documents/GitHub/pybamm-param/pbparam/optimisation_problems/gitt.py:119\u001b[0m, in \u001b[0;36mGITT._plot\u001b[0;34m(self, x_optimal)\u001b[0m\n\u001b[1;32m    103\u001b[0m \u001b[39m\u001b[39m\u001b[39m\"\"\"\u001b[39;00m\n\u001b[1;32m    104\u001b[0m \u001b[39mPlot the optimization result. Should be accessed through the OptimizationResult\u001b[39;00m\n\u001b[1;32m    105\u001b[0m \u001b[39mplot method.\u001b[39;00m\n\u001b[0;32m   (...)\u001b[0m\n\u001b[1;32m    115\u001b[0m \u001b[39m    The plot of the optimization result\u001b[39;00m\n\u001b[1;32m    116\u001b[0m \u001b[39m\"\"\"\u001b[39;00m\n\u001b[1;32m    118\u001b[0m \u001b[39m# calculate the solution for the initial and optimal parameters\u001b[39;00m\n\u001b[0;32m--> 119\u001b[0m initial_solution \u001b[39m=\u001b[39m \u001b[39mself\u001b[39;49m\u001b[39m.\u001b[39;49mcalculate_solution()\n\u001b[1;32m    120\u001b[0m optimal_solution \u001b[39m=\u001b[39m \u001b[39mself\u001b[39m\u001b[39m.\u001b[39mcalculate_solution(x_optimal)\n\u001b[1;32m    122\u001b[0m \u001b[39m# create a quick plot\u001b[39;00m\n",
      "File \u001b[0;32m~/Documents/GitHub/pybamm-param/pbparam/optimisation_problems/gitt.py:89\u001b[0m, in \u001b[0;36mGITT.calculate_solution\u001b[0;34m(self, parameters)\u001b[0m\n\u001b[1;32m     86\u001b[0m     inputs \u001b[39m=\u001b[39m {param: parameters[i] \u001b[39mfor\u001b[39;00m param, i \u001b[39min\u001b[39;00m \u001b[39mself\u001b[39m\u001b[39m.\u001b[39mmap_inputs\u001b[39m.\u001b[39mitems()}\n\u001b[1;32m     88\u001b[0m \u001b[39m# Check if the simulation has an attribute \"experiment\"\u001b[39;00m\n\u001b[0;32m---> 89\u001b[0m \u001b[39mif\u001b[39;00m \u001b[39mgetattr\u001b[39m(\u001b[39mself\u001b[39;49m\u001b[39m.\u001b[39;49msimulation, \u001b[39m\"\u001b[39m\u001b[39mexperiment\u001b[39m\u001b[39m\"\u001b[39m, \u001b[39mNone\u001b[39;00m):\n\u001b[1;32m     90\u001b[0m     t_eval \u001b[39m=\u001b[39m \u001b[39mNone\u001b[39;00m\n\u001b[1;32m     91\u001b[0m \u001b[39melse\u001b[39;00m:\n\u001b[1;32m     92\u001b[0m     \u001b[39m# Use the final time from the data as t_eval if experiment is not present\u001b[39;00m\n",
      "\u001b[0;31mAttributeError\u001b[0m: 'GITT' object has no attribute 'simulation'"
     ]
    }
   ],
   "source": [
    "result.plot()"
   ]
  },
  {
   "cell_type": "code",
   "execution_count": null,
   "id": "6dcc3332",
   "metadata": {},
   "outputs": [],
   "source": []
  }
 ],
 "metadata": {
  "kernelspec": {
   "display_name": "Python 3 (ipykernel)",
   "language": "python",
   "name": "python3"
  },
  "language_info": {
   "codemirror_mode": {
    "name": "ipython",
    "version": 3
   },
   "file_extension": ".py",
   "mimetype": "text/x-python",
   "name": "python",
   "nbconvert_exporter": "python",
   "pygments_lexer": "ipython3",
   "version": "3.11.4"
  },
  "vscode": {
   "interpreter": {
    "hash": "fb77006a34bae7b3455bf1af19d13801d1160b5407ef5c8323378eef03722c93"
   }
  }
 },
 "nbformat": 4,
 "nbformat_minor": 5
}
