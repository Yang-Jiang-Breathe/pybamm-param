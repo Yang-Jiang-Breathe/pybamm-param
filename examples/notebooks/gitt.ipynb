{
 "cells": [
  {
   "cell_type": "markdown",
   "id": "1ee4c0db",
   "metadata": {},
   "source": [
    "# **Parameter Optimisation for GITT** \n",
    "\n",
    "This notebook is created to provide an example for ```GITT``` optimisation problem. Diffisuion Coefficient is optimised in this notebook. Only voltage will be considered for optimisation in this example.\n",
    " The workflow is as follows:\n"
   ]
  },
  {
   "cell_type": "code",
   "execution_count": 1,
   "id": "5ba4b709",
   "metadata": {},
   "outputs": [],
   "source": [
    "#%pip install git+https://github.com/paramm-team/pybamm-param.git -q\n",
    "import pybamm\n",
    "import pbparam\n",
    "import pandas as pd\n",
    "#import os\n",
    "#os.chdir(os.path.join(pbparam.__path__[0], \"input\", \"data\"))"
   ]
  },
  {
   "cell_type": "code",
   "execution_count": 2,
   "id": "bc73e375",
   "metadata": {},
   "outputs": [
    {
     "data": {
      "text/plain": [
       "'/Users/muhammedsogut/Documents/GitHub/pybamm-param/pbparam'"
      ]
     },
     "execution_count": 2,
     "metadata": {},
     "output_type": "execute_result"
    }
   ],
   "source": [
    "pbparam.__path__[0]"
   ]
  },
  {
   "cell_type": "markdown",
   "id": "f087e770",
   "metadata": {},
   "source": [
    "We are creating a syntethic data first."
   ]
  },
  {
   "cell_type": "code",
   "execution_count": 3,
   "id": "ea2c6d41",
   "metadata": {},
   "outputs": [],
   "source": [
    "syn_model = pybamm.lithium_ion.SPM()"
   ]
  },
  {
   "cell_type": "code",
   "execution_count": 4,
   "id": "a7d1e9fa",
   "metadata": {},
   "outputs": [],
   "source": [
    "syn_param = syn_model.default_parameter_values\n",
    "\n",
    "syn_param.update(\n",
    "            {\n",
    "                \"Reference OCP [V]\": 4.2,\n",
    "                \"Derivative of the OCP wrt stoichiometry [V]\": -1,\n",
    "                \"Contact resistance [Ohm]\": 0.1,\n",
    "                \"Positive electrode diffusivity [m2.s-1]\": 4e-15\n",
    "                },\n",
    "            check_already_exists=False,\n",
    "        )\n",
    "\n",
    "syn_sim = pybamm.Simulation(syn_model, parameter_values=syn_param)\n",
    "syn_solution = syn_sim.solve([0, 100])"
   ]
  },
  {
   "cell_type": "code",
   "execution_count": 5,
   "id": "6bc43581",
   "metadata": {},
   "outputs": [],
   "source": [
    "d = {'Time [s]':syn_solution[\"Time [s]\"].entries, 'Voltage [V]': syn_solution[\"Voltage [V]\"].entries}\n",
    "\n",
    "data = pd.DataFrame(data = d)"
   ]
  },
  {
   "cell_type": "markdown",
   "id": "1618f776",
   "metadata": {},
   "source": [
    "PbParam model to be used for parameter optimisation needs to be defined:"
   ]
  },
  {
   "cell_type": "code",
   "execution_count": 6,
   "id": "04906531",
   "metadata": {},
   "outputs": [],
   "source": [
    "model = pbparam.WeppnerHuggins()\n",
    "#model = pbparam.BasicGITT()"
   ]
  },
  {
   "cell_type": "markdown",
   "id": "6684dc63",
   "metadata": {},
   "source": [
    "Rest of the PyBaMM simulation requirements and initial parameters defined here:"
   ]
  },
  {
   "cell_type": "code",
   "execution_count": 7,
   "id": "05d9343e",
   "metadata": {},
   "outputs": [],
   "source": [
    "param = model.default_parameter_values # Initial parameters to be used.\n",
    "\n",
    "# Update some parameters to match the experimental setup\n",
    "param.update(\n",
    "    {\n",
    "        \"Reference OCP [V]\": 4.2,\n",
    "        \"Derivative of the OCP wrt stoichiometry [V]\": -1,\n",
    "        \"Current function [A]\": 0.680616,\n",
    "        \"Number of electrodes connected in parallel to make a cell\": 1.0,\n",
    "        \"Electrode width [m]\": 0.207,\n",
    "        \"Electrode height [m]\": 0.137,\n",
    "        \"Positive electrode active material volume fraction\": 0.5,\n",
    "        \"Positive particle radius [m]\": 1e-05,\n",
    "        \"Positive electrode thickness [m]\": 0.0001,\n",
    "        \"Positive electrode diffusivity [m2.s-1]\": 4e-15,\n",
    "    },\n",
    "    check_already_exists=False,\n",
    ")\n",
    "\n",
    "simulation = pybamm.Simulation(model, parameter_values=param)"
   ]
  },
  {
   "cell_type": "code",
   "execution_count": 8,
   "id": "e4611240",
   "metadata": {},
   "outputs": [
    {
     "data": {
      "text/plain": [
       "<pybamm.solvers.solution.Solution at 0x15f289a90>"
      ]
     },
     "execution_count": 8,
     "metadata": {},
     "output_type": "execute_result"
    }
   ],
   "source": [
    "simulation.solve([0, 100])"
   ]
  },
  {
   "cell_type": "code",
   "execution_count": 9,
   "id": "bee6ce22",
   "metadata": {},
   "outputs": [],
   "source": [
    "# optimisation problem is GITT.\n",
    "opt = pbparam.GITT(simulation=simulation, data=data)"
   ]
  },
  {
   "cell_type": "markdown",
   "id": "f90fe4c2",
   "metadata": {},
   "source": [
    "Then, Optimisation method should be defined in this step. DiferentialEvolution(https://docs.scipy.org/doc/scipy/reference/generated/scipy.optimize.differential_evolution.html) or ScipyMinimize(https://docs.scipy.org/doc/scipy/reference/generated/scipy.optimize.minimize.html)\n",
    "\n",
    "can be used to minimise cost function. For faster results, ScipyMinimize with ```\"Nelder-Mead\"``` method can be used. However, ScipyDifferentialEvolution is more robust and has provided lower value for most of the cases. "
   ]
  },
  {
   "cell_type": "code",
   "execution_count": 10,
   "id": "c64e899d",
   "metadata": {},
   "outputs": [],
   "source": [
    "# optimiser = pbparam.ScipyDifferentialEvolution(\n",
    "    # extra_options={\"workers\": 4, \"polish\": True, \"updating\": \"deferred\", \"disp\": True}\n",
    "# )\n",
    "optimiser = pbparam.ScipyMinimize(method=\"Nelder-Mead\")"
   ]
  },
  {
   "cell_type": "markdown",
   "id": "9ae438c5",
   "metadata": {},
   "source": [
    "After providing everything for optimisation algorithm, it can be performed using `optimise(optimisation_problem)`"
   ]
  },
  {
   "cell_type": "code",
   "execution_count": 11,
   "id": "19d3f11a",
   "metadata": {},
   "outputs": [
    {
     "name": "stdout",
     "output_type": "stream",
     "text": [
      "\n",
      "             Optimal values: [5.e-14]\n",
      "        Cost function value: 315.2294324564804\n",
      "                 Solve time: 57.777 ms\n",
      "                    Message: Optimization terminated successfully.\n",
      "        \n"
     ]
    }
   ],
   "source": [
    "result = optimiser.optimise(opt)\n",
    "# optimised values of parameters and function values can be printed as below.\n",
    "print(result)"
   ]
  },
  {
   "cell_type": "markdown",
   "id": "9ec5fd3a",
   "metadata": {},
   "source": [
    "```plot()``` function can be used to present result graphically."
   ]
  },
  {
   "cell_type": "code",
   "execution_count": 12,
   "id": "cf38f942",
   "metadata": {},
   "outputs": [
    {
     "data": {
      "image/png": "[encoded data removed]",
      "text/plain": [
       "<Figure size 400x400 with 1 Axes>"
      ]
     },
     "metadata": {},
     "output_type": "display_data"
    },
    {
     "data": {
      "text/plain": [
       "<pybamm.plotting.quick_plot.QuickPlot at 0x169cd98d0>"
      ]
     },
     "execution_count": 12,
     "metadata": {},
     "output_type": "execute_result"
    }
   ],
   "source": [
    "result.plot()"
   ]
  },
  {
   "cell_type": "code",
   "execution_count": null,
   "id": "6dcc3332",
   "metadata": {},
   "outputs": [],
   "source": []
  }
 ],
 "metadata": {
  "kernelspec": {
   "display_name": "Python 3 (ipykernel)",
   "language": "python",
   "name": "python3"
  },
  "language_info": {
   "codemirror_mode": {
    "name": "ipython",
    "version": 3
   },
   "file_extension": ".py",
   "mimetype": "text/x-python",
   "name": "python",
   "nbconvert_exporter": "python",
   "pygments_lexer": "ipython3",
   "version": "3.11.4"
  },
  "vscode": {
   "interpreter": {
    "hash": "fb77006a34bae7b3455bf1af19d13801d1160b5407ef5c8323378eef03722c93"
   }
  }
 },
 "nbformat": 4,
 "nbformat_minor": 5
}
