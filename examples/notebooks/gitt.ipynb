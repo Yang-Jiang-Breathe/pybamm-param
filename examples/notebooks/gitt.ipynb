{
 "cells": [
  {
   "cell_type": "markdown",
   "id": "1ee4c0db",
   "metadata": {},
   "source": [
    "# **Parameter Optimisation for GITT** \n",
    "\n",
    "This notebook is created to provide an example for ```GITT``` optimisation problem. Diffisuion Coefficient is optimised in this notebook. Only voltage will be considered for optimisation in this example.\n",
    " The workflow is as follows:\n"
   ]
  },
  {
   "cell_type": "code",
   "execution_count": 1,
   "id": "5ba4b709",
   "metadata": {},
   "outputs": [],
   "source": [
    "#%pip install git+https://github.com/paramm-team/pybamm-param.git -q\n",
    "import pybamm\n",
    "import pbparam\n",
    "import pandas as pd"
   ]
  },
  {
   "cell_type": "markdown",
   "id": "f087e770",
   "metadata": {},
   "source": [
    "We are creating a syntethic data first."
   ]
  },
  {
   "cell_type": "code",
   "execution_count": 2,
   "id": "ea2c6d41",
   "metadata": {},
   "outputs": [],
   "source": [
    "syn_model = pybamm.lithium_ion.SPM()"
   ]
  },
  {
   "cell_type": "code",
   "execution_count": 3,
   "id": "a7d1e9fa",
   "metadata": {},
   "outputs": [],
   "source": [
    "syn_param = syn_model.default_parameter_values\n",
    "\n",
    "syn_param.update(\n",
    "            {\n",
    "                \"Reference OCP [V]\": 4.2,\n",
    "                \"Derivative of the OCP wrt stoichiometry [V]\": -1,\n",
    "                \"Contact resistance [Ohm]\": 0.1,\n",
    "                \"Positive electrode diffusivity [m2.s-1]\": 4e-15\n",
    "                },\n",
    "            check_already_exists=False,\n",
    "        )\n",
    "\n",
    "syn_sim = pybamm.Simulation(syn_model, parameter_values=syn_param)\n",
    "syn_solution = syn_sim.solve([0, 100])"
   ]
  },
  {
   "cell_type": "code",
   "execution_count": 4,
   "id": "ff238811",
   "metadata": {},
   "outputs": [
    {
     "data": {
      "application/vnd.jupyter.widget-view+json": {
       "model_id": "6539b2807b184d818fe73a44596b67e6",
       "version_major": 2,
       "version_minor": 0
      },
      "text/plain": [
       "interactive(children=(FloatSlider(value=0.0, description='t', step=1.0), Output()), _dom_classes=('widget-inte…"
      ]
     },
     "metadata": {},
     "output_type": "display_data"
    },
    {
     "data": {
      "text/plain": [
       "<pybamm.plotting.quick_plot.QuickPlot at 0x153f93050>"
      ]
     },
     "execution_count": 4,
     "metadata": {},
     "output_type": "execute_result"
    }
   ],
   "source": [
    "syn_solution.plot(['Voltage [V]'])"
   ]
  },
  {
   "cell_type": "code",
   "execution_count": 5,
   "id": "6bc43581",
   "metadata": {},
   "outputs": [],
   "source": [
    "d = {'Time [s]':syn_solution[\"Time [s]\"].entries, 'Voltage [V]': syn_solution[\"Voltage [V]\"].entries}\n",
    "\n",
    "data = pd.DataFrame(data = d)"
   ]
  },
  {
   "cell_type": "markdown",
   "id": "1618f776",
   "metadata": {},
   "source": [
    "PbParam model to be used for parameter optimisation needs to be defined:"
   ]
  },
  {
   "cell_type": "code",
   "execution_count": 6,
   "id": "04906531",
   "metadata": {},
   "outputs": [],
   "source": [
    "model = pbparam.WeppnerHuggins()"
   ]
  },
  {
   "cell_type": "markdown",
   "id": "6684dc63",
   "metadata": {},
   "source": [
    "Rest of the PyBaMM simulation requirements and initial parameters defined here:"
   ]
  },
  {
   "cell_type": "code",
   "execution_count": 7,
   "id": "a39ab05a",
   "metadata": {},
   "outputs": [],
   "source": [
    "param_dict={\n",
    "        #\"Reference OCP [V]\": 4.2,\n",
    "        #\"Derivative of the OCP wrt stoichiometry [V]\": -1,\n",
    "        \"Current function [A]\": 0.680616,\n",
    "        \"Number of electrodes connected in parallel to make a cell\": 1.0,\n",
    "        \"Electrode width [m]\": 0.207,\n",
    "        \"Electrode height [m]\": 0.137,\n",
    "        \"Positive electrode active material volume fraction\": 0.5,\n",
    "        \"Positive particle radius [m]\": 1e-05,\n",
    "        \"Positive electrode thickness [m]\": 0.0001,\n",
    "        #\"Positive electrode diffusivity [m2.s-1]\": 5e-14,\n",
    "    }"
   ]
  },
  {
   "cell_type": "code",
   "execution_count": 8,
   "id": "bee6ce22",
   "metadata": {},
   "outputs": [
    {
     "ename": "AttributeError",
     "evalue": "'NoneType' object has no attribute 'parameter_values'",
     "output_type": "error",
     "traceback": [
      "\u001b[0;31m---------------------------------------------------------------------------\u001b[0m",
      "\u001b[0;31mAttributeError\u001b[0m                            Traceback (most recent call last)",
      "Cell \u001b[0;32mIn[8], line 2\u001b[0m\n\u001b[1;32m      1\u001b[0m \u001b[39m# optimisation problem is GITT.\u001b[39;00m\n\u001b[0;32m----> 2\u001b[0m opt \u001b[39m=\u001b[39m pbparam\u001b[39m.\u001b[39;49mGITT(param_dict\u001b[39m=\u001b[39;49mparam_dict,model\u001b[39m=\u001b[39;49mmodel, data\u001b[39m=\u001b[39;49mdata)\n",
      "File \u001b[0;32m~/Documents/GitHub/pybamm-param/pbparam/optimisation_problems/gitt.py:52\u001b[0m, in \u001b[0;36mGITT.__init__\u001b[0;34m(self, param_dict, model, data, cost_function, solve_options)\u001b[0m\n\u001b[1;32m     49\u001b[0m simulation \u001b[39m=\u001b[39m pybamm\u001b[39m.\u001b[39mSimulation(model, parameter_values\u001b[39m=\u001b[39mparam_dict)\n\u001b[1;32m     50\u001b[0m model \u001b[39m=\u001b[39m simulation\n\u001b[0;32m---> 52\u001b[0m \u001b[39mself\u001b[39;49m\u001b[39m.\u001b[39;49mcollect_parameters(solve_options)\n\u001b[1;32m     53\u001b[0m \u001b[39mself\u001b[39m\u001b[39m.\u001b[39mupdate_simulation_parameters(simulation)\n",
      "File \u001b[0;32m~/Documents/GitHub/pybamm-param/pbparam/optimisation_problems/base_optimisation_problem.py:133\u001b[0m, in \u001b[0;36mBaseOptimisationProblem.collect_parameters\u001b[0;34m(self, solve_options)\u001b[0m\n\u001b[1;32m    127\u001b[0m \u001b[39mself\u001b[39m\u001b[39m.\u001b[39mjoint_parameters \u001b[39m=\u001b[39m {\n\u001b[1;32m    128\u001b[0m     \u001b[39m*\u001b[39m\u001b[39m*\u001b[39m\u001b[39mself\u001b[39m\u001b[39m.\u001b[39mparameters,\n\u001b[1;32m    129\u001b[0m     \u001b[39m*\u001b[39m\u001b[39m*\u001b[39m\u001b[39mself\u001b[39m\u001b[39m.\u001b[39mcost_function_parameters,\n\u001b[1;32m    130\u001b[0m }\n\u001b[1;32m    132\u001b[0m \u001b[39m# Initialise the parameters_values dictionary\u001b[39;00m\n\u001b[0;32m--> 133\u001b[0m \u001b[39mself\u001b[39m\u001b[39m.\u001b[39mparameter_values \u001b[39m=\u001b[39m \u001b[39mself\u001b[39;49m\u001b[39m.\u001b[39;49mmodel\u001b[39m.\u001b[39;49mparameter_values\u001b[39m.\u001b[39mcopy()\n\u001b[1;32m    135\u001b[0m \u001b[39m# Initialise the dictionary to map each parameter to optimise to the index of x\u001b[39;00m\n\u001b[1;32m    136\u001b[0m \u001b[39m# it corresponds to\u001b[39;00m\n\u001b[1;32m    137\u001b[0m \u001b[39mself\u001b[39m\u001b[39m.\u001b[39m_process_parameters()\n",
      "\u001b[0;31mAttributeError\u001b[0m: 'NoneType' object has no attribute 'parameter_values'"
     ]
    }
   ],
   "source": [
    "# optimisation problem is GITT.\n",
    "opt = pbparam.GITT(param_dict=param_dict,model=model, data=data)"
   ]
  },
  {
   "cell_type": "markdown",
   "id": "f90fe4c2",
   "metadata": {},
   "source": [
    "Then, Optimisation method should be defined in this step. DiferentialEvolution(https://docs.scipy.org/doc/scipy/reference/generated/scipy.optimize.differential_evolution.html) or ScipyMinimize(https://docs.scipy.org/doc/scipy/reference/generated/scipy.optimize.minimize.html)\n",
    "\n",
    "can be used to minimise cost function. For faster results, ScipyMinimize with ```\"Nelder-Mead\"``` method can be used. However, ScipyDifferentialEvolution is more robust and has provided lower value for most of the cases. "
   ]
  },
  {
   "cell_type": "code",
   "execution_count": null,
   "id": "c64e899d",
   "metadata": {},
   "outputs": [],
   "source": [
    "optimiser = pbparam.ScipyDifferentialEvolution(\n",
    "    extra_options={\"workers\": 4, \"polish\": True, \"updating\": \"deferred\", \"disp\": True}\n",
    ")\n",
    "# optimiser = pbparam.ScipyMinimize(method=\"Nelder-Mead\")"
   ]
  },
  {
   "cell_type": "markdown",
   "id": "9ae438c5",
   "metadata": {},
   "source": [
    "After providing everything for optimisation algorithm, it can be performed using `optimise(optimisation_problem)`"
   ]
  },
  {
   "cell_type": "code",
   "execution_count": null,
   "id": "19d3f11a",
   "metadata": {},
   "outputs": [
    {
     "name": "stdout",
     "output_type": "stream",
     "text": [
      "None\n"
     ]
    },
    {
     "ename": "IndexError",
     "evalue": "tuple index out of range",
     "output_type": "error",
     "traceback": [
      "\u001b[0;31m---------------------------------------------------------------------------\u001b[0m",
      "\u001b[0;31mIndexError\u001b[0m                                Traceback (most recent call last)",
      "Cell \u001b[0;32mIn[10], line 1\u001b[0m\n\u001b[0;32m----> 1\u001b[0m result \u001b[39m=\u001b[39m optimiser\u001b[39m.\u001b[39;49moptimise(opt)\n\u001b[1;32m      2\u001b[0m \u001b[39m# optimised values of parameters and function values can be printed as below.\u001b[39;00m\n\u001b[1;32m      3\u001b[0m \u001b[39mprint\u001b[39m(result)\n",
      "File \u001b[0;32m~/Documents/GitHub/pybamm-param/pbparam/optimisers/base_optimiser.py:60\u001b[0m, in \u001b[0;36mBaseOptimiser.optimise\u001b[0;34m(self, optimisation_problem, x0, bounds, pybamm_logging_level)\u001b[0m\n\u001b[1;32m     58\u001b[0m \u001b[39mself\u001b[39m\u001b[39m.\u001b[39mbounds \u001b[39m=\u001b[39m bounds \u001b[39mor\u001b[39;00m optimisation_problem\u001b[39m.\u001b[39mbounds\n\u001b[1;32m     59\u001b[0m \u001b[39mprint\u001b[39m(\u001b[39mself\u001b[39m\u001b[39m.\u001b[39mbounds)\n\u001b[0;32m---> 60\u001b[0m result \u001b[39m=\u001b[39m \u001b[39mself\u001b[39;49m\u001b[39m.\u001b[39;49m_run_optimiser(optimisation_problem, \u001b[39mself\u001b[39;49m\u001b[39m.\u001b[39;49mx0, \u001b[39mself\u001b[39;49m\u001b[39m.\u001b[39;49mbounds)\n\u001b[1;32m     62\u001b[0m \u001b[39m# Restore original logging level\u001b[39;00m\n\u001b[1;32m     63\u001b[0m pybamm\u001b[39m.\u001b[39mset_logging_level(old_logging_level)\n",
      "File \u001b[0;32m~/Documents/GitHub/pybamm-param/pbparam/optimisers/scipy_differential_evolution.py:56\u001b[0m, in \u001b[0;36mScipyDifferentialEvolution._run_optimiser\u001b[0;34m(self, optimisation_problem, x0, bounds)\u001b[0m\n\u001b[1;32m     37\u001b[0m \u001b[39m\u001b[39m\u001b[39m\"\"\"\u001b[39;00m\n\u001b[1;32m     38\u001b[0m \u001b[39mRuns the optimization process.\u001b[39;00m\n\u001b[1;32m     39\u001b[0m \n\u001b[0;32m   (...)\u001b[0m\n\u001b[1;32m     53\u001b[0m \n\u001b[1;32m     54\u001b[0m \u001b[39m\"\"\"\u001b[39;00m\n\u001b[1;32m     55\u001b[0m timer \u001b[39m=\u001b[39m pybamm\u001b[39m.\u001b[39mTimer()\n\u001b[0;32m---> 56\u001b[0m raw_result \u001b[39m=\u001b[39m differential_evolution(\n\u001b[1;32m     57\u001b[0m     optimisation_problem\u001b[39m.\u001b[39;49mobjective_function,\n\u001b[1;32m     58\u001b[0m     bounds,\n\u001b[1;32m     59\u001b[0m     x0\u001b[39m=\u001b[39;49mx0,\n\u001b[1;32m     60\u001b[0m     \u001b[39m*\u001b[39;49m\u001b[39m*\u001b[39;49m\u001b[39mself\u001b[39;49m\u001b[39m.\u001b[39;49mextra_options,\n\u001b[1;32m     61\u001b[0m )\n\u001b[1;32m     62\u001b[0m solve_time \u001b[39m=\u001b[39m timer\u001b[39m.\u001b[39mtime()\n\u001b[1;32m     63\u001b[0m \u001b[39mif\u001b[39;00m optimisation_problem\u001b[39m.\u001b[39mscalings \u001b[39mis\u001b[39;00m \u001b[39mNone\u001b[39;00m:\n",
      "File \u001b[0;32m/Library/Frameworks/Python.framework/Versions/3.11/lib/python3.11/site-packages/scipy/optimize/_differentialevolution.py:387\u001b[0m, in \u001b[0;36mdifferential_evolution\u001b[0;34m(func, bounds, args, strategy, maxiter, popsize, tol, mutation, recombination, seed, callback, disp, polish, init, atol, updating, workers, constraints, x0, integrality, vectorized)\u001b[0m\n\u001b[1;32m     29\u001b[0m \u001b[39m\u001b[39m\u001b[39m\"\"\"Finds the global minimum of a multivariate function.\u001b[39;00m\n\u001b[1;32m     30\u001b[0m \n\u001b[1;32m     31\u001b[0m \u001b[39mThe differential evolution method [1]_ is stochastic in nature. It does\u001b[39;00m\n\u001b[0;32m   (...)\u001b[0m\n\u001b[1;32m    382\u001b[0m \n\u001b[1;32m    383\u001b[0m \u001b[39m\"\"\"\u001b[39;00m\n\u001b[1;32m    385\u001b[0m \u001b[39m# using a context manager means that any created Pool objects are\u001b[39;00m\n\u001b[1;32m    386\u001b[0m \u001b[39m# cleared up.\u001b[39;00m\n\u001b[0;32m--> 387\u001b[0m \u001b[39mwith\u001b[39;00m DifferentialEvolutionSolver(func, bounds, args\u001b[39m=\u001b[39;49margs,\n\u001b[1;32m    388\u001b[0m                                  strategy\u001b[39m=\u001b[39;49mstrategy,\n\u001b[1;32m    389\u001b[0m                                  maxiter\u001b[39m=\u001b[39;49mmaxiter,\n\u001b[1;32m    390\u001b[0m                                  popsize\u001b[39m=\u001b[39;49mpopsize, tol\u001b[39m=\u001b[39;49mtol,\n\u001b[1;32m    391\u001b[0m                                  mutation\u001b[39m=\u001b[39;49mmutation,\n\u001b[1;32m    392\u001b[0m                                  recombination\u001b[39m=\u001b[39;49mrecombination,\n\u001b[1;32m    393\u001b[0m                                  seed\u001b[39m=\u001b[39;49mseed, polish\u001b[39m=\u001b[39;49mpolish,\n\u001b[1;32m    394\u001b[0m                                  callback\u001b[39m=\u001b[39;49mcallback,\n\u001b[1;32m    395\u001b[0m                                  disp\u001b[39m=\u001b[39;49mdisp, init\u001b[39m=\u001b[39;49minit, atol\u001b[39m=\u001b[39;49matol,\n\u001b[1;32m    396\u001b[0m                                  updating\u001b[39m=\u001b[39;49mupdating,\n\u001b[1;32m    397\u001b[0m                                  workers\u001b[39m=\u001b[39;49mworkers,\n\u001b[1;32m    398\u001b[0m                                  constraints\u001b[39m=\u001b[39;49mconstraints,\n\u001b[1;32m    399\u001b[0m                                  x0\u001b[39m=\u001b[39;49mx0,\n\u001b[1;32m    400\u001b[0m                                  integrality\u001b[39m=\u001b[39;49mintegrality,\n\u001b[1;32m    401\u001b[0m                                  vectorized\u001b[39m=\u001b[39;49mvectorized) \u001b[39mas\u001b[39;00m solver:\n\u001b[1;32m    402\u001b[0m     ret \u001b[39m=\u001b[39m solver\u001b[39m.\u001b[39msolve()\n\u001b[1;32m    404\u001b[0m \u001b[39mreturn\u001b[39;00m ret\n",
      "File \u001b[0;32m/Library/Frameworks/Python.framework/Versions/3.11/lib/python3.11/site-packages/scipy/optimize/_differentialevolution.py:701\u001b[0m, in \u001b[0;36mDifferentialEvolutionSolver.__init__\u001b[0;34m(self, func, bounds, args, strategy, maxiter, popsize, tol, mutation, recombination, seed, maxfun, callback, disp, polish, init, atol, updating, workers, constraints, x0, integrality, vectorized)\u001b[0m\n\u001b[1;32m    698\u001b[0m \u001b[39melse\u001b[39;00m:\n\u001b[1;32m    699\u001b[0m     \u001b[39mself\u001b[39m\u001b[39m.\u001b[39mlimits \u001b[39m=\u001b[39m np\u001b[39m.\u001b[39marray(bounds, dtype\u001b[39m=\u001b[39m\u001b[39m'\u001b[39m\u001b[39mfloat\u001b[39m\u001b[39m'\u001b[39m)\u001b[39m.\u001b[39mT\n\u001b[0;32m--> 701\u001b[0m \u001b[39mif\u001b[39;00m (np\u001b[39m.\u001b[39;49msize(\u001b[39mself\u001b[39;49m\u001b[39m.\u001b[39;49mlimits, \u001b[39m0\u001b[39;49m) \u001b[39m!=\u001b[39m \u001b[39m2\u001b[39m \u001b[39mor\u001b[39;00m \u001b[39mnot\u001b[39;00m\n\u001b[1;32m    702\u001b[0m         np\u001b[39m.\u001b[39mall(np\u001b[39m.\u001b[39misfinite(\u001b[39mself\u001b[39m\u001b[39m.\u001b[39mlimits))):\n\u001b[1;32m    703\u001b[0m     \u001b[39mraise\u001b[39;00m \u001b[39mValueError\u001b[39;00m(\u001b[39m'\u001b[39m\u001b[39mbounds should be a sequence containing \u001b[39m\u001b[39m'\u001b[39m\n\u001b[1;32m    704\u001b[0m                      \u001b[39m'\u001b[39m\u001b[39mreal valued (min, max) pairs for each value\u001b[39m\u001b[39m'\u001b[39m\n\u001b[1;32m    705\u001b[0m                      \u001b[39m'\u001b[39m\u001b[39m in x\u001b[39m\u001b[39m'\u001b[39m)\n\u001b[1;32m    707\u001b[0m \u001b[39mif\u001b[39;00m maxiter \u001b[39mis\u001b[39;00m \u001b[39mNone\u001b[39;00m:  \u001b[39m# the default used to be None\u001b[39;00m\n",
      "File \u001b[0;32m<__array_function__ internals>:200\u001b[0m, in \u001b[0;36msize\u001b[0;34m(*args, **kwargs)\u001b[0m\n",
      "File \u001b[0;32m/Library/Frameworks/Python.framework/Versions/3.11/lib/python3.11/site-packages/numpy/core/fromnumeric.py:3236\u001b[0m, in \u001b[0;36msize\u001b[0;34m(a, axis)\u001b[0m\n\u001b[1;32m   3234\u001b[0m \u001b[39melse\u001b[39;00m:\n\u001b[1;32m   3235\u001b[0m     \u001b[39mtry\u001b[39;00m:\n\u001b[0;32m-> 3236\u001b[0m         \u001b[39mreturn\u001b[39;00m a\u001b[39m.\u001b[39;49mshape[axis]\n\u001b[1;32m   3237\u001b[0m     \u001b[39mexcept\u001b[39;00m \u001b[39mAttributeError\u001b[39;00m:\n\u001b[1;32m   3238\u001b[0m         \u001b[39mreturn\u001b[39;00m asarray(a)\u001b[39m.\u001b[39mshape[axis]\n",
      "\u001b[0;31mIndexError\u001b[0m: tuple index out of range"
     ]
    }
   ],
   "source": [
    "result = optimiser.optimise(opt)\n",
    "# optimised values of parameters and function values can be printed as below.\n",
    "print(result)"
   ]
  },
  {
   "cell_type": "markdown",
   "id": "9ec5fd3a",
   "metadata": {},
   "source": [
    "```plot()``` function can be used to present result graphically."
   ]
  },
  {
   "cell_type": "code",
   "execution_count": null,
   "id": "cf38f942",
   "metadata": {},
   "outputs": [],
   "source": [
    "result.plot()"
   ]
  },
  {
   "cell_type": "code",
   "execution_count": null,
   "id": "6dcc3332",
   "metadata": {},
   "outputs": [],
   "source": []
  }
 ],
 "metadata": {
  "kernelspec": {
   "display_name": "Python 3 (ipykernel)",
   "language": "python",
   "name": "python3"
  },
  "language_info": {
   "codemirror_mode": {
    "name": "ipython",
    "version": 3
   },
   "file_extension": ".py",
   "mimetype": "text/x-python",
   "name": "python",
   "nbconvert_exporter": "python",
   "pygments_lexer": "ipython3",
   "version": "3.11.4"
  },
  "vscode": {
   "interpreter": {
    "hash": "fb77006a34bae7b3455bf1af19d13801d1160b5407ef5c8323378eef03722c93"
   }
  }
 },
 "nbformat": 4,
 "nbformat_minor": 5
}
