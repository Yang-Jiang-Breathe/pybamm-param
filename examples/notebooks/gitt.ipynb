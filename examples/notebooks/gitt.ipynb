{
 "cells": [
  {
   "cell_type": "markdown",
   "id": "1ee4c0db",
   "metadata": {},
   "source": [
    "# **Parameter Optimisation for GITT** \n",
    "\n",
    "This notebook is created to provide an example for ```GITT``` optimisation problem. Diffisuion Coefficient is optimised in this notebook. Only voltage will be considered for optimisation in this example.\n",
    " The workflow is as follows:\n"
   ]
  },
  {
   "cell_type": "code",
   "execution_count": 1,
   "id": "5ba4b709",
   "metadata": {},
   "outputs": [],
   "source": [
    "%pip install git+https://github.com/paramm-team/pybamm-param.git -q\n",
    "import pybamm\n",
    "import pbparam\n",
    "import pandas as pd\n",
    "import os\n",
    "os.chdir(os.path.join(pbparam.__path__[0], \"input\", \"data\"))"
   ]
  },
  {
   "cell_type": "markdown",
   "id": "77433a5f",
   "metadata": {},
   "source": [
    "We start by importing the example experimental dataset which corresponds to the [Brosa Planella et al. (2021) article](https://www.sciencedirect.com/science/article/pii/S0013468621008148)."
   ]
  },
  {
   "cell_type": "code",
   "execution_count": 3,
   "id": "9bfce968",
   "metadata": {},
   "outputs": [],
   "source": [
    "data = pd.read_csv(\"gitt.csv\")"
   ]
  },
  {
   "cell_type": "code",
   "execution_count": 4,
   "id": "ef5bef05",
   "metadata": {},
   "outputs": [
    {
     "data": {
      "text/html": [
       "<div>\n",
       "<style scoped>\n",
       "    .dataframe tbody tr th:only-of-type {\n",
       "        vertical-align: middle;\n",
       "    }\n",
       "\n",
       "    .dataframe tbody tr th {\n",
       "        vertical-align: top;\n",
       "    }\n",
       "\n",
       "    .dataframe thead th {\n",
       "        text-align: right;\n",
       "    }\n",
       "</style>\n",
       "<table border=\"1\" class=\"dataframe\">\n",
       "  <thead>\n",
       "    <tr style=\"text-align: right;\">\n",
       "      <th></th>\n",
       "      <th>Time [s]</th>\n",
       "      <th>Voltage [V]</th>\n",
       "      <th>Current [A]</th>\n",
       "      <th>Negative electrode potential [V]</th>\n",
       "      <th>Positive electrode potential [V]</th>\n",
       "    </tr>\n",
       "  </thead>\n",
       "  <tbody>\n",
       "    <tr>\n",
       "      <th>0</th>\n",
       "      <td>0.00</td>\n",
       "      <td>3.9590</td>\n",
       "      <td>5.000229</td>\n",
       "      <td>0.1871</td>\n",
       "      <td>3.7639</td>\n",
       "    </tr>\n",
       "    <tr>\n",
       "      <th>1</th>\n",
       "      <td>1.00</td>\n",
       "      <td>3.9536</td>\n",
       "      <td>4.999619</td>\n",
       "      <td>0.1855</td>\n",
       "      <td>3.7578</td>\n",
       "    </tr>\n",
       "    <tr>\n",
       "      <th>2</th>\n",
       "      <td>2.00</td>\n",
       "      <td>3.9498</td>\n",
       "      <td>4.999619</td>\n",
       "      <td>0.1842</td>\n",
       "      <td>3.7554</td>\n",
       "    </tr>\n",
       "    <tr>\n",
       "      <th>3</th>\n",
       "      <td>3.00</td>\n",
       "      <td>3.9469</td>\n",
       "      <td>5.000381</td>\n",
       "      <td>0.1836</td>\n",
       "      <td>3.7530</td>\n",
       "    </tr>\n",
       "    <tr>\n",
       "      <th>4</th>\n",
       "      <td>4.00</td>\n",
       "      <td>3.9445</td>\n",
       "      <td>4.999466</td>\n",
       "      <td>0.1828</td>\n",
       "      <td>3.7513</td>\n",
       "    </tr>\n",
       "    <tr>\n",
       "      <th>...</th>\n",
       "      <td>...</td>\n",
       "      <td>...</td>\n",
       "      <td>...</td>\n",
       "      <td>...</td>\n",
       "      <td>...</td>\n",
       "    </tr>\n",
       "    <tr>\n",
       "      <th>146</th>\n",
       "      <td>146.00</td>\n",
       "      <td>3.8766</td>\n",
       "      <td>5.000687</td>\n",
       "      <td>0.1610</td>\n",
       "      <td>3.7053</td>\n",
       "    </tr>\n",
       "    <tr>\n",
       "      <th>147</th>\n",
       "      <td>147.00</td>\n",
       "      <td>3.8764</td>\n",
       "      <td>4.999924</td>\n",
       "      <td>0.1610</td>\n",
       "      <td>3.7052</td>\n",
       "    </tr>\n",
       "    <tr>\n",
       "      <th>148</th>\n",
       "      <td>148.00</td>\n",
       "      <td>3.8761</td>\n",
       "      <td>4.999924</td>\n",
       "      <td>0.1611</td>\n",
       "      <td>3.7052</td>\n",
       "    </tr>\n",
       "    <tr>\n",
       "      <th>149</th>\n",
       "      <td>149.00</td>\n",
       "      <td>3.8759</td>\n",
       "      <td>5.000839</td>\n",
       "      <td>0.1608</td>\n",
       "      <td>3.7050</td>\n",
       "    </tr>\n",
       "    <tr>\n",
       "      <th>150</th>\n",
       "      <td>149.29</td>\n",
       "      <td>3.8759</td>\n",
       "      <td>5.000381</td>\n",
       "      <td>0.1608</td>\n",
       "      <td>3.7050</td>\n",
       "    </tr>\n",
       "  </tbody>\n",
       "</table>\n",
       "<p>151 rows × 5 columns</p>\n",
       "</div>"
      ],
      "text/plain": [
       "     Time [s]  Voltage [V]  Current [A]  Negative electrode potential [V]  \\\n",
       "0        0.00       3.9590     5.000229                            0.1871   \n",
       "1        1.00       3.9536     4.999619                            0.1855   \n",
       "2        2.00       3.9498     4.999619                            0.1842   \n",
       "3        3.00       3.9469     5.000381                            0.1836   \n",
       "4        4.00       3.9445     4.999466                            0.1828   \n",
       "..        ...          ...          ...                               ...   \n",
       "146    146.00       3.8766     5.000687                            0.1610   \n",
       "147    147.00       3.8764     4.999924                            0.1610   \n",
       "148    148.00       3.8761     4.999924                            0.1611   \n",
       "149    149.00       3.8759     5.000839                            0.1608   \n",
       "150    149.29       3.8759     5.000381                            0.1608   \n",
       "\n",
       "     Positive electrode potential [V]  \n",
       "0                              3.7639  \n",
       "1                              3.7578  \n",
       "2                              3.7554  \n",
       "3                              3.7530  \n",
       "4                              3.7513  \n",
       "..                                ...  \n",
       "146                            3.7053  \n",
       "147                            3.7052  \n",
       "148                            3.7052  \n",
       "149                            3.7050  \n",
       "150                            3.7050  \n",
       "\n",
       "[151 rows x 5 columns]"
      ]
     },
     "execution_count": 4,
     "metadata": {},
     "output_type": "execute_result"
    }
   ],
   "source": [
    "data"
   ]
  },
  {
   "cell_type": "markdown",
   "id": "1618f776",
   "metadata": {},
   "source": [
    "PyBaMM model to be used for parameter optimisation needs to be defined:"
   ]
  },
  {
   "cell_type": "code",
   "execution_count": 5,
   "id": "04906531",
   "metadata": {},
   "outputs": [],
   "source": [
    "model = pbparam.WeppnerHuggins()"
   ]
  },
  {
   "cell_type": "markdown",
   "id": "6684dc63",
   "metadata": {},
   "source": [
    "Rest of the PyBaMM simulation requirements and initial parameters defined here:"
   ]
  },
  {
   "cell_type": "code",
   "execution_count": 6,
   "id": "05d9343e",
   "metadata": {},
   "outputs": [],
   "source": [
    "param = model.default_parameter_values # Initial parameters to be used.\n",
    "\n",
    "# Update some parameters to match the experimental setup\n",
    "param.update(\n",
    "    {\n",
    "        \"Reference OCP [V]\": 4.2,\n",
    "        \"Derivative of the OCP wrt stoichiometry [V]\": -1,\n",
    "        \"Positive electrode diffusivity [m2.s-1]\": 4e-15\n",
    "    },\n",
    "    check_already_exists=False,\n",
    ")\n",
    "\n",
    "simulation = pybamm.Simulation(model, parameter_values=param)"
   ]
  },
  {
   "cell_type": "markdown",
   "id": "05e8a583",
   "metadata": {},
   "source": [
    "PyBaMM-param needs a dictionary for parameters to be optimised in ```{\"parameter name\": (initial guess, (lower bound, upper bound))}```"
   ]
  },
  {
   "cell_type": "code",
   "execution_count": 6,
   "id": "f56883ae",
   "metadata": {},
   "outputs": [],
   "source": [
    "param_optimise = {\n",
    "    \"Positive electrode diffusivity [m2.s-1]\": (5e-14, (2.06e-16, 2.06e-12)),\n",
    "}"
   ]
  },
  {
   "cell_type": "code",
   "execution_count": 7,
   "id": "bee6ce22",
   "metadata": {},
   "outputs": [],
   "source": [
    "# Since this is a parameter optimisation with fitting data into experimental data, optimisation problem is DataFit.\n",
    "opt = pbparam.GITT(simulation, data)"
   ]
  },
  {
   "cell_type": "markdown",
   "id": "f90fe4c2",
   "metadata": {},
   "source": [
    "Then, Optimisation method should be defined in this step. DiferentialEvolution(https://docs.scipy.org/doc/scipy/reference/generated/scipy.optimize.differential_evolution.html) or ScipyMinimize(https://docs.scipy.org/doc/scipy/reference/generated/scipy.optimize.minimize.html)\n",
    "\n",
    "can be used to minimise cost function. For faster results, ScipyMinimize with ```\"Nelder-Mead\"``` method can be used. However, ScipyDifferentialEvolution is more robust and has provided lower value for most of the cases. "
   ]
  },
  {
   "cell_type": "code",
   "execution_count": 8,
   "id": "c64e899d",
   "metadata": {},
   "outputs": [],
   "source": [
    "# optimiser = pbparam.ScipyDifferentialEvolution(\n",
    "    # extra_options={\"workers\": 4, \"polish\": True, \"updating\": \"deferred\", \"disp\": True}\n",
    "# )\n",
    "optimiser = pbparam.ScipyMinimize(method=\"Nelder-Mead\")"
   ]
  },
  {
   "cell_type": "markdown",
   "id": "9ae438c5",
   "metadata": {},
   "source": [
    "After providing everything for optimisation algorithm, it can be performed using `optimise(optimisation_problem)`"
   ]
  },
  {
   "cell_type": "code",
   "execution_count": 9,
   "id": "19d3f11a",
   "metadata": {},
   "outputs": [
    {
     "name": "stdout",
     "output_type": "stream",
     "text": [
      "\n",
      "             Optimal values: [5.e-14]\n",
      "        Cost function value: 370.67212101452776\n",
      "                 Solve time: 79.609 ms\n",
      "                    Message: Optimization terminated successfully.\n",
      "        \n"
     ]
    }
   ],
   "source": [
    "result = optimiser.optimise(opt)\n",
    "# optimised values of parameters and function values can be printed as below.\n",
    "print(result)"
   ]
  },
  {
   "cell_type": "markdown",
   "id": "9ec5fd3a",
   "metadata": {},
   "source": [
    "```plot()``` function can be used to present result graphically."
   ]
  },
  {
   "cell_type": "code",
   "execution_count": 10,
   "id": "cf38f942",
   "metadata": {},
   "outputs": [
    {
     "ename": "AttributeError",
     "evalue": "'GITT' object has no attribute 'simulation'",
     "output_type": "error",
     "traceback": [
      "\u001b[0;31m---------------------------------------------------------------------------\u001b[0m",
      "\u001b[0;31mAttributeError\u001b[0m                            Traceback (most recent call last)",
      "Cell \u001b[0;32mIn[10], line 1\u001b[0m\n\u001b[0;32m----> 1\u001b[0m result\u001b[39m.\u001b[39;49mplot()\n",
      "File \u001b[0;32m~/Documents/GitHub/pybamm-param/pbparam/optimisation_result.py:68\u001b[0m, in \u001b[0;36mOptimisationResult.plot\u001b[0;34m(self, testing)\u001b[0m\n\u001b[1;32m     53\u001b[0m \u001b[39m\u001b[39m\u001b[39m\"\"\"\u001b[39;00m\n\u001b[1;32m     54\u001b[0m \u001b[39mPlot the optimisation result.\u001b[39;00m\n\u001b[1;32m     55\u001b[0m \n\u001b[0;32m   (...)\u001b[0m\n\u001b[1;32m     64\u001b[0m \u001b[39m    The plot object.\u001b[39;00m\n\u001b[1;32m     65\u001b[0m \u001b[39m\"\"\"\u001b[39;00m\n\u001b[1;32m     66\u001b[0m \u001b[39mimport\u001b[39;00m \u001b[39mmatplotlib\u001b[39;00m\u001b[39m.\u001b[39;00m\u001b[39mpyplot\u001b[39;00m \u001b[39mas\u001b[39;00m \u001b[39mplt\u001b[39;00m\n\u001b[0;32m---> 68\u001b[0m plot \u001b[39m=\u001b[39m \u001b[39mself\u001b[39;49m\u001b[39m.\u001b[39;49moptimisation_problem\u001b[39m.\u001b[39;49m_plot(\u001b[39mself\u001b[39;49m\u001b[39m.\u001b[39;49mx)\n\u001b[1;32m     70\u001b[0m \u001b[39mif\u001b[39;00m \u001b[39mnot\u001b[39;00m testing:  \u001b[39m# pragma: no cover\u001b[39;00m\n\u001b[1;32m     71\u001b[0m     plt\u001b[39m.\u001b[39mshow()\n",
      "File \u001b[0;32m~/Documents/GitHub/pybamm-param/pbparam/optimisation_problems/gitt.py:119\u001b[0m, in \u001b[0;36mGITT._plot\u001b[0;34m(self, x_optimal)\u001b[0m\n\u001b[1;32m    103\u001b[0m \u001b[39m\u001b[39m\u001b[39m\"\"\"\u001b[39;00m\n\u001b[1;32m    104\u001b[0m \u001b[39mPlot the optimization result. Should be accessed through the OptimizationResult\u001b[39;00m\n\u001b[1;32m    105\u001b[0m \u001b[39mplot method.\u001b[39;00m\n\u001b[0;32m   (...)\u001b[0m\n\u001b[1;32m    115\u001b[0m \u001b[39m    The plot of the optimization result\u001b[39;00m\n\u001b[1;32m    116\u001b[0m \u001b[39m\"\"\"\u001b[39;00m\n\u001b[1;32m    118\u001b[0m \u001b[39m# calculate the solution for the initial and optimal parameters\u001b[39;00m\n\u001b[0;32m--> 119\u001b[0m initial_solution \u001b[39m=\u001b[39m \u001b[39mself\u001b[39;49m\u001b[39m.\u001b[39;49mcalculate_solution()\n\u001b[1;32m    120\u001b[0m optimal_solution \u001b[39m=\u001b[39m \u001b[39mself\u001b[39m\u001b[39m.\u001b[39mcalculate_solution(x_optimal)\n\u001b[1;32m    122\u001b[0m \u001b[39m# create a quick plot\u001b[39;00m\n",
      "File \u001b[0;32m~/Documents/GitHub/pybamm-param/pbparam/optimisation_problems/gitt.py:89\u001b[0m, in \u001b[0;36mGITT.calculate_solution\u001b[0;34m(self, parameters)\u001b[0m\n\u001b[1;32m     86\u001b[0m     inputs \u001b[39m=\u001b[39m {param: parameters[i] \u001b[39mfor\u001b[39;00m param, i \u001b[39min\u001b[39;00m \u001b[39mself\u001b[39m\u001b[39m.\u001b[39mmap_inputs\u001b[39m.\u001b[39mitems()}\n\u001b[1;32m     88\u001b[0m \u001b[39m# Check if the simulation has an attribute \"experiment\"\u001b[39;00m\n\u001b[0;32m---> 89\u001b[0m \u001b[39mif\u001b[39;00m \u001b[39mgetattr\u001b[39m(\u001b[39mself\u001b[39;49m\u001b[39m.\u001b[39;49msimulation, \u001b[39m\"\u001b[39m\u001b[39mexperiment\u001b[39m\u001b[39m\"\u001b[39m, \u001b[39mNone\u001b[39;00m):\n\u001b[1;32m     90\u001b[0m     t_eval \u001b[39m=\u001b[39m \u001b[39mNone\u001b[39;00m\n\u001b[1;32m     91\u001b[0m \u001b[39melse\u001b[39;00m:\n\u001b[1;32m     92\u001b[0m     \u001b[39m# Use the final time from the data as t_eval if experiment is not present\u001b[39;00m\n",
      "\u001b[0;31mAttributeError\u001b[0m: 'GITT' object has no attribute 'simulation'"
     ]
    }
   ],
   "source": [
    "result.plot()"
   ]
  },
  {
   "cell_type": "code",
   "execution_count": null,
   "id": "d4478f98",
   "metadata": {},
   "outputs": [],
   "source": []
  }
 ],
 "metadata": {
  "kernelspec": {
   "display_name": "Python 3 (ipykernel)",
   "language": "python",
   "name": "python3"
  },
  "language_info": {
   "codemirror_mode": {
    "name": "ipython",
    "version": 3
   },
   "file_extension": ".py",
   "mimetype": "text/x-python",
   "name": "python",
   "nbconvert_exporter": "python",
   "pygments_lexer": "ipython3",
   "version": "3.11.4"
  },
  "vscode": {
   "interpreter": {
    "hash": "fb77006a34bae7b3455bf1af19d13801d1160b5407ef5c8323378eef03722c93"
   }
  }
 },
 "nbformat": 4,
 "nbformat_minor": 5
}
